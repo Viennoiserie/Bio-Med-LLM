{
  "cells": [
    {
      "cell_type": "code",
      "source": [
        "!pip install transformers\n",
        "!pip install torch\n",
        "!pip install einops"
      ],
      "metadata": {
        "colab": {
          "base_uri": "https://localhost:8080/"
        },
        "id": "-Gd47XA4nXbo",
        "outputId": "b91dee6f-cb42-4810-ab04-edcd147f29fa"
      },
      "execution_count": 1,
      "outputs": [
        {
          "output_type": "stream",
          "name": "stdout",
          "text": [
            "Requirement already satisfied: transformers in /usr/local/lib/python3.11/dist-packages (4.48.2)\n",
            "Requirement already satisfied: filelock in /usr/local/lib/python3.11/dist-packages (from transformers) (3.17.0)\n",
            "Requirement already satisfied: huggingface-hub<1.0,>=0.24.0 in /usr/local/lib/python3.11/dist-packages (from transformers) (0.28.1)\n",
            "Requirement already satisfied: numpy>=1.17 in /usr/local/lib/python3.11/dist-packages (from transformers) (1.26.4)\n",
            "Requirement already satisfied: packaging>=20.0 in /usr/local/lib/python3.11/dist-packages (from transformers) (24.2)\n",
            "Requirement already satisfied: pyyaml>=5.1 in /usr/local/lib/python3.11/dist-packages (from transformers) (6.0.2)\n",
            "Requirement already satisfied: regex!=2019.12.17 in /usr/local/lib/python3.11/dist-packages (from transformers) (2024.11.6)\n",
            "Requirement already satisfied: requests in /usr/local/lib/python3.11/dist-packages (from transformers) (2.32.3)\n",
            "Requirement already satisfied: tokenizers<0.22,>=0.21 in /usr/local/lib/python3.11/dist-packages (from transformers) (0.21.0)\n",
            "Requirement already satisfied: safetensors>=0.4.1 in /usr/local/lib/python3.11/dist-packages (from transformers) (0.5.2)\n",
            "Requirement already satisfied: tqdm>=4.27 in /usr/local/lib/python3.11/dist-packages (from transformers) (4.67.1)\n",
            "Requirement already satisfied: fsspec>=2023.5.0 in /usr/local/lib/python3.11/dist-packages (from huggingface-hub<1.0,>=0.24.0->transformers) (2024.10.0)\n",
            "Requirement already satisfied: typing-extensions>=3.7.4.3 in /usr/local/lib/python3.11/dist-packages (from huggingface-hub<1.0,>=0.24.0->transformers) (4.12.2)\n",
            "Requirement already satisfied: charset-normalizer<4,>=2 in /usr/local/lib/python3.11/dist-packages (from requests->transformers) (3.4.1)\n",
            "Requirement already satisfied: idna<4,>=2.5 in /usr/local/lib/python3.11/dist-packages (from requests->transformers) (3.10)\n",
            "Requirement already satisfied: urllib3<3,>=1.21.1 in /usr/local/lib/python3.11/dist-packages (from requests->transformers) (2.3.0)\n",
            "Requirement already satisfied: certifi>=2017.4.17 in /usr/local/lib/python3.11/dist-packages (from requests->transformers) (2025.1.31)\n",
            "Requirement already satisfied: torch in /usr/local/lib/python3.11/dist-packages (2.5.1+cu124)\n",
            "Requirement already satisfied: filelock in /usr/local/lib/python3.11/dist-packages (from torch) (3.17.0)\n",
            "Requirement already satisfied: typing-extensions>=4.8.0 in /usr/local/lib/python3.11/dist-packages (from torch) (4.12.2)\n",
            "Requirement already satisfied: networkx in /usr/local/lib/python3.11/dist-packages (from torch) (3.4.2)\n",
            "Requirement already satisfied: jinja2 in /usr/local/lib/python3.11/dist-packages (from torch) (3.1.5)\n",
            "Requirement already satisfied: fsspec in /usr/local/lib/python3.11/dist-packages (from torch) (2024.10.0)\n",
            "Requirement already satisfied: nvidia-cuda-nvrtc-cu12==12.4.127 in /usr/local/lib/python3.11/dist-packages (from torch) (12.4.127)\n",
            "Requirement already satisfied: nvidia-cuda-runtime-cu12==12.4.127 in /usr/local/lib/python3.11/dist-packages (from torch) (12.4.127)\n",
            "Requirement already satisfied: nvidia-cuda-cupti-cu12==12.4.127 in /usr/local/lib/python3.11/dist-packages (from torch) (12.4.127)\n",
            "Requirement already satisfied: nvidia-cudnn-cu12==9.1.0.70 in /usr/local/lib/python3.11/dist-packages (from torch) (9.1.0.70)\n",
            "Requirement already satisfied: nvidia-cublas-cu12==12.4.5.8 in /usr/local/lib/python3.11/dist-packages (from torch) (12.4.5.8)\n",
            "Requirement already satisfied: nvidia-cufft-cu12==11.2.1.3 in /usr/local/lib/python3.11/dist-packages (from torch) (11.2.1.3)\n",
            "Requirement already satisfied: nvidia-curand-cu12==10.3.5.147 in /usr/local/lib/python3.11/dist-packages (from torch) (10.3.5.147)\n",
            "Requirement already satisfied: nvidia-cusolver-cu12==11.6.1.9 in /usr/local/lib/python3.11/dist-packages (from torch) (11.6.1.9)\n",
            "Requirement already satisfied: nvidia-cusparse-cu12==12.3.1.170 in /usr/local/lib/python3.11/dist-packages (from torch) (12.3.1.170)\n",
            "Requirement already satisfied: nvidia-nccl-cu12==2.21.5 in /usr/local/lib/python3.11/dist-packages (from torch) (2.21.5)\n",
            "Requirement already satisfied: nvidia-nvtx-cu12==12.4.127 in /usr/local/lib/python3.11/dist-packages (from torch) (12.4.127)\n",
            "Requirement already satisfied: nvidia-nvjitlink-cu12==12.4.127 in /usr/local/lib/python3.11/dist-packages (from torch) (12.4.127)\n",
            "Requirement already satisfied: triton==3.1.0 in /usr/local/lib/python3.11/dist-packages (from torch) (3.1.0)\n",
            "Requirement already satisfied: sympy==1.13.1 in /usr/local/lib/python3.11/dist-packages (from torch) (1.13.1)\n",
            "Requirement already satisfied: mpmath<1.4,>=1.1.0 in /usr/local/lib/python3.11/dist-packages (from sympy==1.13.1->torch) (1.3.0)\n",
            "Requirement already satisfied: MarkupSafe>=2.0 in /usr/local/lib/python3.11/dist-packages (from jinja2->torch) (3.0.2)\n",
            "Requirement already satisfied: einops in /usr/local/lib/python3.11/dist-packages (0.8.0)\n"
          ]
        }
      ]
    },
    {
      "cell_type": "markdown",
      "source": [
        "### Load dataset"
      ],
      "metadata": {
        "id": "PF6rN9tWnWzn"
      }
    },
    {
      "cell_type": "code",
      "source": [
        "import pandas as pd\n",
        "import numpy as np\n",
        "\n",
        "aml = pd.read_csv('combined_data.csv', sep=\",\", on_bad_lines=\"skip\")\n",
        "# Transpose the data\n",
        "data = aml.transpose()\n",
        "# Extract the first row and assign it as column names\n",
        "data.columns = data.iloc[0]\n",
        "data = data[1:]\n",
        "# Reset index\n",
        "data.reset_index(drop=True, inplace=True)\n",
        "print(data.head())\n",
        "print(\"\\nMatrix dimensions:\", data.shape)"
      ],
      "metadata": {
        "colab": {
          "base_uri": "https://localhost:8080/"
        },
        "id": "vp_QQnS7nnCt",
        "outputId": "351f5c59-a79b-4b87-f600-4d7e79bf7f68"
      },
      "execution_count": 2,
      "outputs": [
        {
          "output_type": "stream",
          "name": "stdout",
          "text": [
            "Unnamed: 0 X..100130426 X..100133144 X..100134869  X..26823 X..340602  \\\n",
            "0             -16.60964     4.191342    -16.60964 -16.60964 -16.60964   \n",
            "1             -16.60964    -16.60964     2.212292 -0.372748 -0.372748   \n",
            "2             -16.60964    -16.60964    -0.385884 -0.385884  2.784108   \n",
            "3              0.188287     1.823672     1.631016 -16.60964 -16.60964   \n",
            "4             -16.60964    -16.60964     1.491089  2.298427  0.491094   \n",
            "\n",
            "Unnamed: 0 X..388795 X..391343 X..391714 X..441362 X..652919  ... hsa.mir.942  \\\n",
            "0           3.402846 -16.60964 -16.60964 -16.60964  5.228819  ...    5.782562   \n",
            "1           1.212264 -16.60964  2.797243 -16.60964   5.05359  ...    5.488771   \n",
            "2           2.421536 -16.60964 -16.60964  1.936105 -16.60964  ...    2.727764   \n",
            "3           1.145619 -16.60964  0.145625 -16.60964  3.302657  ...    7.015997   \n",
            "4           1.491089 -16.60964  0.491094 -16.60964  5.948856  ...    5.369449   \n",
            "\n",
            "Unnamed: 0 hsa.mir.943 hsa.mir.944 hsa.mir.95 hsa.mir.96 hsa.mir.98  \\\n",
            "0            -16.60964    0.975214  -16.60964  -16.60964   6.223134   \n",
            "1             0.131231    0.131231   0.131231  -16.60964   7.119903   \n",
            "2            -16.60964   -16.60964  -16.60964  -16.60964   6.564263   \n",
            "3            -16.60964   -16.60964   0.993636    3.99363   6.548218   \n",
            "4            -16.60964   -16.60964  -16.60964    0.36946    7.09737   \n",
            "\n",
            "Unnamed: 0 hsa.mir.99a hsa.mir.99b Survival Death  \n",
            "0             6.332759     9.33715    245.0   1.0  \n",
            "1             1.131225   15.971824    212.0   1.0  \n",
            "2             1.920411   12.471875     31.0   1.0  \n",
            "3             5.315557   14.136214    215.0   1.0  \n",
            "4             7.424732    12.50612    393.0   0.0  \n",
            "\n",
            "[5 rows x 11707 columns]\n",
            "\n",
            "Matrix dimensions: (170, 11707)\n"
          ]
        }
      ]
    },
    {
      "cell_type": "code",
      "source": [
        "# Remove rows where the last column (Y) has NaN values\n",
        "data = data.dropna(subset=[data.columns[-1]])\n",
        "\n",
        "# Convert all data to numeric if necessary\n",
        "data = data.apply(pd.to_numeric, errors='coerce')\n",
        "\n",
        "# Define X: all columns from the second to the second-to-last\n",
        "X = data.iloc[:, 0:-2]  # Excludes the first and the last two columns\n",
        "\n",
        "# Define Y: last column (without modifications)\n",
        "y = data.iloc[:, -1].astype(float)  # Ensure Y is numeric\n",
        "\n",
        "print(\"X shape:\", X.shape)\n",
        "print(\"Y shape:\", y.shape)"
      ],
      "metadata": {
        "colab": {
          "base_uri": "https://localhost:8080/"
        },
        "id": "b_v5GNpbuAit",
        "outputId": "601cc739-49e2-4d2e-a130-e1fc1d04167e"
      },
      "execution_count": 3,
      "outputs": [
        {
          "output_type": "stream",
          "name": "stdout",
          "text": [
            "X shape: (159, 11705)\n",
            "Y shape: (159,)\n"
          ]
        }
      ]
    },
    {
      "cell_type": "code",
      "execution_count": 4,
      "metadata": {
        "vscode": {
          "languageId": "plaintext"
        },
        "id": "gpqWgQHfeubO"
      },
      "outputs": [],
      "source": [
        "import pandas as pd\n",
        "import numpy as np\n",
        "import matplotlib.pyplot as plt\n",
        "from sklearn.feature_selection import f_classif, chi2\n",
        "from sklearn.preprocessing import StandardScaler\n",
        "import statsmodels.api as sm\n",
        "from sklearn.feature_selection import VarianceThreshold\n",
        "from scipy import stats\n",
        "\n",
        "def get_p_values(X, y, method):\n",
        "    \"\"\"\n",
        "    Compute p-values for feature selection using the specified method.\n",
        "    \"\"\"\n",
        "    if method == 'anova':\n",
        "        _, p_values = f_classif(X, y)\n",
        "    elif method == 'chi2':\n",
        "        _, p_values = chi2(X, y)\n",
        "    else:\n",
        "        raise ValueError(\"Invalid method. Choose 'anova' or 'chi2'.\")\n",
        "\n",
        "    return pd.Series(p_values, index=X.columns)\n",
        "\n",
        "def comprehensive_feature_selection(X, y, threshold, method):\n",
        "    \"\"\"\n",
        "    Perform feature selection using a specified method and threshold.\n",
        "    \"\"\"\n",
        "    p_values = get_p_values(X, y, method)\n",
        "    selected_features = p_values[p_values <= threshold].index\n",
        "    X_filtered = X[selected_features]\n",
        "\n",
        "    return {\n",
        "        'p_values': p_values,\n",
        "        'selected_features': selected_features,\n",
        "        'X_filtered': X_filtered,\n",
        "        'feature_count': len(selected_features)\n",
        "    }\n",
        "\n",
        "def plot_feature_distributions(p_values, threshold, method):\n",
        "    \"\"\"\n",
        "    Plot p-value distributions for a given method.\n",
        "    \"\"\"\n",
        "    plt.figure(figsize=(12, 5))\n",
        "    plt.hist(p_values, bins=50, alpha=0.75)\n",
        "    plt.axvline(x=threshold, color='r', linestyle='--', label=f'Threshold ({threshold})')\n",
        "    plt.title(f'{method} p-value Distribution')\n",
        "    plt.xlabel('p-value')\n",
        "    plt.ylabel('Count')\n",
        "    plt.legend()\n",
        "    plt.show()"
      ]
    },
    {
      "cell_type": "code",
      "source": [
        "from sklearn.feature_selection import VarianceThreshold\n",
        "from sklearn.preprocessing import MinMaxScaler\n",
        "\n",
        "# Create synthetic dataset\n",
        "print(\"Creating synthetic dataset...\")\n",
        "print(f\"Dataset shape: {X.shape}\")\n",
        "\n",
        "# Remove low variance features\n",
        "selector = VarianceThreshold(threshold=0.0)\n",
        "X_filtered_2 = selector.fit_transform(X)\n",
        "X_filtered_2 = pd.DataFrame(X_filtered_2, columns=X.columns[selector.get_support()])\n",
        "\n",
        "# Set p-value threshold\n",
        "threshold = 0.05\n",
        "\n",
        "# Perform feature selection for each method\n",
        "methods = ['anova', 'chi2']\n",
        "for method in methods:\n",
        "    print(f\"\\nPerforming feature selection using {method}...\")\n",
        "\n",
        "    # Use different scalers for different methods\n",
        "    if method == 'anova':\n",
        "        scaler = StandardScaler()\n",
        "    elif method == 'chi2':\n",
        "        scaler = MinMaxScaler()\n",
        "\n",
        "    X_scaled = pd.DataFrame(scaler.fit_transform(X_filtered_2), columns=X_filtered_2.columns, index=X_filtered_2.index)\n",
        "\n",
        "    results = comprehensive_feature_selection(X_scaled, y, threshold, method)\n",
        "\n",
        "    # Print results\n",
        "    print(f\"\\nMethod: {method}\")\n",
        "    print(f\"Original number of features: {X.shape[1]}\")\n",
        "    print(f\"Selected number of features: {results['feature_count']}\")\n",
        "    print(f\"Reduction: {(1 - results['feature_count'] / X.shape[1]) * 100:.2f}%\")\n",
        "\n",
        "    # Print top 10 features for the method\n",
        "    print(\"\\nTop 10 features by p-value:\")\n",
        "    print(results['p_values'].nsmallest(10))\n",
        "\n",
        "    # Plot distributions\n",
        "    plot_feature_distributions(results['p_values'], threshold, method)\n",
        "\n",
        "    # Save filtered dataset\n",
        "    X_filtered_copy = results['X_filtered'].copy()\n",
        "    X_filtered_copy = X_filtered_copy.assign(Death=y)\n",
        "    X_filtered_copy.to_csv(f'filtered_features_{method}.csv', index=False)\n",
        "    print(f\"\\nFiltered dataset saved to 'filtered_features_{method}.csv'\")"
      ],
      "metadata": {
        "colab": {
          "base_uri": "https://localhost:8080/",
          "height": 1000
        },
        "id": "fAQduDLlvx0n",
        "outputId": "48620b1e-ba1a-4b15-cb70-5e1ff9b31555"
      },
      "execution_count": 5,
      "outputs": [
        {
          "output_type": "stream",
          "name": "stdout",
          "text": [
            "Creating synthetic dataset...\n",
            "Dataset shape: (159, 11705)\n",
            "\n",
            "Performing feature selection using anova...\n",
            "\n",
            "Method: anova\n",
            "Original number of features: 11705\n",
            "Selected number of features: 1071\n",
            "Reduction: 90.85%\n",
            "\n",
            "Top 10 features by p-value:\n",
            "Unnamed: 0\n",
            "cg10152449     0.000002\n",
            "cg23431721     0.000016\n",
            "cg04857395     0.000029\n",
            "hsa.mir.532    0.000030\n",
            "cg17942750     0.000038\n",
            "cg09936008     0.000043\n",
            "cg27321949     0.000059\n",
            "cg17134700     0.000073\n",
            "cg27049094     0.000074\n",
            "cg14473743     0.000092\n",
            "dtype: float64\n"
          ]
        },
        {
          "output_type": "display_data",
          "data": {
            "text/plain": [
              "<Figure size 1200x500 with 1 Axes>"
            ],
            "image/png": "[encoded data removed]"
          },
          "metadata": {}
        },
        {
          "output_type": "stream",
          "name": "stdout",
          "text": [
            "\n",
            "Filtered dataset saved to 'filtered_features_anova.csv'\n",
            "\n",
            "Performing feature selection using chi2...\n",
            "\n",
            "Method: chi2\n",
            "Original number of features: 11705\n",
            "Selected number of features: 96\n",
            "Reduction: 99.18%\n",
            "\n",
            "Top 10 features by p-value:\n",
            "Unnamed: 0\n",
            "UGT1A9.54600              0.002977\n",
            "cg10152449                0.003159\n",
            "SLC18A3.6572              0.003940\n",
            "TEX101.83639              0.004327\n",
            "PIWIL1.9271               0.006941\n",
            "LOC100130238.100130238    0.007299\n",
            "TNFSF18.8995              0.007369\n",
            "PRAMEF20.645425           0.008425\n",
            "hsa.mir.665               0.008557\n",
            "OSTBETA.123264            0.008690\n",
            "dtype: float64\n"
          ]
        },
        {
          "output_type": "display_data",
          "data": {
            "text/plain": [
              "<Figure size 1200x500 with 1 Axes>"
            ],
            "image/png": "[encoded data removed]"
          },
          "metadata": {}
        },
        {
          "output_type": "stream",
          "name": "stdout",
          "text": [
            "\n",
            "Filtered dataset saved to 'filtered_features_chi2.csv'\n"
          ]
        }
      ]
    }
  ],
  "metadata": {
    "language_info": {
      "name": "python"
    },
    "colab": {
      "provenance": []
    },
    "kernelspec": {
      "name": "python3",
      "display_name": "Python 3"
    }
  },
  "nbformat": 4,
  "nbformat_minor": 0
}