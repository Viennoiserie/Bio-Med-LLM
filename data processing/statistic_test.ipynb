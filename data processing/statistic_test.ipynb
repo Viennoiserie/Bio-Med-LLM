{
 "cells": [
  {
   "cell_type": "markdown",
   "metadata": {},
   "source": [
    "### ANOVA (F-test)"
   ]
  },
  {
   "cell_type": "code",
   "execution_count": null,
   "metadata": {},
   "outputs": [
    {
     "name": "stdout",
     "output_type": "stream",
     "text": [
      "Unnamed: 0 X..100130426 X..100133144 X..100134869  X..26823 X..340602  \\\n",
      "0             -16.60964     1.074992    -0.510026 -0.510026  1.074992   \n",
      "1             -16.60964     3.096162     3.226726 -0.360657  0.639334   \n",
      "2             -16.60964    -16.60964     2.798177  0.682672 -16.60964   \n",
      "3             -16.60964     2.061434     1.932594  1.298019  0.883003   \n",
      "4             -16.60964     5.038085     5.083975 -0.313818  0.686173   \n",
      "\n",
      "Unnamed: 0 X..388795 X..391343 X..391714 X..441362 X..652919  ... hsa.mir.942  \\\n",
      "0           2.659972 -16.60964  1.490062 -0.510026  2.075023  ...    4.788536   \n",
      "1            2.63935 -16.60964  1.224293 -0.360657    6.8941  ...    6.017075   \n",
      "2           3.004629 -16.60964 -0.902362 -16.60964  5.272259  ...    4.970429   \n",
      "3            2.10538 -16.60964 -0.702022 -16.60964  5.881016  ...    5.223956   \n",
      "4           0.686173  3.773639  2.686167 -16.60964  7.297051  ...    5.318328   \n",
      "\n",
      "Unnamed: 0 hsa.mir.943 hsa.mir.944 hsa.mir.95 hsa.mir.96 hsa.mir.98  \\\n",
      "0            -16.60964   -16.60964   0.788544  -16.60964   6.358391   \n",
      "1            -16.60964   -16.60964   1.373224   2.373222   7.730771   \n",
      "2            -16.60964    2.233466  -0.351481  -0.351481   6.746533   \n",
      "3            -16.60964   -16.60964   0.902036   2.709385   8.086903   \n",
      "4            -16.60964    1.926013  -16.60964   2.926012   5.510973   \n",
      "\n",
      "Unnamed: 0 hsa.mir.99a hsa.mir.99b Survival Death  \n",
      "0             6.128386   12.084304    731.0   1.0  \n",
      "1             4.695148   14.155808    306.0   0.0  \n",
      "2             7.965913    7.555391    243.0   1.0  \n",
      "3             7.946422   15.081004      0.0   1.0  \n",
      "4             7.247938   12.919656    243.0   0.0  \n",
      "\n",
      "[5 rows x 11707 columns]\n"
     ]
    }
   ],
   "source": [
    "import pandas as pd\n",
    "# Load data\n",
    "aml = pd.read_csv('./cancer/aml/combined_data.csv', sep=\",\", on_bad_lines=\"skip\")\n",
    "# Transposer les données et mettre en forme le DataFrame\n",
    "data = aml.transpose()\n",
    "data.columns = data.iloc[0]\n",
    "data = data[1:]\n",
    "data.dropna(inplace=True)\n",
    "data.reset_index(drop=True, inplace=True)\n",
    "print(data.head())"
   ]
  },
  {
   "cell_type": "code",
   "execution_count": 7,
   "metadata": {},
   "outputs": [
    {
     "name": "stdout",
     "output_type": "stream",
     "text": [
      "Top 5 important features based on F-test (ANOVA):\n",
      "     Feature_Index    F_Score   P_Value\n",
      "634           7954  24.481149  0.000002\n",
      "870          10197  19.873582  0.000016\n",
      "520           6940  18.582996  0.000029\n",
      "986          11490  18.468042  0.000030\n",
      "779           9310  17.993534  0.000038\n"
     ]
    },
    {
     "name": "stderr",
     "output_type": "stream",
     "text": [
      "e:\\anaconda3\\Lib\\site-packages\\sklearn\\feature_selection\\_univariate_selection.py:113: RuntimeWarning: divide by zero encountered in divide\n",
      "  f = msb / msw\n"
     ]
    }
   ],
   "source": [
    "import pandas as pd\n",
    "from sklearn.feature_selection import SelectKBest, f_classif\n",
    "\n",
    "# Load data\n",
    "X = data.iloc[:, :-2]\n",
    "y = data.iloc[:, -1]\n",
    "\n",
    "# Use ANOVA F-test\n",
    "k = 1000\n",
    "f_selector = SelectKBest(score_func=f_classif, k=k)\n",
    "X_selected = f_selector.fit_transform(X, y)\n",
    "\n",
    "# Get the selected feature indices, F-scores and p-values\n",
    "selected_indices = f_selector.get_support(indices=True)\n",
    "f_scores = f_selector.scores_[selected_indices]\n",
    "p_values = f_selector.pvalues_[selected_indices]\n",
    "\n",
    "# Convert to DataFrame\n",
    "selected_features = pd.DataFrame({\n",
    "    \"Feature_Index\": selected_indices,\n",
    "    \"F_Score\": f_scores,\n",
    "    \"P_Value\": p_values\n",
    "}).sort_values(by=\"F_Score\", ascending=False)\n",
    "\n",
    "# Visuliaze the top 5 important features\n",
    "print(\"Top 5 important features based on F-test (ANOVA):\")\n",
    "print(selected_features.head())"
   ]
  },
  {
   "cell_type": "code",
   "execution_count": 8,
   "metadata": {},
   "outputs": [
    {
     "name": "stdout",
     "output_type": "stream",
     "text": [
      "Final dataset:   X..100130426 X..391343 ABCA17P.650655 ACTL9.284382 ACY3.91703 ADAMTS3.9508  \\\n",
      "0    -16.60964 -16.60964      -16.60964    -16.60964    6.55614    -16.60964   \n",
      "1    -16.60964 -16.60964       1.224293    -16.60964   7.952238     9.706789   \n",
      "2    -16.60964 -16.60964      -16.60964    -16.60964   9.001615     2.267659   \n",
      "3    -16.60964 -16.60964      -16.60964    -16.60964   6.406532    -16.60964   \n",
      "4    -16.60964  3.773639       1.686169    -16.60964   5.112438     4.386612   \n",
      "\n",
      "  AFAP1L1.134265   AGT.183 ALDH1A2.8854 ANGPTL3.27329  ... hsa.mir.598  \\\n",
      "0       1.490062 -0.510026       2.2974      0.490067  ...    3.110465   \n",
      "1        7.50972   2.63935     1.639376       3.22432  ...    1.373224   \n",
      "2      -16.60964 -16.60964     1.419652     -16.60964  ...    3.107934   \n",
      "3       5.155988 -16.60964    -0.702022      2.467934  ...     3.80892   \n",
      "4       4.078491 -0.313818    -16.60964      1.686169  ...    1.926013   \n",
      "\n",
      "  hsa.mir.600 hsa.mir.656 hsa.mir.660 hsa.mir.665 hsa.mir.770 hsa.mir.873  \\\n",
      "0   -16.60964   -16.60964    6.073938   -16.60964   -16.60964   -16.60964   \n",
      "1   -16.60964   -16.60964    5.621147   -16.60964   -16.60964   -16.60964   \n",
      "2   -16.60964   -16.60964    6.248414   -16.60964   -16.60964   -16.60964   \n",
      "3   -16.60964   -16.60964    6.223956   -16.60964   -16.60964    1.902032   \n",
      "4   -16.60964    0.926018    6.055293   -16.60964   -16.60964   -16.60964   \n",
      "\n",
      "  hsa.mir.9.1 hsa.mir.9.2 Death  \n",
      "0    9.816441    9.764383   1.0  \n",
      "1    5.543144    5.958182   0.0  \n",
      "2    9.107932    9.066353   1.0  \n",
      "3    5.393881    5.545884   1.0  \n",
      "4    7.075757    7.368953   0.0  \n",
      "\n",
      "[5 rows x 1001 columns]\n"
     ]
    }
   ],
   "source": [
    "selected_columns = X.columns[selected_indices]\n",
    "X_selected_df = X[selected_columns]\n",
    "final_df = pd.concat([X_selected_df, y], axis=1)\n",
    "print(\"Final dataset:\", final_df.head())"
   ]
  },
  {
   "cell_type": "code",
   "execution_count": 9,
   "metadata": {},
   "outputs": [],
   "source": [
    "# Save the selected features to a CSV file\n",
    "final_df.to_csv(\"./reduced_dataset/aml_anova.csv\", index=False)"
   ]
  },
  {
   "cell_type": "code",
   "execution_count": 10,
   "metadata": {},
   "outputs": [
    {
     "name": "stdout",
     "output_type": "stream",
     "text": [
      "   X..100130426  X..391343  ABCA17P.650655  ACTL9.284382  ACY3.91703  \\\n",
      "0     -16.60964 -16.609640      -16.609640     -16.60964    6.556140   \n",
      "1     -16.60964 -16.609640        1.224293     -16.60964    7.952238   \n",
      "2     -16.60964 -16.609640      -16.609640     -16.60964    9.001615   \n",
      "3     -16.60964 -16.609640      -16.609640     -16.60964    6.406532   \n",
      "4     -16.60964   3.773639        1.686169     -16.60964    5.112438   \n",
      "\n",
      "   ADAMTS3.9508  AFAP1L1.134265    AGT.183  ALDH1A2.8854  ANGPTL3.27329  ...  \\\n",
      "0    -16.609640        1.490062  -0.510026      2.297400       0.490067  ...   \n",
      "1      9.706789        7.509720   2.639350      1.639376       3.224320  ...   \n",
      "2      2.267659      -16.609640 -16.609640      1.419652     -16.609640  ...   \n",
      "3    -16.609640        5.155988 -16.609640     -0.702022       2.467934  ...   \n",
      "4      4.386612        4.078491  -0.313818    -16.609640       1.686169  ...   \n",
      "\n",
      "   hsa.mir.598  hsa.mir.600  hsa.mir.656  hsa.mir.660  hsa.mir.665  \\\n",
      "0     3.110465    -16.60964   -16.609640     6.073938    -16.60964   \n",
      "1     1.373224    -16.60964   -16.609640     5.621147    -16.60964   \n",
      "2     3.107934    -16.60964   -16.609640     6.248414    -16.60964   \n",
      "3     3.808920    -16.60964   -16.609640     6.223956    -16.60964   \n",
      "4     1.926013    -16.60964     0.926018     6.055293    -16.60964   \n",
      "\n",
      "   hsa.mir.770  hsa.mir.873  hsa.mir.9.1  hsa.mir.9.2  Death  \n",
      "0    -16.60964   -16.609640     9.816441     9.764383    1.0  \n",
      "1    -16.60964   -16.609640     5.543144     5.958182    0.0  \n",
      "2    -16.60964   -16.609640     9.107932     9.066353    1.0  \n",
      "3    -16.60964     1.902032     5.393881     5.545884    1.0  \n",
      "4    -16.60964   -16.609640     7.075757     7.368953    0.0  \n",
      "\n",
      "[5 rows x 1001 columns]\n"
     ]
    }
   ],
   "source": [
    "df = pd.read_csv(\"./reduced_dataset/aml_anova.csv\")\n",
    "print(df.head())"
   ]
  },
  {
   "cell_type": "markdown",
   "metadata": {},
   "source": [
    "# END"
   ]
  }
 ],
 "metadata": {
  "kernelspec": {
   "display_name": "base",
   "language": "python",
   "name": "python3"
  },
  "language_info": {
   "codemirror_mode": {
    "name": "ipython",
    "version": 3
   },
   "file_extension": ".py",
   "mimetype": "text/x-python",
   "name": "python",
   "nbconvert_exporter": "python",
   "pygments_lexer": "ipython3",
   "version": "3.12.4"
  }
 },
 "nbformat": 4,
 "nbformat_minor": 2
}
