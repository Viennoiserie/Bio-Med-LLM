{
 "cells": [
  {
   "cell_type": "code",
   "execution_count": 1,
   "metadata": {},
   "outputs": [
    {
     "name": "stdout",
     "output_type": "stream",
     "text": [
      "Note: you may need to restart the kernel to use updated packages.\n"
     ]
    }
   ],
   "source": [
    "\n",
    "%pip install --upgrade numpy pandas matplotlib seaborn scikit-learn --quiet\n",
    "\n",
    "import os\n",
    "import pickle\n",
    "import numpy as np\n",
    "import pandas as pd\n",
    "import matplotlib.pyplot as plt\n",
    "import seaborn as sns\n",
    "from sklearn.model_selection import train_test_split"
   ]
  },
  {
   "cell_type": "markdown",
   "metadata": {},
   "source": [
    "# Data Preparation\n"
   ]
  },
  {
   "cell_type": "code",
   "execution_count": 39,
   "metadata": {},
   "outputs": [],
   "source": [
    "# Constants\n",
    "DATA_DIR = \"../dataset/feature_selection/\"\n",
    "DATASET = \"patient_embeddings_scBERT\"\n",
    "MODEL_DIR = \"../models/classification/\" + DATASET + \"/\""
   ]
  },
  {
   "cell_type": "code",
   "execution_count": 40,
   "metadata": {},
   "outputs": [
    {
     "data": {
      "application/vnd.microsoft.datawrangler.viewer.v0+json": {
       "columns": [
        {
         "name": "index",
         "rawType": "int64",
         "type": "integer"
        },
        {
         "name": "Survival",
         "rawType": "float64",
         "type": "float"
        },
        {
         "name": "Death",
         "rawType": "float64",
         "type": "float"
        },
        {
         "name": "0",
         "rawType": "float64",
         "type": "float"
        },
        {
         "name": "1",
         "rawType": "float64",
         "type": "float"
        },
        {
         "name": "2",
         "rawType": "float64",
         "type": "float"
        },
        {
         "name": "3",
         "rawType": "float64",
         "type": "float"
        },
        {
         "name": "4",
         "rawType": "float64",
         "type": "float"
        },
        {
         "name": "5",
         "rawType": "float64",
         "type": "float"
        },
        {
         "name": "6",
         "rawType": "float64",
         "type": "float"
        },
        {
         "name": "7",
         "rawType": "float64",
         "type": "float"
        },
        {
         "name": "8",
         "rawType": "float64",
         "type": "float"
        },
        {
         "name": "9",
         "rawType": "float64",
         "type": "float"
        },
        {
         "name": "10",
         "rawType": "float64",
         "type": "float"
        },
        {
         "name": "11",
         "rawType": "float64",
         "type": "float"
        },
        {
         "name": "12",
         "rawType": "float64",
         "type": "float"
        },
        {
         "name": "13",
         "rawType": "float64",
         "type": "float"
        },
        {
         "name": "14",
         "rawType": "float64",
         "type": "float"
        },
        {
         "name": "15",
         "rawType": "float64",
         "type": "float"
        },
        {
         "name": "16",
         "rawType": "float64",
         "type": "float"
        },
        {
         "name": "17",
         "rawType": "float64",
         "type": "float"
        },
        {
         "name": "18",
         "rawType": "float64",
         "type": "float"
        },
        {
         "name": "19",
         "rawType": "float64",
         "type": "float"
        },
        {
         "name": "20",
         "rawType": "float64",
         "type": "float"
        },
        {
         "name": "21",
         "rawType": "float64",
         "type": "float"
        },
        {
         "name": "22",
         "rawType": "float64",
         "type": "float"
        },
        {
         "name": "23",
         "rawType": "float64",
         "type": "float"
        },
        {
         "name": "24",
         "rawType": "float64",
         "type": "float"
        },
        {
         "name": "25",
         "rawType": "float64",
         "type": "float"
        },
        {
         "name": "26",
         "rawType": "float64",
         "type": "float"
        },
        {
         "name": "27",
         "rawType": "float64",
         "type": "float"
        },
        {
         "name": "28",
         "rawType": "float64",
         "type": "float"
        },
        {
         "name": "29",
         "rawType": "float64",
         "type": "float"
        },
        {
         "name": "30",
         "rawType": "float64",
         "type": "float"
        },
        {
         "name": "31",
         "rawType": "float64",
         "type": "float"
        },
        {
         "name": "32",
         "rawType": "float64",
         "type": "float"
        },
        {
         "name": "33",
         "rawType": "float64",
         "type": "float"
        },
        {
         "name": "34",
         "rawType": "float64",
         "type": "float"
        },
        {
         "name": "35",
         "rawType": "float64",
         "type": "float"
        },
        {
         "name": "36",
         "rawType": "float64",
         "type": "float"
        },
        {
         "name": "37",
         "rawType": "float64",
         "type": "float"
        },
        {
         "name": "38",
         "rawType": "float64",
         "type": "float"
        },
        {
         "name": "39",
         "rawType": "float64",
         "type": "float"
        },
        {
         "name": "40",
         "rawType": "float64",
         "type": "float"
        },
        {
         "name": "41",
         "rawType": "float64",
         "type": "float"
        },
        {
         "name": "42",
         "rawType": "float64",
         "type": "float"
        },
        {
         "name": "43",
         "rawType": "float64",
         "type": "float"
        },
        {
         "name": "44",
         "rawType": "float64",
         "type": "float"
        },
        {
         "name": "45",
         "rawType": "float64",
         "type": "float"
        },
        {
         "name": "46",
         "rawType": "float64",
         "type": "float"
        },
        {
         "name": "47",
         "rawType": "float64",
         "type": "float"
        },
        {
         "name": "48",
         "rawType": "float64",
         "type": "float"
        },
        {
         "name": "49",
         "rawType": "float64",
         "type": "float"
        },
        {
         "name": "50",
         "rawType": "float64",
         "type": "float"
        },
        {
         "name": "51",
         "rawType": "float64",
         "type": "float"
        },
        {
         "name": "52",
         "rawType": "float64",
         "type": "float"
        },
        {
         "name": "53",
         "rawType": "float64",
         "type": "float"
        },
        {
         "name": "54",
         "rawType": "float64",
         "type": "float"
        },
        {
         "name": "55",
         "rawType": "float64",
         "type": "float"
        },
        {
         "name": "56",
         "rawType": "float64",
         "type": "float"
        },
        {
         "name": "57",
         "rawType": "float64",
         "type": "float"
        },
        {
         "name": "58",
         "rawType": "float64",
         "type": "float"
        },
        {
         "name": "59",
         "rawType": "float64",
         "type": "float"
        },
        {
         "name": "60",
         "rawType": "float64",
         "type": "float"
        },
        {
         "name": "61",
         "rawType": "float64",
         "type": "float"
        },
        {
         "name": "62",
         "rawType": "float64",
         "type": "float"
        },
        {
         "name": "63",
         "rawType": "float64",
         "type": "float"
        },
        {
         "name": "64",
         "rawType": "float64",
         "type": "float"
        },
        {
         "name": "65",
         "rawType": "float64",
         "type": "float"
        },
        {
         "name": "66",
         "rawType": "float64",
         "type": "float"
        },
        {
         "name": "67",
         "rawType": "float64",
         "type": "float"
        },
        {
         "name": "68",
         "rawType": "float64",
         "type": "float"
        },
        {
         "name": "69",
         "rawType": "float64",
         "type": "float"
        },
        {
         "name": "70",
         "rawType": "float64",
         "type": "float"
        },
        {
         "name": "71",
         "rawType": "float64",
         "type": "float"
        },
        {
         "name": "72",
         "rawType": "float64",
         "type": "float"
        },
        {
         "name": "73",
         "rawType": "float64",
         "type": "float"
        },
        {
         "name": "74",
         "rawType": "float64",
         "type": "float"
        },
        {
         "name": "75",
         "rawType": "float64",
         "type": "float"
        },
        {
         "name": "76",
         "rawType": "float64",
         "type": "float"
        },
        {
         "name": "77",
         "rawType": "float64",
         "type": "float"
        },
        {
         "name": "78",
         "rawType": "float64",
         "type": "float"
        },
        {
         "name": "79",
         "rawType": "float64",
         "type": "float"
        },
        {
         "name": "80",
         "rawType": "float64",
         "type": "float"
        },
        {
         "name": "81",
         "rawType": "float64",
         "type": "float"
        },
        {
         "name": "82",
         "rawType": "float64",
         "type": "float"
        },
        {
         "name": "83",
         "rawType": "float64",
         "type": "float"
        },
        {
         "name": "84",
         "rawType": "float64",
         "type": "float"
        },
        {
         "name": "85",
         "rawType": "float64",
         "type": "float"
        },
        {
         "name": "86",
         "rawType": "float64",
         "type": "float"
        },
        {
         "name": "87",
         "rawType": "float64",
         "type": "float"
        },
        {
         "name": "88",
         "rawType": "float64",
         "type": "float"
        },
        {
         "name": "89",
         "rawType": "float64",
         "type": "float"
        },
        {
         "name": "90",
         "rawType": "float64",
         "type": "float"
        },
        {
         "name": "91",
         "rawType": "float64",
         "type": "float"
        },
        {
         "name": "92",
         "rawType": "float64",
         "type": "float"
        },
        {
         "name": "93",
         "rawType": "float64",
         "type": "float"
        },
        {
         "name": "94",
         "rawType": "float64",
         "type": "float"
        },
        {
         "name": "95",
         "rawType": "float64",
         "type": "float"
        },
        {
         "name": "96",
         "rawType": "float64",
         "type": "float"
        },
        {
         "name": "97",
         "rawType": "float64",
         "type": "float"
        },
        {
         "name": "98",
         "rawType": "float64",
         "type": "float"
        },
        {
         "name": "99",
         "rawType": "float64",
         "type": "float"
        },
        {
         "name": "100",
         "rawType": "float64",
         "type": "float"
        },
        {
         "name": "101",
         "rawType": "float64",
         "type": "float"
        },
        {
         "name": "102",
         "rawType": "float64",
         "type": "float"
        },
        {
         "name": "103",
         "rawType": "float64",
         "type": "float"
        },
        {
         "name": "104",
         "rawType": "float64",
         "type": "float"
        },
        {
         "name": "105",
         "rawType": "float64",
         "type": "float"
        },
        {
         "name": "106",
         "rawType": "float64",
         "type": "float"
        },
        {
         "name": "107",
         "rawType": "float64",
         "type": "float"
        },
        {
         "name": "108",
         "rawType": "float64",
         "type": "float"
        },
        {
         "name": "109",
         "rawType": "float64",
         "type": "float"
        },
        {
         "name": "110",
         "rawType": "float64",
         "type": "float"
        },
        {
         "name": "111",
         "rawType": "float64",
         "type": "float"
        },
        {
         "name": "112",
         "rawType": "float64",
         "type": "float"
        },
        {
         "name": "113",
         "rawType": "float64",
         "type": "float"
        },
        {
         "name": "114",
         "rawType": "float64",
         "type": "float"
        },
        {
         "name": "115",
         "rawType": "float64",
         "type": "float"
        },
        {
         "name": "116",
         "rawType": "float64",
         "type": "float"
        },
        {
         "name": "117",
         "rawType": "float64",
         "type": "float"
        },
        {
         "name": "118",
         "rawType": "float64",
         "type": "float"
        },
        {
         "name": "119",
         "rawType": "float64",
         "type": "float"
        },
        {
         "name": "120",
         "rawType": "float64",
         "type": "float"
        },
        {
         "name": "121",
         "rawType": "float64",
         "type": "float"
        },
        {
         "name": "122",
         "rawType": "float64",
         "type": "float"
        },
        {
         "name": "123",
         "rawType": "float64",
         "type": "float"
        },
        {
         "name": "124",
         "rawType": "float64",
         "type": "float"
        },
        {
         "name": "125",
         "rawType": "float64",
         "type": "float"
        },
        {
         "name": "126",
         "rawType": "float64",
         "type": "float"
        },
        {
         "name": "127",
         "rawType": "float64",
         "type": "float"
        },
        {
         "name": "128",
         "rawType": "float64",
         "type": "float"
        },
        {
         "name": "129",
         "rawType": "float64",
         "type": "float"
        },
        {
         "name": "130",
         "rawType": "float64",
         "type": "float"
        },
        {
         "name": "131",
         "rawType": "float64",
         "type": "float"
        },
        {
         "name": "132",
         "rawType": "float64",
         "type": "float"
        },
        {
         "name": "133",
         "rawType": "float64",
         "type": "float"
        },
        {
         "name": "134",
         "rawType": "float64",
         "type": "float"
        },
        {
         "name": "135",
         "rawType": "float64",
         "type": "float"
        },
        {
         "name": "136",
         "rawType": "float64",
         "type": "float"
        },
        {
         "name": "137",
         "rawType": "float64",
         "type": "float"
        },
        {
         "name": "138",
         "rawType": "float64",
         "type": "float"
        },
        {
         "name": "139",
         "rawType": "float64",
         "type": "float"
        },
        {
         "name": "140",
         "rawType": "float64",
         "type": "float"
        },
        {
         "name": "141",
         "rawType": "float64",
         "type": "float"
        },
        {
         "name": "142",
         "rawType": "float64",
         "type": "float"
        },
        {
         "name": "143",
         "rawType": "float64",
         "type": "float"
        },
        {
         "name": "144",
         "rawType": "float64",
         "type": "float"
        },
        {
         "name": "145",
         "rawType": "float64",
         "type": "float"
        },
        {
         "name": "146",
         "rawType": "float64",
         "type": "float"
        },
        {
         "name": "147",
         "rawType": "float64",
         "type": "float"
        },
        {
         "name": "148",
         "rawType": "float64",
         "type": "float"
        },
        {
         "name": "149",
         "rawType": "float64",
         "type": "float"
        },
        {
         "name": "150",
         "rawType": "float64",
         "type": "float"
        },
        {
         "name": "151",
         "rawType": "float64",
         "type": "float"
        },
        {
         "name": "152",
         "rawType": "float64",
         "type": "float"
        },
        {
         "name": "153",
         "rawType": "float64",
         "type": "float"
        },
        {
         "name": "154",
         "rawType": "float64",
         "type": "float"
        },
        {
         "name": "155",
         "rawType": "float64",
         "type": "float"
        },
        {
         "name": "156",
         "rawType": "float64",
         "type": "float"
        },
        {
         "name": "157",
         "rawType": "float64",
         "type": "float"
        },
        {
         "name": "158",
         "rawType": "float64",
         "type": "float"
        },
        {
         "name": "159",
         "rawType": "float64",
         "type": "float"
        },
        {
         "name": "160",
         "rawType": "float64",
         "type": "float"
        },
        {
         "name": "161",
         "rawType": "float64",
         "type": "float"
        },
        {
         "name": "162",
         "rawType": "float64",
         "type": "float"
        },
        {
         "name": "163",
         "rawType": "float64",
         "type": "float"
        },
        {
         "name": "164",
         "rawType": "float64",
         "type": "float"
        },
        {
         "name": "165",
         "rawType": "float64",
         "type": "float"
        },
        {
         "name": "166",
         "rawType": "float64",
         "type": "float"
        },
        {
         "name": "167",
         "rawType": "float64",
         "type": "float"
        },
        {
         "name": "168",
         "rawType": "float64",
         "type": "float"
        },
        {
         "name": "169",
         "rawType": "float64",
         "type": "float"
        },
        {
         "name": "170",
         "rawType": "float64",
         "type": "float"
        },
        {
         "name": "171",
         "rawType": "float64",
         "type": "float"
        },
        {
         "name": "172",
         "rawType": "float64",
         "type": "float"
        },
        {
         "name": "173",
         "rawType": "float64",
         "type": "float"
        },
        {
         "name": "174",
         "rawType": "float64",
         "type": "float"
        },
        {
         "name": "175",
         "rawType": "float64",
         "type": "float"
        },
        {
         "name": "176",
         "rawType": "float64",
         "type": "float"
        },
        {
         "name": "177",
         "rawType": "float64",
         "type": "float"
        },
        {
         "name": "178",
         "rawType": "float64",
         "type": "float"
        },
        {
         "name": "179",
         "rawType": "float64",
         "type": "float"
        },
        {
         "name": "180",
         "rawType": "float64",
         "type": "float"
        },
        {
         "name": "181",
         "rawType": "float64",
         "type": "float"
        },
        {
         "name": "182",
         "rawType": "float64",
         "type": "float"
        },
        {
         "name": "183",
         "rawType": "float64",
         "type": "float"
        },
        {
         "name": "184",
         "rawType": "float64",
         "type": "float"
        },
        {
         "name": "185",
         "rawType": "float64",
         "type": "float"
        },
        {
         "name": "186",
         "rawType": "float64",
         "type": "float"
        },
        {
         "name": "187",
         "rawType": "float64",
         "type": "float"
        },
        {
         "name": "188",
         "rawType": "float64",
         "type": "float"
        },
        {
         "name": "189",
         "rawType": "float64",
         "type": "float"
        },
        {
         "name": "190",
         "rawType": "float64",
         "type": "float"
        },
        {
         "name": "191",
         "rawType": "float64",
         "type": "float"
        },
        {
         "name": "192",
         "rawType": "float64",
         "type": "float"
        },
        {
         "name": "193",
         "rawType": "float64",
         "type": "float"
        },
        {
         "name": "194",
         "rawType": "float64",
         "type": "float"
        },
        {
         "name": "195",
         "rawType": "float64",
         "type": "float"
        },
        {
         "name": "196",
         "rawType": "float64",
         "type": "float"
        },
        {
         "name": "197",
         "rawType": "float64",
         "type": "float"
        },
        {
         "name": "198",
         "rawType": "float64",
         "type": "float"
        },
        {
         "name": "199",
         "rawType": "float64",
         "type": "float"
        },
        {
         "name": "200",
         "rawType": "float64",
         "type": "float"
        },
        {
         "name": "201",
         "rawType": "float64",
         "type": "float"
        },
        {
         "name": "202",
         "rawType": "float64",
         "type": "float"
        },
        {
         "name": "203",
         "rawType": "float64",
         "type": "float"
        },
        {
         "name": "204",
         "rawType": "float64",
         "type": "float"
        },
        {
         "name": "205",
         "rawType": "float64",
         "type": "float"
        },
        {
         "name": "206",
         "rawType": "float64",
         "type": "float"
        },
        {
         "name": "207",
         "rawType": "float64",
         "type": "float"
        },
        {
         "name": "208",
         "rawType": "float64",
         "type": "float"
        },
        {
         "name": "209",
         "rawType": "float64",
         "type": "float"
        },
        {
         "name": "210",
         "rawType": "float64",
         "type": "float"
        },
        {
         "name": "211",
         "rawType": "float64",
         "type": "float"
        },
        {
         "name": "212",
         "rawType": "float64",
         "type": "float"
        },
        {
         "name": "213",
         "rawType": "float64",
         "type": "float"
        },
        {
         "name": "214",
         "rawType": "float64",
         "type": "float"
        },
        {
         "name": "215",
         "rawType": "float64",
         "type": "float"
        },
        {
         "name": "216",
         "rawType": "float64",
         "type": "float"
        },
        {
         "name": "217",
         "rawType": "float64",
         "type": "float"
        },
        {
         "name": "218",
         "rawType": "float64",
         "type": "float"
        },
        {
         "name": "219",
         "rawType": "float64",
         "type": "float"
        },
        {
         "name": "220",
         "rawType": "float64",
         "type": "float"
        },
        {
         "name": "221",
         "rawType": "float64",
         "type": "float"
        },
        {
         "name": "222",
         "rawType": "float64",
         "type": "float"
        },
        {
         "name": "223",
         "rawType": "float64",
         "type": "float"
        },
        {
         "name": "224",
         "rawType": "float64",
         "type": "float"
        },
        {
         "name": "225",
         "rawType": "float64",
         "type": "float"
        },
        {
         "name": "226",
         "rawType": "float64",
         "type": "float"
        },
        {
         "name": "227",
         "rawType": "float64",
         "type": "float"
        },
        {
         "name": "228",
         "rawType": "float64",
         "type": "float"
        },
        {
         "name": "229",
         "rawType": "float64",
         "type": "float"
        },
        {
         "name": "230",
         "rawType": "float64",
         "type": "float"
        },
        {
         "name": "231",
         "rawType": "float64",
         "type": "float"
        },
        {
         "name": "232",
         "rawType": "float64",
         "type": "float"
        },
        {
         "name": "233",
         "rawType": "float64",
         "type": "float"
        },
        {
         "name": "234",
         "rawType": "float64",
         "type": "float"
        },
        {
         "name": "235",
         "rawType": "float64",
         "type": "float"
        },
        {
         "name": "236",
         "rawType": "float64",
         "type": "float"
        },
        {
         "name": "237",
         "rawType": "float64",
         "type": "float"
        },
        {
         "name": "238",
         "rawType": "float64",
         "type": "float"
        },
        {
         "name": "239",
         "rawType": "float64",
         "type": "float"
        },
        {
         "name": "240",
         "rawType": "float64",
         "type": "float"
        },
        {
         "name": "241",
         "rawType": "float64",
         "type": "float"
        },
        {
         "name": "242",
         "rawType": "float64",
         "type": "float"
        },
        {
         "name": "243",
         "rawType": "float64",
         "type": "float"
        },
        {
         "name": "244",
         "rawType": "float64",
         "type": "float"
        },
        {
         "name": "245",
         "rawType": "float64",
         "type": "float"
        },
        {
         "name": "246",
         "rawType": "float64",
         "type": "float"
        },
        {
         "name": "247",
         "rawType": "float64",
         "type": "float"
        },
        {
         "name": "248",
         "rawType": "float64",
         "type": "float"
        },
        {
         "name": "249",
         "rawType": "float64",
         "type": "float"
        },
        {
         "name": "250",
         "rawType": "float64",
         "type": "float"
        },
        {
         "name": "251",
         "rawType": "float64",
         "type": "float"
        },
        {
         "name": "252",
         "rawType": "float64",
         "type": "float"
        },
        {
         "name": "253",
         "rawType": "float64",
         "type": "float"
        },
        {
         "name": "254",
         "rawType": "float64",
         "type": "float"
        },
        {
         "name": "255",
         "rawType": "float64",
         "type": "float"
        },
        {
         "name": "256",
         "rawType": "float64",
         "type": "float"
        },
        {
         "name": "257",
         "rawType": "float64",
         "type": "float"
        },
        {
         "name": "258",
         "rawType": "float64",
         "type": "float"
        },
        {
         "name": "259",
         "rawType": "float64",
         "type": "float"
        },
        {
         "name": "260",
         "rawType": "float64",
         "type": "float"
        },
        {
         "name": "261",
         "rawType": "float64",
         "type": "float"
        },
        {
         "name": "262",
         "rawType": "float64",
         "type": "float"
        },
        {
         "name": "263",
         "rawType": "float64",
         "type": "float"
        },
        {
         "name": "264",
         "rawType": "float64",
         "type": "float"
        },
        {
         "name": "265",
         "rawType": "float64",
         "type": "float"
        },
        {
         "name": "266",
         "rawType": "float64",
         "type": "float"
        },
        {
         "name": "267",
         "rawType": "float64",
         "type": "float"
        },
        {
         "name": "268",
         "rawType": "float64",
         "type": "float"
        },
        {
         "name": "269",
         "rawType": "float64",
         "type": "float"
        },
        {
         "name": "270",
         "rawType": "float64",
         "type": "float"
        },
        {
         "name": "271",
         "rawType": "float64",
         "type": "float"
        },
        {
         "name": "272",
         "rawType": "float64",
         "type": "float"
        },
        {
         "name": "273",
         "rawType": "float64",
         "type": "float"
        },
        {
         "name": "274",
         "rawType": "float64",
         "type": "float"
        },
        {
         "name": "275",
         "rawType": "float64",
         "type": "float"
        },
        {
         "name": "276",
         "rawType": "float64",
         "type": "float"
        },
        {
         "name": "277",
         "rawType": "float64",
         "type": "float"
        },
        {
         "name": "278",
         "rawType": "float64",
         "type": "float"
        },
        {
         "name": "279",
         "rawType": "float64",
         "type": "float"
        },
        {
         "name": "280",
         "rawType": "float64",
         "type": "float"
        },
        {
         "name": "281",
         "rawType": "float64",
         "type": "float"
        },
        {
         "name": "282",
         "rawType": "float64",
         "type": "float"
        },
        {
         "name": "283",
         "rawType": "float64",
         "type": "float"
        },
        {
         "name": "284",
         "rawType": "float64",
         "type": "float"
        },
        {
         "name": "285",
         "rawType": "float64",
         "type": "float"
        },
        {
         "name": "286",
         "rawType": "float64",
         "type": "float"
        },
        {
         "name": "287",
         "rawType": "float64",
         "type": "float"
        },
        {
         "name": "288",
         "rawType": "float64",
         "type": "float"
        },
        {
         "name": "289",
         "rawType": "float64",
         "type": "float"
        },
        {
         "name": "290",
         "rawType": "float64",
         "type": "float"
        },
        {
         "name": "291",
         "rawType": "float64",
         "type": "float"
        },
        {
         "name": "292",
         "rawType": "float64",
         "type": "float"
        },
        {
         "name": "293",
         "rawType": "float64",
         "type": "float"
        },
        {
         "name": "294",
         "rawType": "float64",
         "type": "float"
        },
        {
         "name": "295",
         "rawType": "float64",
         "type": "float"
        },
        {
         "name": "296",
         "rawType": "float64",
         "type": "float"
        },
        {
         "name": "297",
         "rawType": "float64",
         "type": "float"
        },
        {
         "name": "298",
         "rawType": "float64",
         "type": "float"
        },
        {
         "name": "299",
         "rawType": "float64",
         "type": "float"
        },
        {
         "name": "300",
         "rawType": "float64",
         "type": "float"
        },
        {
         "name": "301",
         "rawType": "float64",
         "type": "float"
        },
        {
         "name": "302",
         "rawType": "float64",
         "type": "float"
        },
        {
         "name": "303",
         "rawType": "float64",
         "type": "float"
        },
        {
         "name": "304",
         "rawType": "float64",
         "type": "float"
        },
        {
         "name": "305",
         "rawType": "float64",
         "type": "float"
        },
        {
         "name": "306",
         "rawType": "float64",
         "type": "float"
        },
        {
         "name": "307",
         "rawType": "float64",
         "type": "float"
        },
        {
         "name": "308",
         "rawType": "float64",
         "type": "float"
        },
        {
         "name": "309",
         "rawType": "float64",
         "type": "float"
        },
        {
         "name": "310",
         "rawType": "float64",
         "type": "float"
        },
        {
         "name": "311",
         "rawType": "float64",
         "type": "float"
        },
        {
         "name": "312",
         "rawType": "float64",
         "type": "float"
        },
        {
         "name": "313",
         "rawType": "float64",
         "type": "float"
        },
        {
         "name": "314",
         "rawType": "float64",
         "type": "float"
        },
        {
         "name": "315",
         "rawType": "float64",
         "type": "float"
        },
        {
         "name": "316",
         "rawType": "float64",
         "type": "float"
        },
        {
         "name": "317",
         "rawType": "float64",
         "type": "float"
        },
        {
         "name": "318",
         "rawType": "float64",
         "type": "float"
        },
        {
         "name": "319",
         "rawType": "float64",
         "type": "float"
        },
        {
         "name": "320",
         "rawType": "float64",
         "type": "float"
        },
        {
         "name": "321",
         "rawType": "float64",
         "type": "float"
        },
        {
         "name": "322",
         "rawType": "float64",
         "type": "float"
        },
        {
         "name": "323",
         "rawType": "float64",
         "type": "float"
        },
        {
         "name": "324",
         "rawType": "float64",
         "type": "float"
        },
        {
         "name": "325",
         "rawType": "float64",
         "type": "float"
        },
        {
         "name": "326",
         "rawType": "float64",
         "type": "float"
        },
        {
         "name": "327",
         "rawType": "float64",
         "type": "float"
        },
        {
         "name": "328",
         "rawType": "float64",
         "type": "float"
        },
        {
         "name": "329",
         "rawType": "float64",
         "type": "float"
        },
        {
         "name": "330",
         "rawType": "float64",
         "type": "float"
        },
        {
         "name": "331",
         "rawType": "float64",
         "type": "float"
        },
        {
         "name": "332",
         "rawType": "float64",
         "type": "float"
        },
        {
         "name": "333",
         "rawType": "float64",
         "type": "float"
        },
        {
         "name": "334",
         "rawType": "float64",
         "type": "float"
        },
        {
         "name": "335",
         "rawType": "float64",
         "type": "float"
        },
        {
         "name": "336",
         "rawType": "float64",
         "type": "float"
        },
        {
         "name": "337",
         "rawType": "float64",
         "type": "float"
        },
        {
         "name": "338",
         "rawType": "float64",
         "type": "float"
        },
        {
         "name": "339",
         "rawType": "float64",
         "type": "float"
        },
        {
         "name": "340",
         "rawType": "float64",
         "type": "float"
        },
        {
         "name": "341",
         "rawType": "float64",
         "type": "float"
        },
        {
         "name": "342",
         "rawType": "float64",
         "type": "float"
        },
        {
         "name": "343",
         "rawType": "float64",
         "type": "float"
        },
        {
         "name": "344",
         "rawType": "float64",
         "type": "float"
        },
        {
         "name": "345",
         "rawType": "float64",
         "type": "float"
        },
        {
         "name": "346",
         "rawType": "float64",
         "type": "float"
        },
        {
         "name": "347",
         "rawType": "float64",
         "type": "float"
        },
        {
         "name": "348",
         "rawType": "float64",
         "type": "float"
        },
        {
         "name": "349",
         "rawType": "float64",
         "type": "float"
        },
        {
         "name": "350",
         "rawType": "float64",
         "type": "float"
        },
        {
         "name": "351",
         "rawType": "float64",
         "type": "float"
        },
        {
         "name": "352",
         "rawType": "float64",
         "type": "float"
        },
        {
         "name": "353",
         "rawType": "float64",
         "type": "float"
        },
        {
         "name": "354",
         "rawType": "float64",
         "type": "float"
        },
        {
         "name": "355",
         "rawType": "float64",
         "type": "float"
        },
        {
         "name": "356",
         "rawType": "float64",
         "type": "float"
        },
        {
         "name": "357",
         "rawType": "float64",
         "type": "float"
        },
        {
         "name": "358",
         "rawType": "float64",
         "type": "float"
        },
        {
         "name": "359",
         "rawType": "float64",
         "type": "float"
        },
        {
         "name": "360",
         "rawType": "float64",
         "type": "float"
        },
        {
         "name": "361",
         "rawType": "float64",
         "type": "float"
        },
        {
         "name": "362",
         "rawType": "float64",
         "type": "float"
        },
        {
         "name": "363",
         "rawType": "float64",
         "type": "float"
        },
        {
         "name": "364",
         "rawType": "float64",
         "type": "float"
        },
        {
         "name": "365",
         "rawType": "float64",
         "type": "float"
        },
        {
         "name": "366",
         "rawType": "float64",
         "type": "float"
        },
        {
         "name": "367",
         "rawType": "float64",
         "type": "float"
        },
        {
         "name": "368",
         "rawType": "float64",
         "type": "float"
        },
        {
         "name": "369",
         "rawType": "float64",
         "type": "float"
        },
        {
         "name": "370",
         "rawType": "float64",
         "type": "float"
        },
        {
         "name": "371",
         "rawType": "float64",
         "type": "float"
        },
        {
         "name": "372",
         "rawType": "float64",
         "type": "float"
        },
        {
         "name": "373",
         "rawType": "float64",
         "type": "float"
        },
        {
         "name": "374",
         "rawType": "float64",
         "type": "float"
        },
        {
         "name": "375",
         "rawType": "float64",
         "type": "float"
        },
        {
         "name": "376",
         "rawType": "float64",
         "type": "float"
        },
        {
         "name": "377",
         "rawType": "float64",
         "type": "float"
        },
        {
         "name": "378",
         "rawType": "float64",
         "type": "float"
        },
        {
         "name": "379",
         "rawType": "float64",
         "type": "float"
        },
        {
         "name": "380",
         "rawType": "float64",
         "type": "float"
        },
        {
         "name": "381",
         "rawType": "float64",
         "type": "float"
        },
        {
         "name": "382",
         "rawType": "float64",
         "type": "float"
        },
        {
         "name": "383",
         "rawType": "float64",
         "type": "float"
        },
        {
         "name": "384",
         "rawType": "float64",
         "type": "float"
        },
        {
         "name": "385",
         "rawType": "float64",
         "type": "float"
        },
        {
         "name": "386",
         "rawType": "float64",
         "type": "float"
        },
        {
         "name": "387",
         "rawType": "float64",
         "type": "float"
        },
        {
         "name": "388",
         "rawType": "float64",
         "type": "float"
        },
        {
         "name": "389",
         "rawType": "float64",
         "type": "float"
        },
        {
         "name": "390",
         "rawType": "float64",
         "type": "float"
        },
        {
         "name": "391",
         "rawType": "float64",
         "type": "float"
        },
        {
         "name": "392",
         "rawType": "float64",
         "type": "float"
        },
        {
         "name": "393",
         "rawType": "float64",
         "type": "float"
        },
        {
         "name": "394",
         "rawType": "float64",
         "type": "float"
        },
        {
         "name": "395",
         "rawType": "float64",
         "type": "float"
        },
        {
         "name": "396",
         "rawType": "float64",
         "type": "float"
        },
        {
         "name": "397",
         "rawType": "float64",
         "type": "float"
        },
        {
         "name": "398",
         "rawType": "float64",
         "type": "float"
        },
        {
         "name": "399",
         "rawType": "float64",
         "type": "float"
        },
        {
         "name": "400",
         "rawType": "float64",
         "type": "float"
        },
        {
         "name": "401",
         "rawType": "float64",
         "type": "float"
        },
        {
         "name": "402",
         "rawType": "float64",
         "type": "float"
        },
        {
         "name": "403",
         "rawType": "float64",
         "type": "float"
        },
        {
         "name": "404",
         "rawType": "float64",
         "type": "float"
        },
        {
         "name": "405",
         "rawType": "float64",
         "type": "float"
        },
        {
         "name": "406",
         "rawType": "float64",
         "type": "float"
        },
        {
         "name": "407",
         "rawType": "float64",
         "type": "float"
        },
        {
         "name": "408",
         "rawType": "float64",
         "type": "float"
        },
        {
         "name": "409",
         "rawType": "float64",
         "type": "float"
        },
        {
         "name": "410",
         "rawType": "float64",
         "type": "float"
        },
        {
         "name": "411",
         "rawType": "float64",
         "type": "float"
        },
        {
         "name": "412",
         "rawType": "float64",
         "type": "float"
        },
        {
         "name": "413",
         "rawType": "float64",
         "type": "float"
        },
        {
         "name": "414",
         "rawType": "float64",
         "type": "float"
        },
        {
         "name": "415",
         "rawType": "float64",
         "type": "float"
        },
        {
         "name": "416",
         "rawType": "float64",
         "type": "float"
        },
        {
         "name": "417",
         "rawType": "float64",
         "type": "float"
        },
        {
         "name": "418",
         "rawType": "float64",
         "type": "float"
        },
        {
         "name": "419",
         "rawType": "float64",
         "type": "float"
        },
        {
         "name": "420",
         "rawType": "float64",
         "type": "float"
        },
        {
         "name": "421",
         "rawType": "float64",
         "type": "float"
        },
        {
         "name": "422",
         "rawType": "float64",
         "type": "float"
        },
        {
         "name": "423",
         "rawType": "float64",
         "type": "float"
        },
        {
         "name": "424",
         "rawType": "float64",
         "type": "float"
        },
        {
         "name": "425",
         "rawType": "float64",
         "type": "float"
        },
        {
         "name": "426",
         "rawType": "float64",
         "type": "float"
        },
        {
         "name": "427",
         "rawType": "float64",
         "type": "float"
        },
        {
         "name": "428",
         "rawType": "float64",
         "type": "float"
        },
        {
         "name": "429",
         "rawType": "float64",
         "type": "float"
        },
        {
         "name": "430",
         "rawType": "float64",
         "type": "float"
        },
        {
         "name": "431",
         "rawType": "float64",
         "type": "float"
        },
        {
         "name": "432",
         "rawType": "float64",
         "type": "float"
        },
        {
         "name": "433",
         "rawType": "float64",
         "type": "float"
        },
        {
         "name": "434",
         "rawType": "float64",
         "type": "float"
        },
        {
         "name": "435",
         "rawType": "float64",
         "type": "float"
        },
        {
         "name": "436",
         "rawType": "float64",
         "type": "float"
        },
        {
         "name": "437",
         "rawType": "float64",
         "type": "float"
        },
        {
         "name": "438",
         "rawType": "float64",
         "type": "float"
        },
        {
         "name": "439",
         "rawType": "float64",
         "type": "float"
        },
        {
         "name": "440",
         "rawType": "float64",
         "type": "float"
        },
        {
         "name": "441",
         "rawType": "float64",
         "type": "float"
        },
        {
         "name": "442",
         "rawType": "float64",
         "type": "float"
        },
        {
         "name": "443",
         "rawType": "float64",
         "type": "float"
        },
        {
         "name": "444",
         "rawType": "float64",
         "type": "float"
        },
        {
         "name": "445",
         "rawType": "float64",
         "type": "float"
        },
        {
         "name": "446",
         "rawType": "float64",
         "type": "float"
        },
        {
         "name": "447",
         "rawType": "float64",
         "type": "float"
        },
        {
         "name": "448",
         "rawType": "float64",
         "type": "float"
        },
        {
         "name": "449",
         "rawType": "float64",
         "type": "float"
        },
        {
         "name": "450",
         "rawType": "float64",
         "type": "float"
        },
        {
         "name": "451",
         "rawType": "float64",
         "type": "float"
        },
        {
         "name": "452",
         "rawType": "float64",
         "type": "float"
        },
        {
         "name": "453",
         "rawType": "float64",
         "type": "float"
        },
        {
         "name": "454",
         "rawType": "float64",
         "type": "float"
        },
        {
         "name": "455",
         "rawType": "float64",
         "type": "float"
        },
        {
         "name": "456",
         "rawType": "float64",
         "type": "float"
        },
        {
         "name": "457",
         "rawType": "float64",
         "type": "float"
        },
        {
         "name": "458",
         "rawType": "float64",
         "type": "float"
        },
        {
         "name": "459",
         "rawType": "float64",
         "type": "float"
        },
        {
         "name": "460",
         "rawType": "float64",
         "type": "float"
        },
        {
         "name": "461",
         "rawType": "float64",
         "type": "float"
        },
        {
         "name": "462",
         "rawType": "float64",
         "type": "float"
        },
        {
         "name": "463",
         "rawType": "float64",
         "type": "float"
        },
        {
         "name": "464",
         "rawType": "float64",
         "type": "float"
        },
        {
         "name": "465",
         "rawType": "float64",
         "type": "float"
        },
        {
         "name": "466",
         "rawType": "float64",
         "type": "float"
        },
        {
         "name": "467",
         "rawType": "float64",
         "type": "float"
        },
        {
         "name": "468",
         "rawType": "float64",
         "type": "float"
        },
        {
         "name": "469",
         "rawType": "float64",
         "type": "float"
        },
        {
         "name": "470",
         "rawType": "float64",
         "type": "float"
        },
        {
         "name": "471",
         "rawType": "float64",
         "type": "float"
        },
        {
         "name": "472",
         "rawType": "float64",
         "type": "float"
        },
        {
         "name": "473",
         "rawType": "float64",
         "type": "float"
        },
        {
         "name": "474",
         "rawType": "float64",
         "type": "float"
        },
        {
         "name": "475",
         "rawType": "float64",
         "type": "float"
        },
        {
         "name": "476",
         "rawType": "float64",
         "type": "float"
        },
        {
         "name": "477",
         "rawType": "float64",
         "type": "float"
        },
        {
         "name": "478",
         "rawType": "float64",
         "type": "float"
        },
        {
         "name": "479",
         "rawType": "float64",
         "type": "float"
        },
        {
         "name": "480",
         "rawType": "float64",
         "type": "float"
        },
        {
         "name": "481",
         "rawType": "float64",
         "type": "float"
        },
        {
         "name": "482",
         "rawType": "float64",
         "type": "float"
        },
        {
         "name": "483",
         "rawType": "float64",
         "type": "float"
        },
        {
         "name": "484",
         "rawType": "float64",
         "type": "float"
        },
        {
         "name": "485",
         "rawType": "float64",
         "type": "float"
        },
        {
         "name": "486",
         "rawType": "float64",
         "type": "float"
        },
        {
         "name": "487",
         "rawType": "float64",
         "type": "float"
        },
        {
         "name": "488",
         "rawType": "float64",
         "type": "float"
        },
        {
         "name": "489",
         "rawType": "float64",
         "type": "float"
        },
        {
         "name": "490",
         "rawType": "float64",
         "type": "float"
        },
        {
         "name": "491",
         "rawType": "float64",
         "type": "float"
        },
        {
         "name": "492",
         "rawType": "float64",
         "type": "float"
        },
        {
         "name": "493",
         "rawType": "float64",
         "type": "float"
        },
        {
         "name": "494",
         "rawType": "float64",
         "type": "float"
        },
        {
         "name": "495",
         "rawType": "float64",
         "type": "float"
        },
        {
         "name": "496",
         "rawType": "float64",
         "type": "float"
        },
        {
         "name": "497",
         "rawType": "float64",
         "type": "float"
        },
        {
         "name": "498",
         "rawType": "float64",
         "type": "float"
        },
        {
         "name": "499",
         "rawType": "float64",
         "type": "float"
        },
        {
         "name": "500",
         "rawType": "float64",
         "type": "float"
        },
        {
         "name": "501",
         "rawType": "float64",
         "type": "float"
        },
        {
         "name": "502",
         "rawType": "float64",
         "type": "float"
        },
        {
         "name": "503",
         "rawType": "float64",
         "type": "float"
        },
        {
         "name": "504",
         "rawType": "float64",
         "type": "float"
        },
        {
         "name": "505",
         "rawType": "float64",
         "type": "float"
        },
        {
         "name": "506",
         "rawType": "float64",
         "type": "float"
        },
        {
         "name": "507",
         "rawType": "float64",
         "type": "float"
        },
        {
         "name": "508",
         "rawType": "float64",
         "type": "float"
        },
        {
         "name": "509",
         "rawType": "float64",
         "type": "float"
        },
        {
         "name": "510",
         "rawType": "float64",
         "type": "float"
        },
        {
         "name": "511",
         "rawType": "float64",
         "type": "float"
        },
        {
         "name": "512",
         "rawType": "float64",
         "type": "float"
        },
        {
         "name": "513",
         "rawType": "float64",
         "type": "float"
        },
        {
         "name": "514",
         "rawType": "float64",
         "type": "float"
        },
        {
         "name": "515",
         "rawType": "float64",
         "type": "float"
        },
        {
         "name": "516",
         "rawType": "float64",
         "type": "float"
        },
        {
         "name": "517",
         "rawType": "float64",
         "type": "float"
        },
        {
         "name": "518",
         "rawType": "float64",
         "type": "float"
        },
        {
         "name": "519",
         "rawType": "float64",
         "type": "float"
        },
        {
         "name": "520",
         "rawType": "float64",
         "type": "float"
        },
        {
         "name": "521",
         "rawType": "float64",
         "type": "float"
        },
        {
         "name": "522",
         "rawType": "float64",
         "type": "float"
        },
        {
         "name": "523",
         "rawType": "float64",
         "type": "float"
        },
        {
         "name": "524",
         "rawType": "float64",
         "type": "float"
        },
        {
         "name": "525",
         "rawType": "float64",
         "type": "float"
        },
        {
         "name": "526",
         "rawType": "float64",
         "type": "float"
        },
        {
         "name": "527",
         "rawType": "float64",
         "type": "float"
        },
        {
         "name": "528",
         "rawType": "float64",
         "type": "float"
        },
        {
         "name": "529",
         "rawType": "float64",
         "type": "float"
        },
        {
         "name": "530",
         "rawType": "float64",
         "type": "float"
        },
        {
         "name": "531",
         "rawType": "float64",
         "type": "float"
        },
        {
         "name": "532",
         "rawType": "float64",
         "type": "float"
        },
        {
         "name": "533",
         "rawType": "float64",
         "type": "float"
        },
        {
         "name": "534",
         "rawType": "float64",
         "type": "float"
        },
        {
         "name": "535",
         "rawType": "float64",
         "type": "float"
        },
        {
         "name": "536",
         "rawType": "float64",
         "type": "float"
        },
        {
         "name": "537",
         "rawType": "float64",
         "type": "float"
        },
        {
         "name": "538",
         "rawType": "float64",
         "type": "float"
        },
        {
         "name": "539",
         "rawType": "float64",
         "type": "float"
        },
        {
         "name": "540",
         "rawType": "float64",
         "type": "float"
        },
        {
         "name": "541",
         "rawType": "float64",
         "type": "float"
        },
        {
         "name": "542",
         "rawType": "float64",
         "type": "float"
        },
        {
         "name": "543",
         "rawType": "float64",
         "type": "float"
        },
        {
         "name": "544",
         "rawType": "float64",
         "type": "float"
        },
        {
         "name": "545",
         "rawType": "float64",
         "type": "float"
        },
        {
         "name": "546",
         "rawType": "float64",
         "type": "float"
        },
        {
         "name": "547",
         "rawType": "float64",
         "type": "float"
        },
        {
         "name": "548",
         "rawType": "float64",
         "type": "float"
        },
        {
         "name": "549",
         "rawType": "float64",
         "type": "float"
        },
        {
         "name": "550",
         "rawType": "float64",
         "type": "float"
        },
        {
         "name": "551",
         "rawType": "float64",
         "type": "float"
        },
        {
         "name": "552",
         "rawType": "float64",
         "type": "float"
        },
        {
         "name": "553",
         "rawType": "float64",
         "type": "float"
        },
        {
         "name": "554",
         "rawType": "float64",
         "type": "float"
        },
        {
         "name": "555",
         "rawType": "float64",
         "type": "float"
        },
        {
         "name": "556",
         "rawType": "float64",
         "type": "float"
        },
        {
         "name": "557",
         "rawType": "float64",
         "type": "float"
        },
        {
         "name": "558",
         "rawType": "float64",
         "type": "float"
        },
        {
         "name": "559",
         "rawType": "float64",
         "type": "float"
        },
        {
         "name": "560",
         "rawType": "float64",
         "type": "float"
        },
        {
         "name": "561",
         "rawType": "float64",
         "type": "float"
        },
        {
         "name": "562",
         "rawType": "float64",
         "type": "float"
        },
        {
         "name": "563",
         "rawType": "float64",
         "type": "float"
        },
        {
         "name": "564",
         "rawType": "float64",
         "type": "float"
        },
        {
         "name": "565",
         "rawType": "float64",
         "type": "float"
        },
        {
         "name": "566",
         "rawType": "float64",
         "type": "float"
        },
        {
         "name": "567",
         "rawType": "float64",
         "type": "float"
        },
        {
         "name": "568",
         "rawType": "float64",
         "type": "float"
        },
        {
         "name": "569",
         "rawType": "float64",
         "type": "float"
        },
        {
         "name": "570",
         "rawType": "float64",
         "type": "float"
        },
        {
         "name": "571",
         "rawType": "float64",
         "type": "float"
        },
        {
         "name": "572",
         "rawType": "float64",
         "type": "float"
        },
        {
         "name": "573",
         "rawType": "float64",
         "type": "float"
        },
        {
         "name": "574",
         "rawType": "float64",
         "type": "float"
        },
        {
         "name": "575",
         "rawType": "float64",
         "type": "float"
        },
        {
         "name": "576",
         "rawType": "float64",
         "type": "float"
        },
        {
         "name": "577",
         "rawType": "float64",
         "type": "float"
        },
        {
         "name": "578",
         "rawType": "float64",
         "type": "float"
        },
        {
         "name": "579",
         "rawType": "float64",
         "type": "float"
        },
        {
         "name": "580",
         "rawType": "float64",
         "type": "float"
        },
        {
         "name": "581",
         "rawType": "float64",
         "type": "float"
        },
        {
         "name": "582",
         "rawType": "float64",
         "type": "float"
        },
        {
         "name": "583",
         "rawType": "float64",
         "type": "float"
        },
        {
         "name": "584",
         "rawType": "float64",
         "type": "float"
        },
        {
         "name": "585",
         "rawType": "float64",
         "type": "float"
        },
        {
         "name": "586",
         "rawType": "float64",
         "type": "float"
        },
        {
         "name": "587",
         "rawType": "float64",
         "type": "float"
        },
        {
         "name": "588",
         "rawType": "float64",
         "type": "float"
        },
        {
         "name": "589",
         "rawType": "float64",
         "type": "float"
        },
        {
         "name": "590",
         "rawType": "float64",
         "type": "float"
        },
        {
         "name": "591",
         "rawType": "float64",
         "type": "float"
        },
        {
         "name": "592",
         "rawType": "float64",
         "type": "float"
        },
        {
         "name": "593",
         "rawType": "float64",
         "type": "float"
        },
        {
         "name": "594",
         "rawType": "float64",
         "type": "float"
        },
        {
         "name": "595",
         "rawType": "float64",
         "type": "float"
        },
        {
         "name": "596",
         "rawType": "float64",
         "type": "float"
        },
        {
         "name": "597",
         "rawType": "float64",
         "type": "float"
        },
        {
         "name": "598",
         "rawType": "float64",
         "type": "float"
        },
        {
         "name": "599",
         "rawType": "float64",
         "type": "float"
        },
        {
         "name": "600",
         "rawType": "float64",
         "type": "float"
        },
        {
         "name": "601",
         "rawType": "float64",
         "type": "float"
        },
        {
         "name": "602",
         "rawType": "float64",
         "type": "float"
        },
        {
         "name": "603",
         "rawType": "float64",
         "type": "float"
        },
        {
         "name": "604",
         "rawType": "float64",
         "type": "float"
        },
        {
         "name": "605",
         "rawType": "float64",
         "type": "float"
        },
        {
         "name": "606",
         "rawType": "float64",
         "type": "float"
        },
        {
         "name": "607",
         "rawType": "float64",
         "type": "float"
        },
        {
         "name": "608",
         "rawType": "float64",
         "type": "float"
        },
        {
         "name": "609",
         "rawType": "float64",
         "type": "float"
        },
        {
         "name": "610",
         "rawType": "float64",
         "type": "float"
        },
        {
         "name": "611",
         "rawType": "float64",
         "type": "float"
        },
        {
         "name": "612",
         "rawType": "float64",
         "type": "float"
        },
        {
         "name": "613",
         "rawType": "float64",
         "type": "float"
        },
        {
         "name": "614",
         "rawType": "float64",
         "type": "float"
        },
        {
         "name": "615",
         "rawType": "float64",
         "type": "float"
        },
        {
         "name": "616",
         "rawType": "float64",
         "type": "float"
        },
        {
         "name": "617",
         "rawType": "float64",
         "type": "float"
        },
        {
         "name": "618",
         "rawType": "float64",
         "type": "float"
        },
        {
         "name": "619",
         "rawType": "float64",
         "type": "float"
        },
        {
         "name": "620",
         "rawType": "float64",
         "type": "float"
        },
        {
         "name": "621",
         "rawType": "float64",
         "type": "float"
        },
        {
         "name": "622",
         "rawType": "float64",
         "type": "float"
        },
        {
         "name": "623",
         "rawType": "float64",
         "type": "float"
        },
        {
         "name": "624",
         "rawType": "float64",
         "type": "float"
        },
        {
         "name": "625",
         "rawType": "float64",
         "type": "float"
        },
        {
         "name": "626",
         "rawType": "float64",
         "type": "float"
        },
        {
         "name": "627",
         "rawType": "float64",
         "type": "float"
        },
        {
         "name": "628",
         "rawType": "float64",
         "type": "float"
        },
        {
         "name": "629",
         "rawType": "float64",
         "type": "float"
        },
        {
         "name": "630",
         "rawType": "float64",
         "type": "float"
        },
        {
         "name": "631",
         "rawType": "float64",
         "type": "float"
        },
        {
         "name": "632",
         "rawType": "float64",
         "type": "float"
        },
        {
         "name": "633",
         "rawType": "float64",
         "type": "float"
        },
        {
         "name": "634",
         "rawType": "float64",
         "type": "float"
        },
        {
         "name": "635",
         "rawType": "float64",
         "type": "float"
        },
        {
         "name": "636",
         "rawType": "float64",
         "type": "float"
        },
        {
         "name": "637",
         "rawType": "float64",
         "type": "float"
        },
        {
         "name": "638",
         "rawType": "float64",
         "type": "float"
        },
        {
         "name": "639",
         "rawType": "float64",
         "type": "float"
        },
        {
         "name": "640",
         "rawType": "float64",
         "type": "float"
        },
        {
         "name": "641",
         "rawType": "float64",
         "type": "float"
        },
        {
         "name": "642",
         "rawType": "float64",
         "type": "float"
        },
        {
         "name": "643",
         "rawType": "float64",
         "type": "float"
        },
        {
         "name": "644",
         "rawType": "float64",
         "type": "float"
        },
        {
         "name": "645",
         "rawType": "float64",
         "type": "float"
        },
        {
         "name": "646",
         "rawType": "float64",
         "type": "float"
        },
        {
         "name": "647",
         "rawType": "float64",
         "type": "float"
        },
        {
         "name": "648",
         "rawType": "float64",
         "type": "float"
        },
        {
         "name": "649",
         "rawType": "float64",
         "type": "float"
        },
        {
         "name": "650",
         "rawType": "float64",
         "type": "float"
        },
        {
         "name": "651",
         "rawType": "float64",
         "type": "float"
        },
        {
         "name": "652",
         "rawType": "float64",
         "type": "float"
        },
        {
         "name": "653",
         "rawType": "float64",
         "type": "float"
        },
        {
         "name": "654",
         "rawType": "float64",
         "type": "float"
        },
        {
         "name": "655",
         "rawType": "float64",
         "type": "float"
        },
        {
         "name": "656",
         "rawType": "float64",
         "type": "float"
        },
        {
         "name": "657",
         "rawType": "float64",
         "type": "float"
        },
        {
         "name": "658",
         "rawType": "float64",
         "type": "float"
        },
        {
         "name": "659",
         "rawType": "float64",
         "type": "float"
        },
        {
         "name": "660",
         "rawType": "float64",
         "type": "float"
        },
        {
         "name": "661",
         "rawType": "float64",
         "type": "float"
        },
        {
         "name": "662",
         "rawType": "float64",
         "type": "float"
        },
        {
         "name": "663",
         "rawType": "float64",
         "type": "float"
        },
        {
         "name": "664",
         "rawType": "float64",
         "type": "float"
        },
        {
         "name": "665",
         "rawType": "float64",
         "type": "float"
        },
        {
         "name": "666",
         "rawType": "float64",
         "type": "float"
        },
        {
         "name": "667",
         "rawType": "float64",
         "type": "float"
        },
        {
         "name": "668",
         "rawType": "float64",
         "type": "float"
        },
        {
         "name": "669",
         "rawType": "float64",
         "type": "float"
        },
        {
         "name": "670",
         "rawType": "float64",
         "type": "float"
        },
        {
         "name": "671",
         "rawType": "float64",
         "type": "float"
        },
        {
         "name": "672",
         "rawType": "float64",
         "type": "float"
        },
        {
         "name": "673",
         "rawType": "float64",
         "type": "float"
        },
        {
         "name": "674",
         "rawType": "float64",
         "type": "float"
        },
        {
         "name": "675",
         "rawType": "float64",
         "type": "float"
        },
        {
         "name": "676",
         "rawType": "float64",
         "type": "float"
        },
        {
         "name": "677",
         "rawType": "float64",
         "type": "float"
        },
        {
         "name": "678",
         "rawType": "float64",
         "type": "float"
        },
        {
         "name": "679",
         "rawType": "float64",
         "type": "float"
        },
        {
         "name": "680",
         "rawType": "float64",
         "type": "float"
        },
        {
         "name": "681",
         "rawType": "float64",
         "type": "float"
        },
        {
         "name": "682",
         "rawType": "float64",
         "type": "float"
        },
        {
         "name": "683",
         "rawType": "float64",
         "type": "float"
        },
        {
         "name": "684",
         "rawType": "float64",
         "type": "float"
        },
        {
         "name": "685",
         "rawType": "float64",
         "type": "float"
        },
        {
         "name": "686",
         "rawType": "float64",
         "type": "float"
        },
        {
         "name": "687",
         "rawType": "float64",
         "type": "float"
        },
        {
         "name": "688",
         "rawType": "float64",
         "type": "float"
        },
        {
         "name": "689",
         "rawType": "float64",
         "type": "float"
        },
        {
         "name": "690",
         "rawType": "float64",
         "type": "float"
        },
        {
         "name": "691",
         "rawType": "float64",
         "type": "float"
        },
        {
         "name": "692",
         "rawType": "float64",
         "type": "float"
        },
        {
         "name": "693",
         "rawType": "float64",
         "type": "float"
        },
        {
         "name": "694",
         "rawType": "float64",
         "type": "float"
        },
        {
         "name": "695",
         "rawType": "float64",
         "type": "float"
        },
        {
         "name": "696",
         "rawType": "float64",
         "type": "float"
        },
        {
         "name": "697",
         "rawType": "float64",
         "type": "float"
        },
        {
         "name": "698",
         "rawType": "float64",
         "type": "float"
        },
        {
         "name": "699",
         "rawType": "float64",
         "type": "float"
        },
        {
         "name": "700",
         "rawType": "float64",
         "type": "float"
        },
        {
         "name": "701",
         "rawType": "float64",
         "type": "float"
        },
        {
         "name": "702",
         "rawType": "float64",
         "type": "float"
        },
        {
         "name": "703",
         "rawType": "float64",
         "type": "float"
        },
        {
         "name": "704",
         "rawType": "float64",
         "type": "float"
        },
        {
         "name": "705",
         "rawType": "float64",
         "type": "float"
        },
        {
         "name": "706",
         "rawType": "float64",
         "type": "float"
        },
        {
         "name": "707",
         "rawType": "float64",
         "type": "float"
        },
        {
         "name": "708",
         "rawType": "float64",
         "type": "float"
        },
        {
         "name": "709",
         "rawType": "float64",
         "type": "float"
        },
        {
         "name": "710",
         "rawType": "float64",
         "type": "float"
        },
        {
         "name": "711",
         "rawType": "float64",
         "type": "float"
        },
        {
         "name": "712",
         "rawType": "float64",
         "type": "float"
        },
        {
         "name": "713",
         "rawType": "float64",
         "type": "float"
        },
        {
         "name": "714",
         "rawType": "float64",
         "type": "float"
        },
        {
         "name": "715",
         "rawType": "float64",
         "type": "float"
        },
        {
         "name": "716",
         "rawType": "float64",
         "type": "float"
        },
        {
         "name": "717",
         "rawType": "float64",
         "type": "float"
        },
        {
         "name": "718",
         "rawType": "float64",
         "type": "float"
        },
        {
         "name": "719",
         "rawType": "float64",
         "type": "float"
        },
        {
         "name": "720",
         "rawType": "float64",
         "type": "float"
        },
        {
         "name": "721",
         "rawType": "float64",
         "type": "float"
        },
        {
         "name": "722",
         "rawType": "float64",
         "type": "float"
        },
        {
         "name": "723",
         "rawType": "float64",
         "type": "float"
        },
        {
         "name": "724",
         "rawType": "float64",
         "type": "float"
        },
        {
         "name": "725",
         "rawType": "float64",
         "type": "float"
        },
        {
         "name": "726",
         "rawType": "float64",
         "type": "float"
        },
        {
         "name": "727",
         "rawType": "float64",
         "type": "float"
        },
        {
         "name": "728",
         "rawType": "float64",
         "type": "float"
        },
        {
         "name": "729",
         "rawType": "float64",
         "type": "float"
        },
        {
         "name": "730",
         "rawType": "float64",
         "type": "float"
        },
        {
         "name": "731",
         "rawType": "float64",
         "type": "float"
        },
        {
         "name": "732",
         "rawType": "float64",
         "type": "float"
        },
        {
         "name": "733",
         "rawType": "float64",
         "type": "float"
        },
        {
         "name": "734",
         "rawType": "float64",
         "type": "float"
        },
        {
         "name": "735",
         "rawType": "float64",
         "type": "float"
        },
        {
         "name": "736",
         "rawType": "float64",
         "type": "float"
        },
        {
         "name": "737",
         "rawType": "float64",
         "type": "float"
        },
        {
         "name": "738",
         "rawType": "float64",
         "type": "float"
        },
        {
         "name": "739",
         "rawType": "float64",
         "type": "float"
        },
        {
         "name": "740",
         "rawType": "float64",
         "type": "float"
        },
        {
         "name": "741",
         "rawType": "float64",
         "type": "float"
        },
        {
         "name": "742",
         "rawType": "float64",
         "type": "float"
        },
        {
         "name": "743",
         "rawType": "float64",
         "type": "float"
        },
        {
         "name": "744",
         "rawType": "float64",
         "type": "float"
        },
        {
         "name": "745",
         "rawType": "float64",
         "type": "float"
        },
        {
         "name": "746",
         "rawType": "float64",
         "type": "float"
        },
        {
         "name": "747",
         "rawType": "float64",
         "type": "float"
        },
        {
         "name": "748",
         "rawType": "float64",
         "type": "float"
        },
        {
         "name": "749",
         "rawType": "float64",
         "type": "float"
        },
        {
         "name": "750",
         "rawType": "float64",
         "type": "float"
        },
        {
         "name": "751",
         "rawType": "float64",
         "type": "float"
        },
        {
         "name": "752",
         "rawType": "float64",
         "type": "float"
        },
        {
         "name": "753",
         "rawType": "float64",
         "type": "float"
        },
        {
         "name": "754",
         "rawType": "float64",
         "type": "float"
        },
        {
         "name": "755",
         "rawType": "float64",
         "type": "float"
        },
        {
         "name": "756",
         "rawType": "float64",
         "type": "float"
        },
        {
         "name": "757",
         "rawType": "float64",
         "type": "float"
        },
        {
         "name": "758",
         "rawType": "float64",
         "type": "float"
        },
        {
         "name": "759",
         "rawType": "float64",
         "type": "float"
        },
        {
         "name": "760",
         "rawType": "float64",
         "type": "float"
        },
        {
         "name": "761",
         "rawType": "float64",
         "type": "float"
        },
        {
         "name": "762",
         "rawType": "float64",
         "type": "float"
        },
        {
         "name": "763",
         "rawType": "float64",
         "type": "float"
        },
        {
         "name": "764",
         "rawType": "float64",
         "type": "float"
        },
        {
         "name": "765",
         "rawType": "float64",
         "type": "float"
        },
        {
         "name": "766",
         "rawType": "float64",
         "type": "float"
        },
        {
         "name": "767",
         "rawType": "float64",
         "type": "float"
        }
       ],
       "conversionMethod": "pd.DataFrame",
       "ref": "57fa9eb0-10ab-4247-a234-8b62e5c822ff",
       "rows": [
        [
         "0",
         "245.0",
         "1.0",
         "-0.44655433",
         "0.3011617",
         "-0.89367217",
         "1.1440341",
         "0.07000336",
         "-0.879428",
         "0.42058262",
         "0.20633039",
         "-0.074306935",
         "-0.16346137",
         "0.43645978",
         "-0.2253519",
         "0.29172066",
         "-0.5978439",
         "-0.34916973",
         "-0.27155688",
         "0.03024616",
         "-0.7081773",
         "0.7066102",
         "-0.26505953",
         "-0.7842346",
         "-1.3276271",
         "0.18657811",
         "0.29219452",
         "0.33909032",
         "0.4729259",
         "-0.13908312",
         "-1.0684961",
         "1.3849595",
         "-0.35598615",
         "-0.34412003",
         "-0.90528446",
         "-0.77501893",
         "-1.2501312",
         "0.28423953",
         "-0.4912038",
         "-1.4797343",
         "0.93949825",
         "0.58914465",
         "0.041332316",
         "0.32271633",
         "0.1111005",
         "0.65388036",
         "0.9336589",
         "-1.1768255",
         "-0.598753",
         "-0.7250554",
         "1.0496985",
         "1.041865",
         "1.0133619",
         "-0.15644087",
         "-1.0770558",
         "0.2501519",
         "-0.4738583",
         "0.41446593",
         "-0.3679874",
         "0.68249357",
         "-0.010769655",
         "0.3103402",
         "-0.9237521",
         "-0.8824229",
         "0.6278651",
         "-0.41341236",
         "0.6849334",
         "1.2818496",
         "0.16615833",
         "1.0126171",
         "-0.6352338",
         "-0.6873597",
         "-0.6743969",
         "-0.5413611",
         "-0.48422608",
         "-0.15011223",
         "0.55627245",
         "0.55250543",
         "1.3171669",
         "-0.10498976",
         "-0.31935123",
         "-0.044718776",
         "0.83414793",
         "0.4373454",
         "-0.2720354",
         "0.32941842",
         "0.63684267",
         "0.674876",
         "0.28345522",
         "-0.83635163",
         "-0.43336505",
         "0.896521",
         "-0.039025657",
         "-0.3325161",
         "0.48957798",
         "1.3940991",
         "-0.26986498",
         "-0.2582116",
         "0.2826012",
         "1.4093974",
         "0.7689602",
         "0.6147945",
         "0.29568273",
         "0.49971244",
         "-0.23519897",
         "0.22682515",
         "0.9797727",
         "0.93937445",
         "0.0045683375",
         "-0.05560582",
         "0.48019192",
         "0.33283657",
         "-0.083494015",
         "-0.08042098",
         "-1.2207222",
         "-0.6696013",
         "0.50494075",
         "-0.81517744",
         "-0.45839438",
         "-0.68491286",
         "-0.42356047",
         "-0.6079885",
         "1.1799173",
         "-0.93177974",
         "-0.1763016",
         "0.4256724",
         "0.18439972",
         "-0.21771415",
         "-0.19960831",
         "-0.20072286",
         "-0.6975979",
         "0.1907386",
         "0.036253627",
         "0.07765336",
         "-0.11689525",
         "-0.14824323",
         "-0.9214383",
         "0.17263164",
         "0.065814234",
         "-0.4210233",
         "-0.8174785",
         "-0.77758384",
         "-0.008772872",
         "0.729939",
         "-0.21145542",
         "0.78257126",
         "0.86096954",
         "0.5807735",
         "0.2567065",
         "-0.89083296",
         "0.30696052",
         "0.097586386",
         "0.299721",
         "-0.58513504",
         "0.64157516",
         "0.07003142",
         "-0.480648",
         "-0.70669365",
         "-0.2897735",
         "0.27516884",
         "0.174419",
         "0.2772607",
         "-0.27339864",
         "0.05398895",
         "0.011819617",
         "0.11396814",
         "0.48004955",
         "-0.94178414",
         "0.16942738",
         "0.57206416",
         "-0.48851663",
         "-0.24778378",
         "2.0002048",
         "-0.5920062",
         "0.5834289",
         "0.29115623",
         "0.045276597",
         "0.7836043",
         "-0.485081",
         "-0.36362875",
         "0.34908882",
         "0.6479225",
         "0.9707137",
         "-0.50404066",
         "0.23132928",
         "-0.9174087",
         "-0.39966813",
         "-0.31863323",
         "-1.076161",
         "0.63613105",
         "0.29606587",
         "0.02615737",
         "0.5926942",
         "0.5185952",
         "-0.7322747",
         "0.38176104",
         "-0.7699417",
         "-1.0860685",
         "0.33999825",
         "-0.8546117",
         "-0.35788104",
         "-0.06669386",
         "0.008387025",
         "0.7992687",
         "1.0336977",
         "-1.1269971",
         "-0.62088513",
         "0.40857697",
         "-0.66993976",
         "0.015408469",
         "0.36450055",
         "1.365957",
         "-0.716883",
         "-0.2377717",
         "-1.1919248",
         "-0.298968",
         "1.130868",
         "0.29700202",
         "-1.2196593",
         "0.47301286",
         "-0.18767995",
         "1.4295198",
         "-0.8630596",
         "0.24116823",
         "-0.6529043",
         "0.3805161",
         "1.2790525",
         "-0.416646",
         "-0.22728676",
         "0.76204574",
         "-0.11420693",
         "0.5387702",
         "0.50913477",
         "0.49982688",
         "0.42415714",
         "-0.6227103",
         "-0.28431436",
         "0.98543596",
         "-0.58575994",
         "0.85635364",
         "-0.8640956",
         "-0.047364887",
         "-1.009889",
         "0.2947844",
         "0.082783066",
         "0.69938165",
         "-0.06642376",
         "1.0983497",
         "0.16216278",
         "0.1489217",
         "-0.8045984",
         "0.24789113",
         "0.56644726",
         "0.3448923",
         "-0.3837268",
         "-0.40893826",
         "-0.36647832",
         "0.19966595",
         "-0.040786345",
         "-0.37688354",
         "0.23710346",
         "-0.8459453",
         "0.4011585",
         "-0.16461545",
         "-0.34242555",
         "-0.979345",
         "0.6044896",
         "0.76549995",
         "0.12653372",
         "0.18436064",
         "-0.69249034",
         "-0.26199773",
         "-0.34931183",
         "1.0441121",
         "-0.2542092",
         "0.6684811",
         "-1.1127512",
         "0.062243707",
         "-0.13601297",
         "-0.33268464",
         "-0.72978264",
         "0.6956851",
         "-0.5896668",
         "0.21387336",
         "1.0443078",
         "0.59321487",
         "-0.57031405",
         "-0.37915137",
         "-1.3830564",
         "0.31528404",
         "1.6070487",
         "-0.05931081",
         "-0.007169523",
         "0.43062714",
         "-0.3518645",
         "-0.033915445",
         "-0.47292444",
         "-1.4803802",
         "-0.5236234",
         "0.26248002",
         "0.2818192",
         "0.852616",
         "-1.0785269",
         "1.1549995",
         "0.096685044",
         "1.0562028",
         "0.13626772",
         "0.98007363",
         "0.5028985",
         "0.009076916",
         "-0.080252044",
         "0.06677379",
         "-0.47060704",
         "0.40444264",
         "0.95543826",
         "-0.34199032",
         "0.12814096",
         "0.104422666",
         "-0.44951394",
         "-0.099811085",
         "1.380175",
         "0.65098006",
         "-0.08887985",
         "-0.373249",
         "-1.1478738",
         "0.24148001",
         "0.16671628",
         "1.3428766",
         "0.6249896",
         "0.61854017",
         "-0.55476654",
         "-0.27821824",
         "0.13056843",
         "0.506776",
         "-0.28070983",
         "0.5036836",
         "-0.44383675",
         "0.6155293",
         "-0.5056108",
         "-0.37322164",
         "0.36467156",
         "-0.44140857",
         "-0.902899",
         "-0.4071138",
         "-0.32796434",
         "0.1203854",
         "0.30398235",
         "0.46505073",
         "-0.35306373",
         "0.108396046",
         "-0.19494216",
         "-0.03177669",
         "-0.20734328",
         "0.6989885",
         "0.2608336",
         "-0.15070665",
         "-1.1091391",
         "-0.8374231",
         "-0.8093705",
         "-0.01180828",
         "0.5188762",
         "0.067780375",
         "0.20938851",
         "-0.30260512",
         "-0.5554038",
         "0.1663819",
         "-0.28020775",
         "0.8759418",
         "0.3770357",
         "0.16730757",
         "0.5774634",
         "-0.14718297",
         "0.23460342",
         "-0.6244766",
         "0.5370625",
         "-0.746308",
         "0.27963465",
         "-0.515855",
         "0.23904689",
         "0.018034434",
         "0.030072298",
         "-0.06268677",
         "-0.63895416",
         "-0.32766092",
         "-0.121953934",
         "-0.2611047",
         "-0.41173503",
         "-0.05078526",
         "0.96871036",
         "0.57252115",
         "1.2720025",
         "-0.8941681",
         "0.66105855",
         "0.6313297",
         "-0.2822513",
         "0.22111894",
         "0.08392763",
         "0.63190985",
         "0.01952083",
         "0.46491373",
         "-0.45992714",
         "0.14463198",
         "0.6547675",
         "-0.8131869",
         "-1.4860917",
         "0.55477476",
         "-0.25839886",
         "-0.62854767",
         "-0.3653691",
         "0.32326967",
         "1.6490393",
         "-0.22124599",
         "0.31983778",
         "-0.9253053",
         "-0.10542727",
         "-0.042998716",
         "-0.16363001",
         "0.12235917",
         "0.66652215",
         "-0.8924575",
         "0.7832787",
         "-1.1324105",
         "-0.19626945",
         "-0.38962847",
         "0.5334396",
         "-6.630615",
         "-0.4690278",
         "-0.40677664",
         "0.22406738",
         "0.52231365",
         "-0.34823766",
         "0.9047043",
         "0.52001166",
         "0.09564882",
         "0.46646437",
         "-0.07776067",
         "0.9437649",
         "0.18434115",
         "0.8990182",
         "-0.043055125",
         "-0.05483749",
         "0.9442477",
         "0.7389098",
         "0.8670344",
         "0.14838107",
         "0.24549516",
         "-0.45179906",
         "-0.059537265",
         "-0.45777607",
         "0.7958944",
         "0.11054948",
         "-1.1054175",
         "0.07001257",
         "0.47739002",
         "0.85167074",
         "1.6072714",
         "0.3216246",
         "0.25943407",
         "0.19131625",
         "0.4533614",
         "-0.16019219",
         "0.12812117",
         "0.50753164",
         "-0.060556546",
         "-0.453632",
         "0.15828691",
         "0.5599775",
         "0.23798937",
         "0.49907583",
         "0.32347336",
         "-0.33044913",
         "-0.3692551",
         "-0.006086034",
         "0.33902317",
         "-0.8358016",
         "-0.6931888",
         "-0.11220339",
         "-1.0883622",
         "0.47762734",
         "-0.31999233",
         "0.7002237",
         "-0.9468062",
         "-0.5112053",
         "-0.42499852",
         "0.5470525",
         "0.011006781",
         "-0.251887",
         "-0.07294205",
         "0.3057687",
         "-0.06797483",
         "0.33095965",
         "-0.3831288",
         "0.11200228",
         "0.16238366",
         "0.11346403",
         "-0.06536481",
         "-0.2701799",
         "0.056474004",
         "0.3352616",
         "-0.38901943",
         "0.45671025",
         "-0.2841077",
         "0.10571342",
         "-0.03878246",
         "-0.86458707",
         "-0.47039536",
         "0.24719824",
         "-0.5562172",
         "0.6097484",
         "-1.2222848",
         "-1.5994272",
         "0.33831027",
         "0.48159832",
         "0.293523",
         "-0.27260947",
         "1.4282798",
         "-0.7267384",
         "0.026156135",
         "-0.24727675",
         "-1.0615513",
         "-0.74765253",
         "-0.83463645",
         "-0.2451428",
         "0.64428383",
         "-0.16625649",
         "0.6947862",
         "0.028618643",
         "1.0473164",
         "0.4285988",
         "0.13857892",
         "0.25199682",
         "0.032108564",
         "0.65388185",
         "-0.4759342",
         "-0.20814602",
         "0.5901065",
         "-0.23346083",
         "-0.2907054",
         "0.5351584",
         "0.116651714",
         "0.61118054",
         "-0.24703197",
         "-0.5968075",
         "0.23701622",
         "1.0798241",
         "0.4655007",
         "0.26676136",
         "-0.22212951",
         "0.14620002",
         "0.93477875",
         "-0.5539971",
         "-0.6590732",
         "-0.0935336",
         "0.5718579",
         "-0.4193013",
         "-0.6967534",
         "0.86144984",
         "0.8808709",
         "0.099428214",
         "1.2578013",
         "0.55608755",
         "-0.37239137",
         "-0.44350794",
         "1.0586864",
         "-0.021457028",
         "0.6679812",
         "-0.16138923",
         "-0.025886944",
         "0.95726055",
         "-0.5839192",
         "0.13850303",
         "0.08246206",
         "0.5364215",
         "0.6931941",
         "-0.2984761",
         "-0.30854973",
         "-1.0661199",
         "0.0039738473",
         "0.46521732",
         "0.6845741",
         "-0.024279308",
         "0.0012990853",
         "0.77308196",
         "0.35948178",
         "0.8237191",
         "-0.3024367",
         "0.77823365",
         "-0.41356665",
         "-1.005784",
         "0.22967805",
         "0.5493756",
         "0.13243112",
         "0.40357748",
         "0.07304259",
         "-0.25381407",
         "0.16424486",
         "-0.88166565",
         "0.35726228",
         "0.8492437",
         "0.5016624",
         "-0.30317265",
         "-0.83444166",
         "0.89033026",
         "-0.019966127",
         "0.87419564",
         "-0.30937493",
         "0.8273313",
         "-0.3603824",
         "-0.21466698",
         "0.34959564",
         "0.12596267",
         "-0.5814477",
         "0.1469073",
         "-0.23714851",
         "-0.52896243",
         "0.24759157",
         "0.060372837",
         "-0.754843",
         "-0.38864294",
         "0.4451872",
         "0.97591907",
         "0.20730783",
         "0.58190256",
         "-0.14788802",
         "0.9083001",
         "-0.72747093",
         "0.12870368",
         "-0.5064557",
         "0.8405593",
         "-0.24394426",
         "0.18204454",
         "0.47135943",
         "0.23746519",
         "-0.4132428",
         "-0.3353892",
         "0.31053627",
         "0.4933005",
         "-0.5999744",
         "0.27495113",
         "-0.28621468",
         "0.009216821",
         "0.16212842",
         "-0.265008",
         "0.17975141",
         "0.89642245",
         "-1.1735555",
         "0.39766964",
         "-0.87551147",
         "-0.7777886",
         "1.1468015",
         "-0.30424714",
         "-0.30290452",
         "0.3964535",
         "0.7867822",
         "0.5148197",
         "0.18182449",
         "-0.3427285",
         "0.13659082",
         "-0.6352008",
         "0.14114411",
         "1.5443163",
         "0.20771188",
         "0.38261855",
         "0.07255419",
         "-0.2981114",
         "0.041948695",
         "-0.6347768",
         "-0.86824673",
         "0.8526358",
         "0.43257472",
         "0.09447808",
         "-0.94685066",
         "0.025218911",
         "-0.3927667",
         "0.04047076",
         "0.42787412",
         "0.13321446",
         "-0.67222893",
         "0.17951842",
         "-0.33038524",
         "-0.033923205",
         "0.052439403",
         "-0.41222835",
         "-0.43455338",
         "1.3213797",
         "-0.82893133",
         "-0.36904413",
         "0.6400271",
         "-0.025460936",
         "-0.26227832",
         "0.25513765",
         "-0.033930436",
         "-0.4358791",
         "-0.28129894",
         "-1.3955208",
         "0.29262322",
         "1.0983263",
         "-0.39887166",
         "-1.0072674",
         "-0.47344148",
         "-0.6831471",
         "-0.3460541",
         "0.7260894",
         "0.4374332",
         "-0.76165074",
         "0.9933655",
         "0.52838886",
         "-0.5009971",
         "-0.97236454",
         "-0.7346593",
         "-0.75616723",
         "-0.43566242",
         "0.8913994",
         "-0.38526896",
         "0.48320404",
         "0.072207764",
         "1.1460943",
         "-0.3621447",
         "-0.13340454",
         "-0.47371852",
         "0.1224342",
         "0.5537191",
         "0.5373876",
         "0.017832512",
         "-0.68007284",
         "-0.6719829",
         "2.2954068",
         "-0.40848505",
         "-0.24371831",
         "-0.6649243",
         "0.25177094",
         "0.6895194",
         "1.5861316",
         "-0.6358653",
         "0.12405187",
         "0.15760761",
         "-0.5377851",
         "0.23871453",
         "-0.31076056",
         "0.95177805",
         "0.18179779",
         "-0.47528917",
         "-0.8511212",
         "-0.4643199",
         "0.49198395",
         "0.19237338",
         "-0.44394752",
         "-0.17413461",
         "-0.42502034",
         "-0.47152507",
         "0.939694",
         "0.52955884",
         "-0.2643042",
         "-0.68784744",
         "-0.03469961",
         "-0.77287346",
         "-0.6751763",
         "0.009698902",
         "0.49456602",
         "-0.19480373",
         "0.18537894",
         "-0.55047655",
         "-1.035134",
         "-0.8871548",
         "0.040835097",
         "0.24648434",
         "-1.0699091",
         "-0.13728715",
         "-0.18784799",
         "-0.926323",
         "0.35850856"
        ],
        [
         "1",
         "212.0",
         "1.0",
         "-0.44655433",
         "0.3011617",
         "-0.89367217",
         "1.1440341",
         "0.07000336",
         "-0.879428",
         "0.42058262",
         "0.20633039",
         "-0.074306935",
         "-0.16346137",
         "0.43645978",
         "-0.2253519",
         "0.29172066",
         "-0.5978439",
         "-0.34916973",
         "-0.27155688",
         "0.03024616",
         "-0.7081773",
         "0.7066102",
         "-0.26505953",
         "-0.7842346",
         "-1.3276271",
         "0.18657811",
         "0.29219452",
         "0.33909032",
         "0.4729259",
         "-0.13908312",
         "-1.0684961",
         "1.3849595",
         "-0.35598615",
         "-0.34412003",
         "-0.90528446",
         "-0.77501893",
         "-1.2501312",
         "0.28423953",
         "-0.4912038",
         "-1.4797343",
         "0.93949825",
         "0.58914465",
         "0.041332316",
         "0.32271633",
         "0.1111005",
         "0.65388036",
         "0.9336589",
         "-1.1768255",
         "-0.598753",
         "-0.7250554",
         "1.0496985",
         "1.041865",
         "1.0133619",
         "-0.15644087",
         "-1.0770558",
         "0.2501519",
         "-0.4738583",
         "0.41446593",
         "-0.3679874",
         "0.68249357",
         "-0.010769655",
         "0.3103402",
         "-0.9237521",
         "-0.8824229",
         "0.6278651",
         "-0.41341236",
         "0.6849334",
         "1.2818496",
         "0.16615833",
         "1.0126171",
         "-0.6352338",
         "-0.6873597",
         "-0.6743969",
         "-0.5413611",
         "-0.48422608",
         "-0.15011223",
         "0.55627245",
         "0.55250543",
         "1.3171669",
         "-0.10498976",
         "-0.31935123",
         "-0.044718776",
         "0.83414793",
         "0.4373454",
         "-0.2720354",
         "0.32941842",
         "0.63684267",
         "0.674876",
         "0.28345522",
         "-0.83635163",
         "-0.43336505",
         "0.896521",
         "-0.039025657",
         "-0.3325161",
         "0.48957798",
         "1.3940991",
         "-0.26986498",
         "-0.2582116",
         "0.2826012",
         "1.4093974",
         "0.7689602",
         "0.6147945",
         "0.29568273",
         "0.49971244",
         "-0.23519897",
         "0.22682515",
         "0.9797727",
         "0.93937445",
         "0.0045683375",
         "-0.05560582",
         "0.48019192",
         "0.33283657",
         "-0.083494015",
         "-0.08042098",
         "-1.2207222",
         "-0.6696013",
         "0.50494075",
         "-0.81517744",
         "-0.45839438",
         "-0.68491286",
         "-0.42356047",
         "-0.6079885",
         "1.1799173",
         "-0.93177974",
         "-0.1763016",
         "0.4256724",
         "0.18439972",
         "-0.21771415",
         "-0.19960831",
         "-0.20072286",
         "-0.6975979",
         "0.1907386",
         "0.036253627",
         "0.07765336",
         "-0.11689525",
         "-0.14824323",
         "-0.9214383",
         "0.17263164",
         "0.065814234",
         "-0.4210233",
         "-0.8174785",
         "-0.77758384",
         "-0.008772872",
         "0.729939",
         "-0.21145542",
         "0.78257126",
         "0.86096954",
         "0.5807735",
         "0.2567065",
         "-0.89083296",
         "0.30696052",
         "0.097586386",
         "0.299721",
         "-0.58513504",
         "0.64157516",
         "0.07003142",
         "-0.480648",
         "-0.70669365",
         "-0.2897735",
         "0.27516884",
         "0.174419",
         "0.2772607",
         "-0.27339864",
         "0.05398895",
         "0.011819617",
         "0.11396814",
         "0.48004955",
         "-0.94178414",
         "0.16942738",
         "0.57206416",
         "-0.48851663",
         "-0.24778378",
         "2.0002048",
         "-0.5920062",
         "0.5834289",
         "0.29115623",
         "0.045276597",
         "0.7836043",
         "-0.485081",
         "-0.36362875",
         "0.34908882",
         "0.6479225",
         "0.9707137",
         "-0.50404066",
         "0.23132928",
         "-0.9174087",
         "-0.39966813",
         "-0.31863323",
         "-1.076161",
         "0.63613105",
         "0.29606587",
         "0.02615737",
         "0.5926942",
         "0.5185952",
         "-0.7322747",
         "0.38176104",
         "-0.7699417",
         "-1.0860685",
         "0.33999825",
         "-0.8546117",
         "-0.35788104",
         "-0.06669386",
         "0.008387025",
         "0.7992687",
         "1.0336977",
         "-1.1269971",
         "-0.62088513",
         "0.40857697",
         "-0.66993976",
         "0.015408469",
         "0.36450055",
         "1.365957",
         "-0.716883",
         "-0.2377717",
         "-1.1919248",
         "-0.298968",
         "1.130868",
         "0.29700202",
         "-1.2196593",
         "0.47301286",
         "-0.18767995",
         "1.4295198",
         "-0.8630596",
         "0.24116823",
         "-0.6529043",
         "0.3805161",
         "1.2790525",
         "-0.416646",
         "-0.22728676",
         "0.76204574",
         "-0.11420693",
         "0.5387702",
         "0.50913477",
         "0.49982688",
         "0.42415714",
         "-0.6227103",
         "-0.28431436",
         "0.98543596",
         "-0.58575994",
         "0.85635364",
         "-0.8640956",
         "-0.047364887",
         "-1.009889",
         "0.2947844",
         "0.082783066",
         "0.69938165",
         "-0.06642376",
         "1.0983497",
         "0.16216278",
         "0.1489217",
         "-0.8045984",
         "0.24789113",
         "0.56644726",
         "0.3448923",
         "-0.3837268",
         "-0.40893826",
         "-0.36647832",
         "0.19966595",
         "-0.040786345",
         "-0.37688354",
         "0.23710346",
         "-0.8459453",
         "0.4011585",
         "-0.16461545",
         "-0.34242555",
         "-0.979345",
         "0.6044896",
         "0.76549995",
         "0.12653372",
         "0.18436064",
         "-0.69249034",
         "-0.26199773",
         "-0.34931183",
         "1.0441121",
         "-0.2542092",
         "0.6684811",
         "-1.1127512",
         "0.062243707",
         "-0.13601297",
         "-0.33268464",
         "-0.72978264",
         "0.6956851",
         "-0.5896668",
         "0.21387336",
         "1.0443078",
         "0.59321487",
         "-0.57031405",
         "-0.37915137",
         "-1.3830564",
         "0.31528404",
         "1.6070487",
         "-0.05931081",
         "-0.007169523",
         "0.43062714",
         "-0.3518645",
         "-0.033915445",
         "-0.47292444",
         "-1.4803802",
         "-0.5236234",
         "0.26248002",
         "0.2818192",
         "0.852616",
         "-1.0785269",
         "1.1549995",
         "0.096685044",
         "1.0562028",
         "0.13626772",
         "0.98007363",
         "0.5028985",
         "0.009076916",
         "-0.080252044",
         "0.06677379",
         "-0.47060704",
         "0.40444264",
         "0.95543826",
         "-0.34199032",
         "0.12814096",
         "0.104422666",
         "-0.44951394",
         "-0.099811085",
         "1.380175",
         "0.65098006",
         "-0.08887985",
         "-0.373249",
         "-1.1478738",
         "0.24148001",
         "0.16671628",
         "1.3428766",
         "0.6249896",
         "0.61854017",
         "-0.55476654",
         "-0.27821824",
         "0.13056843",
         "0.506776",
         "-0.28070983",
         "0.5036836",
         "-0.44383675",
         "0.6155293",
         "-0.5056108",
         "-0.37322164",
         "0.36467156",
         "-0.44140857",
         "-0.902899",
         "-0.4071138",
         "-0.32796434",
         "0.1203854",
         "0.30398235",
         "0.46505073",
         "-0.35306373",
         "0.108396046",
         "-0.19494216",
         "-0.03177669",
         "-0.20734328",
         "0.6989885",
         "0.2608336",
         "-0.15070665",
         "-1.1091391",
         "-0.8374231",
         "-0.8093705",
         "-0.01180828",
         "0.5188762",
         "0.067780375",
         "0.20938851",
         "-0.30260512",
         "-0.5554038",
         "0.1663819",
         "-0.28020775",
         "0.8759418",
         "0.3770357",
         "0.16730757",
         "0.5774634",
         "-0.14718297",
         "0.23460342",
         "-0.6244766",
         "0.5370625",
         "-0.746308",
         "0.27963465",
         "-0.515855",
         "0.23904689",
         "0.018034434",
         "0.030072298",
         "-0.06268677",
         "-0.63895416",
         "-0.32766092",
         "-0.121953934",
         "-0.2611047",
         "-0.41173503",
         "-0.05078526",
         "0.96871036",
         "0.57252115",
         "1.2720025",
         "-0.8941681",
         "0.66105855",
         "0.6313297",
         "-0.2822513",
         "0.22111894",
         "0.08392763",
         "0.63190985",
         "0.01952083",
         "0.46491373",
         "-0.45992714",
         "0.14463198",
         "0.6547675",
         "-0.8131869",
         "-1.4860917",
         "0.55477476",
         "-0.25839886",
         "-0.62854767",
         "-0.3653691",
         "0.32326967",
         "1.6490393",
         "-0.22124599",
         "0.31983778",
         "-0.9253053",
         "-0.10542727",
         "-0.042998716",
         "-0.16363001",
         "0.12235917",
         "0.66652215",
         "-0.8924575",
         "0.7832787",
         "-1.1324105",
         "-0.19626945",
         "-0.38962847",
         "0.5334396",
         "-6.630615",
         "-0.4690278",
         "-0.40677664",
         "0.22406738",
         "0.52231365",
         "-0.34823766",
         "0.9047043",
         "0.52001166",
         "0.09564882",
         "0.46646437",
         "-0.07776067",
         "0.9437649",
         "0.18434115",
         "0.8990182",
         "-0.043055125",
         "-0.05483749",
         "0.9442477",
         "0.7389098",
         "0.8670344",
         "0.14838107",
         "0.24549516",
         "-0.45179906",
         "-0.059537265",
         "-0.45777607",
         "0.7958944",
         "0.11054948",
         "-1.1054175",
         "0.07001257",
         "0.47739002",
         "0.85167074",
         "1.6072714",
         "0.3216246",
         "0.25943407",
         "0.19131625",
         "0.4533614",
         "-0.16019219",
         "0.12812117",
         "0.50753164",
         "-0.060556546",
         "-0.453632",
         "0.15828691",
         "0.5599775",
         "0.23798937",
         "0.49907583",
         "0.32347336",
         "-0.33044913",
         "-0.3692551",
         "-0.006086034",
         "0.33902317",
         "-0.8358016",
         "-0.6931888",
         "-0.11220339",
         "-1.0883622",
         "0.47762734",
         "-0.31999233",
         "0.7002237",
         "-0.9468062",
         "-0.5112053",
         "-0.42499852",
         "0.5470525",
         "0.011006781",
         "-0.251887",
         "-0.07294205",
         "0.3057687",
         "-0.06797483",
         "0.33095965",
         "-0.3831288",
         "0.11200228",
         "0.16238366",
         "0.11346403",
         "-0.06536481",
         "-0.2701799",
         "0.056474004",
         "0.3352616",
         "-0.38901943",
         "0.45671025",
         "-0.2841077",
         "0.10571342",
         "-0.03878246",
         "-0.86458707",
         "-0.47039536",
         "0.24719824",
         "-0.5562172",
         "0.6097484",
         "-1.2222848",
         "-1.5994272",
         "0.33831027",
         "0.48159832",
         "0.293523",
         "-0.27260947",
         "1.4282798",
         "-0.7267384",
         "0.026156135",
         "-0.24727675",
         "-1.0615513",
         "-0.74765253",
         "-0.83463645",
         "-0.2451428",
         "0.64428383",
         "-0.16625649",
         "0.6947862",
         "0.028618643",
         "1.0473164",
         "0.4285988",
         "0.13857892",
         "0.25199682",
         "0.032108564",
         "0.65388185",
         "-0.4759342",
         "-0.20814602",
         "0.5901065",
         "-0.23346083",
         "-0.2907054",
         "0.5351584",
         "0.116651714",
         "0.61118054",
         "-0.24703197",
         "-0.5968075",
         "0.23701622",
         "1.0798241",
         "0.4655007",
         "0.26676136",
         "-0.22212951",
         "0.14620002",
         "0.93477875",
         "-0.5539971",
         "-0.6590732",
         "-0.0935336",
         "0.5718579",
         "-0.4193013",
         "-0.6967534",
         "0.86144984",
         "0.8808709",
         "0.099428214",
         "1.2578013",
         "0.55608755",
         "-0.37239137",
         "-0.44350794",
         "1.0586864",
         "-0.021457028",
         "0.6679812",
         "-0.16138923",
         "-0.025886944",
         "0.95726055",
         "-0.5839192",
         "0.13850303",
         "0.08246206",
         "0.5364215",
         "0.6931941",
         "-0.2984761",
         "-0.30854973",
         "-1.0661199",
         "0.0039738473",
         "0.46521732",
         "0.6845741",
         "-0.024279308",
         "0.0012990853",
         "0.77308196",
         "0.35948178",
         "0.8237191",
         "-0.3024367",
         "0.77823365",
         "-0.41356665",
         "-1.005784",
         "0.22967805",
         "0.5493756",
         "0.13243112",
         "0.40357748",
         "0.07304259",
         "-0.25381407",
         "0.16424486",
         "-0.88166565",
         "0.35726228",
         "0.8492437",
         "0.5016624",
         "-0.30317265",
         "-0.83444166",
         "0.89033026",
         "-0.019966127",
         "0.87419564",
         "-0.30937493",
         "0.8273313",
         "-0.3603824",
         "-0.21466698",
         "0.34959564",
         "0.12596267",
         "-0.5814477",
         "0.1469073",
         "-0.23714851",
         "-0.52896243",
         "0.24759157",
         "0.060372837",
         "-0.754843",
         "-0.38864294",
         "0.4451872",
         "0.97591907",
         "0.20730783",
         "0.58190256",
         "-0.14788802",
         "0.9083001",
         "-0.72747093",
         "0.12870368",
         "-0.5064557",
         "0.8405593",
         "-0.24394426",
         "0.18204454",
         "0.47135943",
         "0.23746519",
         "-0.4132428",
         "-0.3353892",
         "0.31053627",
         "0.4933005",
         "-0.5999744",
         "0.27495113",
         "-0.28621468",
         "0.009216821",
         "0.16212842",
         "-0.265008",
         "0.17975141",
         "0.89642245",
         "-1.1735555",
         "0.39766964",
         "-0.87551147",
         "-0.7777886",
         "1.1468015",
         "-0.30424714",
         "-0.30290452",
         "0.3964535",
         "0.7867822",
         "0.5148197",
         "0.18182449",
         "-0.3427285",
         "0.13659082",
         "-0.6352008",
         "0.14114411",
         "1.5443163",
         "0.20771188",
         "0.38261855",
         "0.07255419",
         "-0.2981114",
         "0.041948695",
         "-0.6347768",
         "-0.86824673",
         "0.8526358",
         "0.43257472",
         "0.09447808",
         "-0.94685066",
         "0.025218911",
         "-0.3927667",
         "0.04047076",
         "0.42787412",
         "0.13321446",
         "-0.67222893",
         "0.17951842",
         "-0.33038524",
         "-0.033923205",
         "0.052439403",
         "-0.41222835",
         "-0.43455338",
         "1.3213797",
         "-0.82893133",
         "-0.36904413",
         "0.6400271",
         "-0.025460936",
         "-0.26227832",
         "0.25513765",
         "-0.033930436",
         "-0.4358791",
         "-0.28129894",
         "-1.3955208",
         "0.29262322",
         "1.0983263",
         "-0.39887166",
         "-1.0072674",
         "-0.47344148",
         "-0.6831471",
         "-0.3460541",
         "0.7260894",
         "0.4374332",
         "-0.76165074",
         "0.9933655",
         "0.52838886",
         "-0.5009971",
         "-0.97236454",
         "-0.7346593",
         "-0.75616723",
         "-0.43566242",
         "0.8913994",
         "-0.38526896",
         "0.48320404",
         "0.072207764",
         "1.1460943",
         "-0.3621447",
         "-0.13340454",
         "-0.47371852",
         "0.1224342",
         "0.5537191",
         "0.5373876",
         "0.017832512",
         "-0.68007284",
         "-0.6719829",
         "2.2954068",
         "-0.40848505",
         "-0.24371831",
         "-0.6649243",
         "0.25177094",
         "0.6895194",
         "1.5861316",
         "-0.6358653",
         "0.12405187",
         "0.15760761",
         "-0.5377851",
         "0.23871453",
         "-0.31076056",
         "0.95177805",
         "0.18179779",
         "-0.47528917",
         "-0.8511212",
         "-0.4643199",
         "0.49198395",
         "0.19237338",
         "-0.44394752",
         "-0.17413461",
         "-0.42502034",
         "-0.47152507",
         "0.939694",
         "0.52955884",
         "-0.2643042",
         "-0.68784744",
         "-0.03469961",
         "-0.77287346",
         "-0.6751763",
         "0.009698902",
         "0.49456602",
         "-0.19480373",
         "0.18537894",
         "-0.55047655",
         "-1.035134",
         "-0.8871548",
         "0.040835097",
         "0.24648434",
         "-1.0699091",
         "-0.13728715",
         "-0.18784799",
         "-0.926323",
         "0.35850856"
        ],
        [
         "2",
         "31.0",
         "1.0",
         "-0.44655433",
         "0.3011617",
         "-0.89367217",
         "1.1440341",
         "0.07000336",
         "-0.879428",
         "0.42058262",
         "0.20633039",
         "-0.074306935",
         "-0.16346137",
         "0.43645978",
         "-0.2253519",
         "0.29172066",
         "-0.5978439",
         "-0.34916973",
         "-0.27155688",
         "0.03024616",
         "-0.7081773",
         "0.7066102",
         "-0.26505953",
         "-0.7842346",
         "-1.3276271",
         "0.18657811",
         "0.29219452",
         "0.33909032",
         "0.4729259",
         "-0.13908312",
         "-1.0684961",
         "1.3849595",
         "-0.35598615",
         "-0.34412003",
         "-0.90528446",
         "-0.77501893",
         "-1.2501312",
         "0.28423953",
         "-0.4912038",
         "-1.4797343",
         "0.93949825",
         "0.58914465",
         "0.041332316",
         "0.32271633",
         "0.1111005",
         "0.65388036",
         "0.9336589",
         "-1.1768255",
         "-0.598753",
         "-0.7250554",
         "1.0496985",
         "1.041865",
         "1.0133619",
         "-0.15644087",
         "-1.0770558",
         "0.2501519",
         "-0.4738583",
         "0.41446593",
         "-0.3679874",
         "0.68249357",
         "-0.010769655",
         "0.3103402",
         "-0.9237521",
         "-0.8824229",
         "0.6278651",
         "-0.41341236",
         "0.6849334",
         "1.2818496",
         "0.16615833",
         "1.0126171",
         "-0.6352338",
         "-0.6873597",
         "-0.6743969",
         "-0.5413611",
         "-0.48422608",
         "-0.15011223",
         "0.55627245",
         "0.55250543",
         "1.3171669",
         "-0.10498976",
         "-0.31935123",
         "-0.044718776",
         "0.83414793",
         "0.4373454",
         "-0.2720354",
         "0.32941842",
         "0.63684267",
         "0.674876",
         "0.28345522",
         "-0.83635163",
         "-0.43336505",
         "0.896521",
         "-0.039025657",
         "-0.3325161",
         "0.48957798",
         "1.3940991",
         "-0.26986498",
         "-0.2582116",
         "0.2826012",
         "1.4093974",
         "0.7689602",
         "0.6147945",
         "0.29568273",
         "0.49971244",
         "-0.23519897",
         "0.22682515",
         "0.9797727",
         "0.93937445",
         "0.0045683375",
         "-0.05560582",
         "0.48019192",
         "0.33283657",
         "-0.083494015",
         "-0.08042098",
         "-1.2207222",
         "-0.6696013",
         "0.50494075",
         "-0.81517744",
         "-0.45839438",
         "-0.68491286",
         "-0.42356047",
         "-0.6079885",
         "1.1799173",
         "-0.93177974",
         "-0.1763016",
         "0.4256724",
         "0.18439972",
         "-0.21771415",
         "-0.19960831",
         "-0.20072286",
         "-0.6975979",
         "0.1907386",
         "0.036253627",
         "0.07765336",
         "-0.11689525",
         "-0.14824323",
         "-0.9214383",
         "0.17263164",
         "0.065814234",
         "-0.4210233",
         "-0.8174785",
         "-0.77758384",
         "-0.008772872",
         "0.729939",
         "-0.21145542",
         "0.78257126",
         "0.86096954",
         "0.5807735",
         "0.2567065",
         "-0.89083296",
         "0.30696052",
         "0.097586386",
         "0.299721",
         "-0.58513504",
         "0.64157516",
         "0.07003142",
         "-0.480648",
         "-0.70669365",
         "-0.2897735",
         "0.27516884",
         "0.174419",
         "0.2772607",
         "-0.27339864",
         "0.05398895",
         "0.011819617",
         "0.11396814",
         "0.48004955",
         "-0.94178414",
         "0.16942738",
         "0.57206416",
         "-0.48851663",
         "-0.24778378",
         "2.0002048",
         "-0.5920062",
         "0.5834289",
         "0.29115623",
         "0.045276597",
         "0.7836043",
         "-0.485081",
         "-0.36362875",
         "0.34908882",
         "0.6479225",
         "0.9707137",
         "-0.50404066",
         "0.23132928",
         "-0.9174087",
         "-0.39966813",
         "-0.31863323",
         "-1.076161",
         "0.63613105",
         "0.29606587",
         "0.02615737",
         "0.5926942",
         "0.5185952",
         "-0.7322747",
         "0.38176104",
         "-0.7699417",
         "-1.0860685",
         "0.33999825",
         "-0.8546117",
         "-0.35788104",
         "-0.06669386",
         "0.008387025",
         "0.7992687",
         "1.0336977",
         "-1.1269971",
         "-0.62088513",
         "0.40857697",
         "-0.66993976",
         "0.015408469",
         "0.36450055",
         "1.365957",
         "-0.716883",
         "-0.2377717",
         "-1.1919248",
         "-0.298968",
         "1.130868",
         "0.29700202",
         "-1.2196593",
         "0.47301286",
         "-0.18767995",
         "1.4295198",
         "-0.8630596",
         "0.24116823",
         "-0.6529043",
         "0.3805161",
         "1.2790525",
         "-0.416646",
         "-0.22728676",
         "0.76204574",
         "-0.11420693",
         "0.5387702",
         "0.50913477",
         "0.49982688",
         "0.42415714",
         "-0.6227103",
         "-0.28431436",
         "0.98543596",
         "-0.58575994",
         "0.85635364",
         "-0.8640956",
         "-0.047364887",
         "-1.009889",
         "0.2947844",
         "0.082783066",
         "0.69938165",
         "-0.06642376",
         "1.0983497",
         "0.16216278",
         "0.1489217",
         "-0.8045984",
         "0.24789113",
         "0.56644726",
         "0.3448923",
         "-0.3837268",
         "-0.40893826",
         "-0.36647832",
         "0.19966595",
         "-0.040786345",
         "-0.37688354",
         "0.23710346",
         "-0.8459453",
         "0.4011585",
         "-0.16461545",
         "-0.34242555",
         "-0.979345",
         "0.6044896",
         "0.76549995",
         "0.12653372",
         "0.18436064",
         "-0.69249034",
         "-0.26199773",
         "-0.34931183",
         "1.0441121",
         "-0.2542092",
         "0.6684811",
         "-1.1127512",
         "0.062243707",
         "-0.13601297",
         "-0.33268464",
         "-0.72978264",
         "0.6956851",
         "-0.5896668",
         "0.21387336",
         "1.0443078",
         "0.59321487",
         "-0.57031405",
         "-0.37915137",
         "-1.3830564",
         "0.31528404",
         "1.6070487",
         "-0.05931081",
         "-0.007169523",
         "0.43062714",
         "-0.3518645",
         "-0.033915445",
         "-0.47292444",
         "-1.4803802",
         "-0.5236234",
         "0.26248002",
         "0.2818192",
         "0.852616",
         "-1.0785269",
         "1.1549995",
         "0.096685044",
         "1.0562028",
         "0.13626772",
         "0.98007363",
         "0.5028985",
         "0.009076916",
         "-0.080252044",
         "0.06677379",
         "-0.47060704",
         "0.40444264",
         "0.95543826",
         "-0.34199032",
         "0.12814096",
         "0.104422666",
         "-0.44951394",
         "-0.099811085",
         "1.380175",
         "0.65098006",
         "-0.08887985",
         "-0.373249",
         "-1.1478738",
         "0.24148001",
         "0.16671628",
         "1.3428766",
         "0.6249896",
         "0.61854017",
         "-0.55476654",
         "-0.27821824",
         "0.13056843",
         "0.506776",
         "-0.28070983",
         "0.5036836",
         "-0.44383675",
         "0.6155293",
         "-0.5056108",
         "-0.37322164",
         "0.36467156",
         "-0.44140857",
         "-0.902899",
         "-0.4071138",
         "-0.32796434",
         "0.1203854",
         "0.30398235",
         "0.46505073",
         "-0.35306373",
         "0.108396046",
         "-0.19494216",
         "-0.03177669",
         "-0.20734328",
         "0.6989885",
         "0.2608336",
         "-0.15070665",
         "-1.1091391",
         "-0.8374231",
         "-0.8093705",
         "-0.01180828",
         "0.5188762",
         "0.067780375",
         "0.20938851",
         "-0.30260512",
         "-0.5554038",
         "0.1663819",
         "-0.28020775",
         "0.8759418",
         "0.3770357",
         "0.16730757",
         "0.5774634",
         "-0.14718297",
         "0.23460342",
         "-0.6244766",
         "0.5370625",
         "-0.746308",
         "0.27963465",
         "-0.515855",
         "0.23904689",
         "0.018034434",
         "0.030072298",
         "-0.06268677",
         "-0.63895416",
         "-0.32766092",
         "-0.121953934",
         "-0.2611047",
         "-0.41173503",
         "-0.05078526",
         "0.96871036",
         "0.57252115",
         "1.2720025",
         "-0.8941681",
         "0.66105855",
         "0.6313297",
         "-0.2822513",
         "0.22111894",
         "0.08392763",
         "0.63190985",
         "0.01952083",
         "0.46491373",
         "-0.45992714",
         "0.14463198",
         "0.6547675",
         "-0.8131869",
         "-1.4860917",
         "0.55477476",
         "-0.25839886",
         "-0.62854767",
         "-0.3653691",
         "0.32326967",
         "1.6490393",
         "-0.22124599",
         "0.31983778",
         "-0.9253053",
         "-0.10542727",
         "-0.042998716",
         "-0.16363001",
         "0.12235917",
         "0.66652215",
         "-0.8924575",
         "0.7832787",
         "-1.1324105",
         "-0.19626945",
         "-0.38962847",
         "0.5334396",
         "-6.630615",
         "-0.4690278",
         "-0.40677664",
         "0.22406738",
         "0.52231365",
         "-0.34823766",
         "0.9047043",
         "0.52001166",
         "0.09564882",
         "0.46646437",
         "-0.07776067",
         "0.9437649",
         "0.18434115",
         "0.8990182",
         "-0.043055125",
         "-0.05483749",
         "0.9442477",
         "0.7389098",
         "0.8670344",
         "0.14838107",
         "0.24549516",
         "-0.45179906",
         "-0.059537265",
         "-0.45777607",
         "0.7958944",
         "0.11054948",
         "-1.1054175",
         "0.07001257",
         "0.47739002",
         "0.85167074",
         "1.6072714",
         "0.3216246",
         "0.25943407",
         "0.19131625",
         "0.4533614",
         "-0.16019219",
         "0.12812117",
         "0.50753164",
         "-0.060556546",
         "-0.453632",
         "0.15828691",
         "0.5599775",
         "0.23798937",
         "0.49907583",
         "0.32347336",
         "-0.33044913",
         "-0.3692551",
         "-0.006086034",
         "0.33902317",
         "-0.8358016",
         "-0.6931888",
         "-0.11220339",
         "-1.0883622",
         "0.47762734",
         "-0.31999233",
         "0.7002237",
         "-0.9468062",
         "-0.5112053",
         "-0.42499852",
         "0.5470525",
         "0.011006781",
         "-0.251887",
         "-0.07294205",
         "0.3057687",
         "-0.06797483",
         "0.33095965",
         "-0.3831288",
         "0.11200228",
         "0.16238366",
         "0.11346403",
         "-0.06536481",
         "-0.2701799",
         "0.056474004",
         "0.3352616",
         "-0.38901943",
         "0.45671025",
         "-0.2841077",
         "0.10571342",
         "-0.03878246",
         "-0.86458707",
         "-0.47039536",
         "0.24719824",
         "-0.5562172",
         "0.6097484",
         "-1.2222848",
         "-1.5994272",
         "0.33831027",
         "0.48159832",
         "0.293523",
         "-0.27260947",
         "1.4282798",
         "-0.7267384",
         "0.026156135",
         "-0.24727675",
         "-1.0615513",
         "-0.74765253",
         "-0.83463645",
         "-0.2451428",
         "0.64428383",
         "-0.16625649",
         "0.6947862",
         "0.028618643",
         "1.0473164",
         "0.4285988",
         "0.13857892",
         "0.25199682",
         "0.032108564",
         "0.65388185",
         "-0.4759342",
         "-0.20814602",
         "0.5901065",
         "-0.23346083",
         "-0.2907054",
         "0.5351584",
         "0.116651714",
         "0.61118054",
         "-0.24703197",
         "-0.5968075",
         "0.23701622",
         "1.0798241",
         "0.4655007",
         "0.26676136",
         "-0.22212951",
         "0.14620002",
         "0.93477875",
         "-0.5539971",
         "-0.6590732",
         "-0.0935336",
         "0.5718579",
         "-0.4193013",
         "-0.6967534",
         "0.86144984",
         "0.8808709",
         "0.099428214",
         "1.2578013",
         "0.55608755",
         "-0.37239137",
         "-0.44350794",
         "1.0586864",
         "-0.021457028",
         "0.6679812",
         "-0.16138923",
         "-0.025886944",
         "0.95726055",
         "-0.5839192",
         "0.13850303",
         "0.08246206",
         "0.5364215",
         "0.6931941",
         "-0.2984761",
         "-0.30854973",
         "-1.0661199",
         "0.0039738473",
         "0.46521732",
         "0.6845741",
         "-0.024279308",
         "0.0012990853",
         "0.77308196",
         "0.35948178",
         "0.8237191",
         "-0.3024367",
         "0.77823365",
         "-0.41356665",
         "-1.005784",
         "0.22967805",
         "0.5493756",
         "0.13243112",
         "0.40357748",
         "0.07304259",
         "-0.25381407",
         "0.16424486",
         "-0.88166565",
         "0.35726228",
         "0.8492437",
         "0.5016624",
         "-0.30317265",
         "-0.83444166",
         "0.89033026",
         "-0.019966127",
         "0.87419564",
         "-0.30937493",
         "0.8273313",
         "-0.3603824",
         "-0.21466698",
         "0.34959564",
         "0.12596267",
         "-0.5814477",
         "0.1469073",
         "-0.23714851",
         "-0.52896243",
         "0.24759157",
         "0.060372837",
         "-0.754843",
         "-0.38864294",
         "0.4451872",
         "0.97591907",
         "0.20730783",
         "0.58190256",
         "-0.14788802",
         "0.9083001",
         "-0.72747093",
         "0.12870368",
         "-0.5064557",
         "0.8405593",
         "-0.24394426",
         "0.18204454",
         "0.47135943",
         "0.23746519",
         "-0.4132428",
         "-0.3353892",
         "0.31053627",
         "0.4933005",
         "-0.5999744",
         "0.27495113",
         "-0.28621468",
         "0.009216821",
         "0.16212842",
         "-0.265008",
         "0.17975141",
         "0.89642245",
         "-1.1735555",
         "0.39766964",
         "-0.87551147",
         "-0.7777886",
         "1.1468015",
         "-0.30424714",
         "-0.30290452",
         "0.3964535",
         "0.7867822",
         "0.5148197",
         "0.18182449",
         "-0.3427285",
         "0.13659082",
         "-0.6352008",
         "0.14114411",
         "1.5443163",
         "0.20771188",
         "0.38261855",
         "0.07255419",
         "-0.2981114",
         "0.041948695",
         "-0.6347768",
         "-0.86824673",
         "0.8526358",
         "0.43257472",
         "0.09447808",
         "-0.94685066",
         "0.025218911",
         "-0.3927667",
         "0.04047076",
         "0.42787412",
         "0.13321446",
         "-0.67222893",
         "0.17951842",
         "-0.33038524",
         "-0.033923205",
         "0.052439403",
         "-0.41222835",
         "-0.43455338",
         "1.3213797",
         "-0.82893133",
         "-0.36904413",
         "0.6400271",
         "-0.025460936",
         "-0.26227832",
         "0.25513765",
         "-0.033930436",
         "-0.4358791",
         "-0.28129894",
         "-1.3955208",
         "0.29262322",
         "1.0983263",
         "-0.39887166",
         "-1.0072674",
         "-0.47344148",
         "-0.6831471",
         "-0.3460541",
         "0.7260894",
         "0.4374332",
         "-0.76165074",
         "0.9933655",
         "0.52838886",
         "-0.5009971",
         "-0.97236454",
         "-0.7346593",
         "-0.75616723",
         "-0.43566242",
         "0.8913994",
         "-0.38526896",
         "0.48320404",
         "0.072207764",
         "1.1460943",
         "-0.3621447",
         "-0.13340454",
         "-0.47371852",
         "0.1224342",
         "0.5537191",
         "0.5373876",
         "0.017832512",
         "-0.68007284",
         "-0.6719829",
         "2.2954068",
         "-0.40848505",
         "-0.24371831",
         "-0.6649243",
         "0.25177094",
         "0.6895194",
         "1.5861316",
         "-0.6358653",
         "0.12405187",
         "0.15760761",
         "-0.5377851",
         "0.23871453",
         "-0.31076056",
         "0.95177805",
         "0.18179779",
         "-0.47528917",
         "-0.8511212",
         "-0.4643199",
         "0.49198395",
         "0.19237338",
         "-0.44394752",
         "-0.17413461",
         "-0.42502034",
         "-0.47152507",
         "0.939694",
         "0.52955884",
         "-0.2643042",
         "-0.68784744",
         "-0.03469961",
         "-0.77287346",
         "-0.6751763",
         "0.009698902",
         "0.49456602",
         "-0.19480373",
         "0.18537894",
         "-0.55047655",
         "-1.035134",
         "-0.8871548",
         "0.040835097",
         "0.24648434",
         "-1.0699091",
         "-0.13728715",
         "-0.18784799",
         "-0.926323",
         "0.35850856"
        ],
        [
         "3",
         "215.0",
         "1.0",
         "-0.44655433",
         "0.3011617",
         "-0.89367217",
         "1.1440341",
         "0.07000336",
         "-0.879428",
         "0.42058262",
         "0.20633039",
         "-0.074306935",
         "-0.16346137",
         "0.43645978",
         "-0.2253519",
         "0.29172066",
         "-0.5978439",
         "-0.34916973",
         "-0.27155688",
         "0.03024616",
         "-0.7081773",
         "0.7066102",
         "-0.26505953",
         "-0.7842346",
         "-1.3276271",
         "0.18657811",
         "0.29219452",
         "0.33909032",
         "0.4729259",
         "-0.13908312",
         "-1.0684961",
         "1.3849595",
         "-0.35598615",
         "-0.34412003",
         "-0.90528446",
         "-0.77501893",
         "-1.2501312",
         "0.28423953",
         "-0.4912038",
         "-1.4797343",
         "0.93949825",
         "0.58914465",
         "0.041332316",
         "0.32271633",
         "0.1111005",
         "0.65388036",
         "0.9336589",
         "-1.1768255",
         "-0.598753",
         "-0.7250554",
         "1.0496985",
         "1.041865",
         "1.0133619",
         "-0.15644087",
         "-1.0770558",
         "0.2501519",
         "-0.4738583",
         "0.41446593",
         "-0.3679874",
         "0.68249357",
         "-0.010769655",
         "0.3103402",
         "-0.9237521",
         "-0.8824229",
         "0.6278651",
         "-0.41341236",
         "0.6849334",
         "1.2818496",
         "0.16615833",
         "1.0126171",
         "-0.6352338",
         "-0.6873597",
         "-0.6743969",
         "-0.5413611",
         "-0.48422608",
         "-0.15011223",
         "0.55627245",
         "0.55250543",
         "1.3171669",
         "-0.10498976",
         "-0.31935123",
         "-0.044718776",
         "0.83414793",
         "0.4373454",
         "-0.2720354",
         "0.32941842",
         "0.63684267",
         "0.674876",
         "0.28345522",
         "-0.83635163",
         "-0.43336505",
         "0.896521",
         "-0.039025657",
         "-0.3325161",
         "0.48957798",
         "1.3940991",
         "-0.26986498",
         "-0.2582116",
         "0.2826012",
         "1.4093974",
         "0.7689602",
         "0.6147945",
         "0.29568273",
         "0.49971244",
         "-0.23519897",
         "0.22682515",
         "0.9797727",
         "0.93937445",
         "0.0045683375",
         "-0.05560582",
         "0.48019192",
         "0.33283657",
         "-0.083494015",
         "-0.08042098",
         "-1.2207222",
         "-0.6696013",
         "0.50494075",
         "-0.81517744",
         "-0.45839438",
         "-0.68491286",
         "-0.42356047",
         "-0.6079885",
         "1.1799173",
         "-0.93177974",
         "-0.1763016",
         "0.4256724",
         "0.18439972",
         "-0.21771415",
         "-0.19960831",
         "-0.20072286",
         "-0.6975979",
         "0.1907386",
         "0.036253627",
         "0.07765336",
         "-0.11689525",
         "-0.14824323",
         "-0.9214383",
         "0.17263164",
         "0.065814234",
         "-0.4210233",
         "-0.8174785",
         "-0.77758384",
         "-0.008772872",
         "0.729939",
         "-0.21145542",
         "0.78257126",
         "0.86096954",
         "0.5807735",
         "0.2567065",
         "-0.89083296",
         "0.30696052",
         "0.097586386",
         "0.299721",
         "-0.58513504",
         "0.64157516",
         "0.07003142",
         "-0.480648",
         "-0.70669365",
         "-0.2897735",
         "0.27516884",
         "0.174419",
         "0.2772607",
         "-0.27339864",
         "0.05398895",
         "0.011819617",
         "0.11396814",
         "0.48004955",
         "-0.94178414",
         "0.16942738",
         "0.57206416",
         "-0.48851663",
         "-0.24778378",
         "2.0002048",
         "-0.5920062",
         "0.5834289",
         "0.29115623",
         "0.045276597",
         "0.7836043",
         "-0.485081",
         "-0.36362875",
         "0.34908882",
         "0.6479225",
         "0.9707137",
         "-0.50404066",
         "0.23132928",
         "-0.9174087",
         "-0.39966813",
         "-0.31863323",
         "-1.076161",
         "0.63613105",
         "0.29606587",
         "0.02615737",
         "0.5926942",
         "0.5185952",
         "-0.7322747",
         "0.38176104",
         "-0.7699417",
         "-1.0860685",
         "0.33999825",
         "-0.8546117",
         "-0.35788104",
         "-0.06669386",
         "0.008387025",
         "0.7992687",
         "1.0336977",
         "-1.1269971",
         "-0.62088513",
         "0.40857697",
         "-0.66993976",
         "0.015408469",
         "0.36450055",
         "1.365957",
         "-0.716883",
         "-0.2377717",
         "-1.1919248",
         "-0.298968",
         "1.130868",
         "0.29700202",
         "-1.2196593",
         "0.47301286",
         "-0.18767995",
         "1.4295198",
         "-0.8630596",
         "0.24116823",
         "-0.6529043",
         "0.3805161",
         "1.2790525",
         "-0.416646",
         "-0.22728676",
         "0.76204574",
         "-0.11420693",
         "0.5387702",
         "0.50913477",
         "0.49982688",
         "0.42415714",
         "-0.6227103",
         "-0.28431436",
         "0.98543596",
         "-0.58575994",
         "0.85635364",
         "-0.8640956",
         "-0.047364887",
         "-1.009889",
         "0.2947844",
         "0.082783066",
         "0.69938165",
         "-0.06642376",
         "1.0983497",
         "0.16216278",
         "0.1489217",
         "-0.8045984",
         "0.24789113",
         "0.56644726",
         "0.3448923",
         "-0.3837268",
         "-0.40893826",
         "-0.36647832",
         "0.19966595",
         "-0.040786345",
         "-0.37688354",
         "0.23710346",
         "-0.8459453",
         "0.4011585",
         "-0.16461545",
         "-0.34242555",
         "-0.979345",
         "0.6044896",
         "0.76549995",
         "0.12653372",
         "0.18436064",
         "-0.69249034",
         "-0.26199773",
         "-0.34931183",
         "1.0441121",
         "-0.2542092",
         "0.6684811",
         "-1.1127512",
         "0.062243707",
         "-0.13601297",
         "-0.33268464",
         "-0.72978264",
         "0.6956851",
         "-0.5896668",
         "0.21387336",
         "1.0443078",
         "0.59321487",
         "-0.57031405",
         "-0.37915137",
         "-1.3830564",
         "0.31528404",
         "1.6070487",
         "-0.05931081",
         "-0.007169523",
         "0.43062714",
         "-0.3518645",
         "-0.033915445",
         "-0.47292444",
         "-1.4803802",
         "-0.5236234",
         "0.26248002",
         "0.2818192",
         "0.852616",
         "-1.0785269",
         "1.1549995",
         "0.096685044",
         "1.0562028",
         "0.13626772",
         "0.98007363",
         "0.5028985",
         "0.009076916",
         "-0.080252044",
         "0.06677379",
         "-0.47060704",
         "0.40444264",
         "0.95543826",
         "-0.34199032",
         "0.12814096",
         "0.104422666",
         "-0.44951394",
         "-0.099811085",
         "1.380175",
         "0.65098006",
         "-0.08887985",
         "-0.373249",
         "-1.1478738",
         "0.24148001",
         "0.16671628",
         "1.3428766",
         "0.6249896",
         "0.61854017",
         "-0.55476654",
         "-0.27821824",
         "0.13056843",
         "0.506776",
         "-0.28070983",
         "0.5036836",
         "-0.44383675",
         "0.6155293",
         "-0.5056108",
         "-0.37322164",
         "0.36467156",
         "-0.44140857",
         "-0.902899",
         "-0.4071138",
         "-0.32796434",
         "0.1203854",
         "0.30398235",
         "0.46505073",
         "-0.35306373",
         "0.108396046",
         "-0.19494216",
         "-0.03177669",
         "-0.20734328",
         "0.6989885",
         "0.2608336",
         "-0.15070665",
         "-1.1091391",
         "-0.8374231",
         "-0.8093705",
         "-0.01180828",
         "0.5188762",
         "0.067780375",
         "0.20938851",
         "-0.30260512",
         "-0.5554038",
         "0.1663819",
         "-0.28020775",
         "0.8759418",
         "0.3770357",
         "0.16730757",
         "0.5774634",
         "-0.14718297",
         "0.23460342",
         "-0.6244766",
         "0.5370625",
         "-0.746308",
         "0.27963465",
         "-0.515855",
         "0.23904689",
         "0.018034434",
         "0.030072298",
         "-0.06268677",
         "-0.63895416",
         "-0.32766092",
         "-0.121953934",
         "-0.2611047",
         "-0.41173503",
         "-0.05078526",
         "0.96871036",
         "0.57252115",
         "1.2720025",
         "-0.8941681",
         "0.66105855",
         "0.6313297",
         "-0.2822513",
         "0.22111894",
         "0.08392763",
         "0.63190985",
         "0.01952083",
         "0.46491373",
         "-0.45992714",
         "0.14463198",
         "0.6547675",
         "-0.8131869",
         "-1.4860917",
         "0.55477476",
         "-0.25839886",
         "-0.62854767",
         "-0.3653691",
         "0.32326967",
         "1.6490393",
         "-0.22124599",
         "0.31983778",
         "-0.9253053",
         "-0.10542727",
         "-0.042998716",
         "-0.16363001",
         "0.12235917",
         "0.66652215",
         "-0.8924575",
         "0.7832787",
         "-1.1324105",
         "-0.19626945",
         "-0.38962847",
         "0.5334396",
         "-6.630615",
         "-0.4690278",
         "-0.40677664",
         "0.22406738",
         "0.52231365",
         "-0.34823766",
         "0.9047043",
         "0.52001166",
         "0.09564882",
         "0.46646437",
         "-0.07776067",
         "0.9437649",
         "0.18434115",
         "0.8990182",
         "-0.043055125",
         "-0.05483749",
         "0.9442477",
         "0.7389098",
         "0.8670344",
         "0.14838107",
         "0.24549516",
         "-0.45179906",
         "-0.059537265",
         "-0.45777607",
         "0.7958944",
         "0.11054948",
         "-1.1054175",
         "0.07001257",
         "0.47739002",
         "0.85167074",
         "1.6072714",
         "0.3216246",
         "0.25943407",
         "0.19131625",
         "0.4533614",
         "-0.16019219",
         "0.12812117",
         "0.50753164",
         "-0.060556546",
         "-0.453632",
         "0.15828691",
         "0.5599775",
         "0.23798937",
         "0.49907583",
         "0.32347336",
         "-0.33044913",
         "-0.3692551",
         "-0.006086034",
         "0.33902317",
         "-0.8358016",
         "-0.6931888",
         "-0.11220339",
         "-1.0883622",
         "0.47762734",
         "-0.31999233",
         "0.7002237",
         "-0.9468062",
         "-0.5112053",
         "-0.42499852",
         "0.5470525",
         "0.011006781",
         "-0.251887",
         "-0.07294205",
         "0.3057687",
         "-0.06797483",
         "0.33095965",
         "-0.3831288",
         "0.11200228",
         "0.16238366",
         "0.11346403",
         "-0.06536481",
         "-0.2701799",
         "0.056474004",
         "0.3352616",
         "-0.38901943",
         "0.45671025",
         "-0.2841077",
         "0.10571342",
         "-0.03878246",
         "-0.86458707",
         "-0.47039536",
         "0.24719824",
         "-0.5562172",
         "0.6097484",
         "-1.2222848",
         "-1.5994272",
         "0.33831027",
         "0.48159832",
         "0.293523",
         "-0.27260947",
         "1.4282798",
         "-0.7267384",
         "0.026156135",
         "-0.24727675",
         "-1.0615513",
         "-0.74765253",
         "-0.83463645",
         "-0.2451428",
         "0.64428383",
         "-0.16625649",
         "0.6947862",
         "0.028618643",
         "1.0473164",
         "0.4285988",
         "0.13857892",
         "0.25199682",
         "0.032108564",
         "0.65388185",
         "-0.4759342",
         "-0.20814602",
         "0.5901065",
         "-0.23346083",
         "-0.2907054",
         "0.5351584",
         "0.116651714",
         "0.61118054",
         "-0.24703197",
         "-0.5968075",
         "0.23701622",
         "1.0798241",
         "0.4655007",
         "0.26676136",
         "-0.22212951",
         "0.14620002",
         "0.93477875",
         "-0.5539971",
         "-0.6590732",
         "-0.0935336",
         "0.5718579",
         "-0.4193013",
         "-0.6967534",
         "0.86144984",
         "0.8808709",
         "0.099428214",
         "1.2578013",
         "0.55608755",
         "-0.37239137",
         "-0.44350794",
         "1.0586864",
         "-0.021457028",
         "0.6679812",
         "-0.16138923",
         "-0.025886944",
         "0.95726055",
         "-0.5839192",
         "0.13850303",
         "0.08246206",
         "0.5364215",
         "0.6931941",
         "-0.2984761",
         "-0.30854973",
         "-1.0661199",
         "0.0039738473",
         "0.46521732",
         "0.6845741",
         "-0.024279308",
         "0.0012990853",
         "0.77308196",
         "0.35948178",
         "0.8237191",
         "-0.3024367",
         "0.77823365",
         "-0.41356665",
         "-1.005784",
         "0.22967805",
         "0.5493756",
         "0.13243112",
         "0.40357748",
         "0.07304259",
         "-0.25381407",
         "0.16424486",
         "-0.88166565",
         "0.35726228",
         "0.8492437",
         "0.5016624",
         "-0.30317265",
         "-0.83444166",
         "0.89033026",
         "-0.019966127",
         "0.87419564",
         "-0.30937493",
         "0.8273313",
         "-0.3603824",
         "-0.21466698",
         "0.34959564",
         "0.12596267",
         "-0.5814477",
         "0.1469073",
         "-0.23714851",
         "-0.52896243",
         "0.24759157",
         "0.060372837",
         "-0.754843",
         "-0.38864294",
         "0.4451872",
         "0.97591907",
         "0.20730783",
         "0.58190256",
         "-0.14788802",
         "0.9083001",
         "-0.72747093",
         "0.12870368",
         "-0.5064557",
         "0.8405593",
         "-0.24394426",
         "0.18204454",
         "0.47135943",
         "0.23746519",
         "-0.4132428",
         "-0.3353892",
         "0.31053627",
         "0.4933005",
         "-0.5999744",
         "0.27495113",
         "-0.28621468",
         "0.009216821",
         "0.16212842",
         "-0.265008",
         "0.17975141",
         "0.89642245",
         "-1.1735555",
         "0.39766964",
         "-0.87551147",
         "-0.7777886",
         "1.1468015",
         "-0.30424714",
         "-0.30290452",
         "0.3964535",
         "0.7867822",
         "0.5148197",
         "0.18182449",
         "-0.3427285",
         "0.13659082",
         "-0.6352008",
         "0.14114411",
         "1.5443163",
         "0.20771188",
         "0.38261855",
         "0.07255419",
         "-0.2981114",
         "0.041948695",
         "-0.6347768",
         "-0.86824673",
         "0.8526358",
         "0.43257472",
         "0.09447808",
         "-0.94685066",
         "0.025218911",
         "-0.3927667",
         "0.04047076",
         "0.42787412",
         "0.13321446",
         "-0.67222893",
         "0.17951842",
         "-0.33038524",
         "-0.033923205",
         "0.052439403",
         "-0.41222835",
         "-0.43455338",
         "1.3213797",
         "-0.82893133",
         "-0.36904413",
         "0.6400271",
         "-0.025460936",
         "-0.26227832",
         "0.25513765",
         "-0.033930436",
         "-0.4358791",
         "-0.28129894",
         "-1.3955208",
         "0.29262322",
         "1.0983263",
         "-0.39887166",
         "-1.0072674",
         "-0.47344148",
         "-0.6831471",
         "-0.3460541",
         "0.7260894",
         "0.4374332",
         "-0.76165074",
         "0.9933655",
         "0.52838886",
         "-0.5009971",
         "-0.97236454",
         "-0.7346593",
         "-0.75616723",
         "-0.43566242",
         "0.8913994",
         "-0.38526896",
         "0.48320404",
         "0.072207764",
         "1.1460943",
         "-0.3621447",
         "-0.13340454",
         "-0.47371852",
         "0.1224342",
         "0.5537191",
         "0.5373876",
         "0.017832512",
         "-0.68007284",
         "-0.6719829",
         "2.2954068",
         "-0.40848505",
         "-0.24371831",
         "-0.6649243",
         "0.25177094",
         "0.6895194",
         "1.5861316",
         "-0.6358653",
         "0.12405187",
         "0.15760761",
         "-0.5377851",
         "0.23871453",
         "-0.31076056",
         "0.95177805",
         "0.18179779",
         "-0.47528917",
         "-0.8511212",
         "-0.4643199",
         "0.49198395",
         "0.19237338",
         "-0.44394752",
         "-0.17413461",
         "-0.42502034",
         "-0.47152507",
         "0.939694",
         "0.52955884",
         "-0.2643042",
         "-0.68784744",
         "-0.03469961",
         "-0.77287346",
         "-0.6751763",
         "0.009698902",
         "0.49456602",
         "-0.19480373",
         "0.18537894",
         "-0.55047655",
         "-1.035134",
         "-0.8871548",
         "0.040835097",
         "0.24648434",
         "-1.0699091",
         "-0.13728715",
         "-0.18784799",
         "-0.926323",
         "0.35850856"
        ],
        [
         "4",
         "393.0",
         "0.0",
         "-0.42397055",
         "0.30948126",
         "-0.8918496",
         "1.1504304",
         "0.061039984",
         "-0.865298",
         "0.41442448",
         "0.19418494",
         "-0.087390594",
         "-0.1633585",
         "0.42490372",
         "-0.22516726",
         "0.27920347",
         "-0.5972145",
         "-0.36803553",
         "-0.2565778",
         "0.02547991",
         "-0.70593196",
         "0.7080709",
         "-0.27276513",
         "-0.7844018",
         "-1.3366009",
         "0.19565386",
         "0.29314423",
         "0.3424324",
         "0.47853723",
         "-0.15353028",
         "-1.0723846",
         "1.370369",
         "-0.34978586",
         "-0.33738434",
         "-0.904521",
         "-0.7734038",
         "-1.2524037",
         "0.29478717",
         "-0.48827496",
         "-1.4861789",
         "0.9419685",
         "0.600266",
         "0.037306104",
         "0.31550792",
         "0.11287455",
         "0.66476744",
         "0.9316031",
         "-1.180711",
         "-0.5868826",
         "-0.7402455",
         "1.0460448",
         "1.0498743",
         "0.9984495",
         "-0.16197811",
         "-1.0884917",
         "0.25567028",
         "-0.46134594",
         "0.4119524",
         "-0.37280738",
         "0.6851164",
         "-0.014078394",
         "0.3062744",
         "-0.9211182",
         "-0.88066596",
         "0.6323848",
         "-0.41000855",
         "0.68458843",
         "1.2793832",
         "0.17173934",
         "1.006268",
         "-0.63786167",
         "-0.68373764",
         "-0.67220914",
         "-0.5386633",
         "-0.48836726",
         "-0.16131145",
         "0.5722755",
         "0.5504648",
         "1.3096861",
         "-0.10124306",
         "-0.34469703",
         "-0.05450632",
         "0.8310128",
         "0.4503853",
         "-0.28019145",
         "0.32676783",
         "0.63643694",
         "0.6671138",
         "0.28172225",
         "-0.8401561",
         "-0.42639998",
         "0.8948151",
         "-0.046574935",
         "-0.3444082",
         "0.49359223",
         "1.3979945",
         "-0.255368",
         "-0.26189065",
         "0.27942893",
         "1.4057084",
         "0.76504105",
         "0.6217715",
         "0.29548818",
         "0.5118275",
         "-0.25272623",
         "0.23729111",
         "0.9891159",
         "0.93309",
         "0.0014250573",
         "-0.067693256",
         "0.48442766",
         "0.3457332",
         "-0.07737218",
         "-0.077118136",
         "-1.2280645",
         "-0.6687225",
         "0.5072974",
         "-0.8175359",
         "-0.45312336",
         "-0.6842123",
         "-0.42402813",
         "-0.5982009",
         "1.1733696",
         "-0.93502986",
         "-0.17576726",
         "0.41340846",
         "0.18685849",
         "-0.21732406",
         "-0.19492905",
         "-0.20633821",
         "-0.7031437",
         "0.19358087",
         "0.03751458",
         "0.0769324",
         "-0.11462015",
         "-0.14954571",
         "-0.9130155",
         "0.16483389",
         "0.06971686",
         "-0.42716953",
         "-0.8105252",
         "-0.7673666",
         "-0.010094226",
         "0.7160847",
         "-0.222437",
         "0.77167076",
         "0.8702974",
         "0.5788152",
         "0.25876075",
         "-0.88833004",
         "0.30008134",
         "0.10066393",
         "0.29237533",
         "-0.5973214",
         "0.65406394",
         "0.070222184",
         "-0.48848256",
         "-0.7076276",
         "-0.30180687",
         "0.28977853",
         "0.16504352",
         "0.27528718",
         "-0.284812",
         "0.062789805",
         "0.0138539495",
         "0.107386746",
         "0.48911187",
         "-0.9553305",
         "0.15803118",
         "0.5670322",
         "-0.49129966",
         "-0.23593391",
         "1.9873118",
         "-0.5883671",
         "0.58578193",
         "0.29601792",
         "0.05513301",
         "0.7761737",
         "-0.47981963",
         "-0.36068583",
         "0.3391832",
         "0.6482174",
         "0.98058385",
         "-0.5063157",
         "0.23766129",
         "-0.91356695",
         "-0.3987572",
         "-0.31493726",
         "-1.0749128",
         "0.6412887",
         "0.3005652",
         "0.02418036",
         "0.59639394",
         "0.5160611",
         "-0.7326978",
         "0.36924",
         "-0.7697618",
         "-1.0771173",
         "0.34717697",
         "-0.85672504",
         "-0.36521372",
         "-0.06467756",
         "0.019048532",
         "0.7984284",
         "1.0560741",
         "-1.1226151",
         "-0.6373288",
         "0.40331075",
         "-0.6761562",
         "0.024844484",
         "0.36464632",
         "1.3751733",
         "-0.72386825",
         "-0.23803395",
         "-1.1948338",
         "-0.3002595",
         "1.1327009",
         "0.2924068",
         "-1.2192253",
         "0.48590645",
         "-0.18289223",
         "1.4169449",
         "-0.86547416",
         "0.26366296",
         "-0.651791",
         "0.37656105",
         "1.2870241",
         "-0.42329398",
         "-0.22370662",
         "0.7519997",
         "-0.105931036",
         "0.5411753",
         "0.50605696",
         "0.49284866",
         "0.43716714",
         "-0.6276708",
         "-0.2920614",
         "0.9885691",
         "-0.5930991",
         "0.8579626",
         "-0.86913234",
         "-0.046879604",
         "-1.0059531",
         "0.29272884",
         "0.08270307",
         "0.688996",
         "-0.054038577",
         "1.09016",
         "0.16825148",
         "0.15176195",
         "-0.80260575",
         "0.25698146",
         "0.5610118",
         "0.35223538",
         "-0.3869101",
         "-0.41076106",
         "-0.37242153",
         "0.19283943",
         "-0.040665448",
         "-0.37279406",
         "0.24382266",
         "-0.8357571",
         "0.40142354",
         "-0.15591542",
         "-0.3390145",
         "-0.9835036",
         "0.6058717",
         "0.7667171",
         "0.14159651",
         "0.18996987",
         "-0.6842076",
         "-0.26486224",
         "-0.34672767",
         "1.04553",
         "-0.25745937",
         "0.6624864",
         "-1.1271571",
         "0.07755169",
         "-0.13732788",
         "-0.32939357",
         "-0.7298843",
         "0.68879086",
         "-0.6012077",
         "0.19750142",
         "1.0492401",
         "0.5980727",
         "-0.568",
         "-0.38109836",
         "-1.3932629",
         "0.32344064",
         "1.6133108",
         "-0.06443175",
         "-0.00091104745",
         "0.4179963",
         "-0.35082483",
         "-0.028182248",
         "-0.4797058",
         "-1.4837298",
         "-0.5353388",
         "0.253171",
         "0.28180897",
         "0.8687588",
         "-1.0753251",
         "1.1608275",
         "0.095318854",
         "1.0604634",
         "0.12423706",
         "0.9940462",
         "0.51255256",
         "0.010080325",
         "-0.08230741",
         "0.07388187",
         "-0.4642643",
         "0.40403038",
         "0.9481884",
         "-0.33783403",
         "0.11937826",
         "0.10711504",
         "-0.44506824",
         "-0.09133065",
         "1.3913634",
         "0.6576819",
         "-0.08885487",
         "-0.37891594",
         "-1.1503634",
         "0.23836981",
         "0.16767481",
         "1.3276252",
         "0.60509354",
         "0.60995394",
         "-0.561517",
         "-0.27539957",
         "0.12979788",
         "0.5122641",
         "-0.28700566",
         "0.5005558",
         "-0.44461468",
         "0.6020717",
         "-0.49958637",
         "-0.36261556",
         "0.37367988",
         "-0.44150704",
         "-0.9042987",
         "-0.4081383",
         "-0.3359616",
         "0.1227054",
         "0.31612852",
         "0.47254226",
         "-0.3452738",
         "0.113324985",
         "-0.18233712",
         "-0.023521801",
         "-0.2069202",
         "0.69869316",
         "0.2535674",
         "-0.14954214",
         "-1.1010529",
         "-0.82132876",
         "-0.81818825",
         "-0.008863021",
         "0.52034575",
         "0.065920524",
         "0.21749826",
         "-0.31524274",
         "-0.5388156",
         "0.16356161",
         "-0.27741376",
         "0.8718368",
         "0.37995362",
         "0.17530222",
         "0.56744415",
         "-0.1505876",
         "0.24394476",
         "-0.6231432",
         "0.53677094",
         "-0.7383813",
         "0.2865109",
         "-0.5112097",
         "0.25067955",
         "0.009413491",
         "0.035097238",
         "-0.06530314",
         "-0.6351318",
         "-0.32287836",
         "-0.12542467",
         "-0.26023003",
         "-0.40817112",
         "-0.07224759",
         "0.9737177",
         "0.5704898",
         "1.263512",
         "-0.90464187",
         "0.6434886",
         "0.6188556",
         "-0.27413577",
         "0.22177185",
         "0.07955864",
         "0.6472905",
         "0.028827162",
         "0.47007638",
         "-0.47352973",
         "0.14944111",
         "0.6438048",
         "-0.8185011",
         "-1.4922422",
         "0.55468214",
         "-0.26571938",
         "-0.60993266",
         "-0.3610391",
         "0.32419384",
         "1.6480143",
         "-0.22399066",
         "0.3377945",
         "-0.9320982",
         "-0.111733116",
         "-0.054341603",
         "-0.17026684",
         "0.12927516",
         "0.6654241",
         "-0.89579487",
         "0.7752099",
         "-1.1226095",
         "-0.20774773",
         "-0.39133304",
         "0.521745",
         "-6.5866113",
         "-0.47543404",
         "-0.41298446",
         "0.21783142",
         "0.50714105",
         "-0.35152635",
         "0.9033125",
         "0.52838737",
         "0.09158567",
         "0.4642877",
         "-0.08534252",
         "0.95523137",
         "0.18606293",
         "0.90059096",
         "-0.04466197",
         "-0.06051563",
         "0.9428129",
         "0.74976313",
         "0.87126184",
         "0.14869781",
         "0.26393703",
         "-0.45013085",
         "-0.057381075",
         "-0.45184675",
         "0.80030054",
         "0.11537878",
         "-1.1258272",
         "0.07125171",
         "0.4805615",
         "0.83398074",
         "1.6155227",
         "0.32148805",
         "0.25423172",
         "0.20183857",
         "0.4484968",
         "-0.1488251",
         "0.12839696",
         "0.50574464",
         "-0.056548502",
         "-0.46522766",
         "0.1389943",
         "0.5725781",
         "0.24537696",
         "0.50520974",
         "0.3247126",
         "-0.3336629",
         "-0.35335758",
         "-0.007910162",
         "0.33520123",
         "-0.84400684",
         "-0.695416",
         "-0.10953108",
         "-1.0789175",
         "0.47535792",
         "-0.3080956",
         "0.69885814",
         "-0.95289874",
         "-0.508962",
         "-0.43867475",
         "0.54684514",
         "0.011085844",
         "-0.2598235",
         "-0.07028007",
         "0.3077391",
         "-0.0642657",
         "0.3282878",
         "-0.38681665",
         "0.1348071",
         "0.17145629",
         "0.10322086",
         "-0.080790654",
         "-0.27350143",
         "0.058789343",
         "0.34651938",
         "-0.3917592",
         "0.46692452",
         "-0.2848442",
         "0.104814775",
         "-0.044997256",
         "-0.862761",
         "-0.48283377",
         "0.24884109",
         "-0.5545902",
         "0.6010108",
         "-1.217303",
         "-1.5842732",
         "0.3450587",
         "0.47393018",
         "0.29015866",
         "-0.27622667",
         "1.42054",
         "-0.7246216",
         "0.02934985",
         "-0.24551164",
         "-1.0561703",
         "-0.74263287",
         "-0.8295112",
         "-0.24433127",
         "0.6549972",
         "-0.16295618",
         "0.6844815",
         "0.03211657",
         "1.0590895",
         "0.41753185",
         "0.13979964",
         "0.23995203",
         "0.033711396",
         "0.65064174",
         "-0.495228",
         "-0.21411227",
         "0.58428496",
         "-0.22915672",
         "-0.28201553",
         "0.5252067",
         "0.11763118",
         "0.62585646",
         "-0.2531348",
         "-0.60747224",
         "0.23345648",
         "1.0687704",
         "0.47777146",
         "0.269734",
         "-0.22572225",
         "0.15531395",
         "0.9373677",
         "-0.5520979",
         "-0.6554137",
         "-0.09988671",
         "0.571684",
         "-0.42128074",
         "-0.68996817",
         "0.86124146",
         "0.8641319",
         "0.09687723",
         "1.254438",
         "0.5461945",
         "-0.3722448",
         "-0.44873372",
         "1.07165",
         "-0.020557355",
         "0.66787046",
         "-0.16143483",
         "-0.030078495",
         "0.9510234",
         "-0.5764294",
         "0.14361784",
         "0.091262",
         "0.5489661",
         "0.67450666",
         "-0.29920414",
         "-0.30786514",
         "-1.0753286",
         "0.0014857012",
         "0.47361842",
         "0.68441284",
         "-0.035375897",
         "0.0043961583",
         "0.7648609",
         "0.3660233",
         "0.81907594",
         "-0.31661615",
         "0.7702273",
         "-0.39931047",
         "-1.0171646",
         "0.22737871",
         "0.54861593",
         "0.13561237",
         "0.39974004",
         "0.06606051",
         "-0.2598578",
         "0.16786265",
         "-0.87870735",
         "0.34949732",
         "0.8395241",
         "0.5012601",
         "-0.3082383",
         "-0.82861155",
         "0.89441967",
         "-0.017649475",
         "0.86583847",
         "-0.31027117",
         "0.8293677",
         "-0.37130827",
         "-0.20971769",
         "0.35211787",
         "0.12976396",
         "-0.57612777",
         "0.13868293",
         "-0.23852772",
         "-0.52818507",
         "0.2498519",
         "0.063806884",
         "-0.75745136",
         "-0.38568473",
         "0.43366212",
         "0.97061795",
         "0.2042796",
         "0.58212763",
         "-0.15235054",
         "0.9068141",
         "-0.7268281",
         "0.123426",
         "-0.4879588",
         "0.8485539",
         "-0.24049304",
         "0.17577654",
         "0.47532406",
         "0.22475156",
         "-0.40691757",
         "-0.33981144",
         "0.31756362",
         "0.48961797",
         "-0.59272975",
         "0.26843348",
         "-0.30029568",
         "0.000308669",
         "0.15592441",
         "-0.24388906",
         "0.18944608",
         "0.8869207",
         "-1.1709541",
         "0.41161245",
         "-0.87153894",
         "-0.78722674",
         "1.138684",
         "-0.291273",
         "-0.29626796",
         "0.3995713",
         "0.7805692",
         "0.52111757",
         "0.17782976",
         "-0.34328362",
         "0.14497858",
         "-0.61664194",
         "0.13499506",
         "1.5453358",
         "0.20784818",
         "0.38362977",
         "0.07456401",
         "-0.3010592",
         "0.049726013",
         "-0.6436832",
         "-0.87414837",
         "0.86498165",
         "0.42060837",
         "0.103370875",
         "-0.9502332",
         "0.019741178",
         "-0.3969778",
         "0.04702997",
         "0.43495387",
         "0.13740107",
         "-0.67986",
         "0.19204801",
         "-0.33163568",
         "-0.032630146",
         "0.057157386",
         "-0.41063562",
         "-0.43432403",
         "1.3248298",
         "-0.82663643",
         "-0.3639877",
         "0.63849705",
         "-0.023869853",
         "-0.270708",
         "0.2587197",
         "-0.035293393",
         "-0.43845174",
         "-0.2841432",
         "-1.3977985",
         "0.29724434",
         "1.0958415",
         "-0.40468833",
         "-1.0059849",
         "-0.4622772",
         "-0.67962706",
         "-0.36087444",
         "0.7225303",
         "0.44647843",
         "-0.754213",
         "0.9986947",
         "0.5362551",
         "-0.5052366",
         "-0.9743306",
         "-0.73373616",
         "-0.7596676",
         "-0.4367294",
         "0.8933282",
         "-0.3708003",
         "0.47780028",
         "0.0858546",
         "1.1449009",
         "-0.3726333",
         "-0.12612005",
         "-0.47162345",
         "0.12867083",
         "0.5527422",
         "0.5286829",
         "0.023512036",
         "-0.6875549",
         "-0.66213715",
         "2.3193116",
         "-0.40859628",
         "-0.2424441",
         "-0.6643936",
         "0.25703186",
         "0.69742346",
         "1.5873926",
         "-0.63565844",
         "0.11481371",
         "0.16056795",
         "-0.52431947",
         "0.2330601",
         "-0.3094843",
         "0.95015717",
         "0.17610368",
         "-0.47976035",
         "-0.8614386",
         "-0.4691497",
         "0.49242446",
         "0.18530521",
         "-0.43901372",
         "-0.1757322",
         "-0.43208873",
         "-0.46256775",
         "0.9418376",
         "0.5293503",
         "-0.2588311",
         "-0.6996193",
         "-0.03696564",
         "-0.7683208",
         "-0.6840106",
         "0.009971607",
         "0.5012731",
         "-0.18192635",
         "0.18628016",
         "-0.5603982",
         "-1.0299398",
         "-0.8989439",
         "0.035925586",
         "0.24619478",
         "-1.0812191",
         "-0.13836983",
         "-0.20112059",
         "-0.9287891",
         "0.36773875"
        ]
       ],
       "shape": {
        "columns": 770,
        "rows": 5
       }
      },
      "text/html": [
       "<div>\n",
       "<style scoped>\n",
       "    .dataframe tbody tr th:only-of-type {\n",
       "        vertical-align: middle;\n",
       "    }\n",
       "\n",
       "    .dataframe tbody tr th {\n",
       "        vertical-align: top;\n",
       "    }\n",
       "\n",
       "    .dataframe thead th {\n",
       "        text-align: right;\n",
       "    }\n",
       "</style>\n",
       "<table border=\"1\" class=\"dataframe\">\n",
       "  <thead>\n",
       "    <tr style=\"text-align: right;\">\n",
       "      <th></th>\n",
       "      <th>Survival</th>\n",
       "      <th>Death</th>\n",
       "      <th>0</th>\n",
       "      <th>1</th>\n",
       "      <th>2</th>\n",
       "      <th>3</th>\n",
       "      <th>4</th>\n",
       "      <th>5</th>\n",
       "      <th>6</th>\n",
       "      <th>7</th>\n",
       "      <th>...</th>\n",
       "      <th>758</th>\n",
       "      <th>759</th>\n",
       "      <th>760</th>\n",
       "      <th>761</th>\n",
       "      <th>762</th>\n",
       "      <th>763</th>\n",
       "      <th>764</th>\n",
       "      <th>765</th>\n",
       "      <th>766</th>\n",
       "      <th>767</th>\n",
       "    </tr>\n",
       "  </thead>\n",
       "  <tbody>\n",
       "    <tr>\n",
       "      <th>0</th>\n",
       "      <td>245.0</td>\n",
       "      <td>1.0</td>\n",
       "      <td>-0.446554</td>\n",
       "      <td>0.301162</td>\n",
       "      <td>-0.893672</td>\n",
       "      <td>1.144034</td>\n",
       "      <td>0.070003</td>\n",
       "      <td>-0.879428</td>\n",
       "      <td>0.420583</td>\n",
       "      <td>0.206330</td>\n",
       "      <td>...</td>\n",
       "      <td>-0.550477</td>\n",
       "      <td>-1.035134</td>\n",
       "      <td>-0.887155</td>\n",
       "      <td>0.040835</td>\n",
       "      <td>0.246484</td>\n",
       "      <td>-1.069909</td>\n",
       "      <td>-0.137287</td>\n",
       "      <td>-0.187848</td>\n",
       "      <td>-0.926323</td>\n",
       "      <td>0.358509</td>\n",
       "    </tr>\n",
       "    <tr>\n",
       "      <th>1</th>\n",
       "      <td>212.0</td>\n",
       "      <td>1.0</td>\n",
       "      <td>-0.446554</td>\n",
       "      <td>0.301162</td>\n",
       "      <td>-0.893672</td>\n",
       "      <td>1.144034</td>\n",
       "      <td>0.070003</td>\n",
       "      <td>-0.879428</td>\n",
       "      <td>0.420583</td>\n",
       "      <td>0.206330</td>\n",
       "      <td>...</td>\n",
       "      <td>-0.550477</td>\n",
       "      <td>-1.035134</td>\n",
       "      <td>-0.887155</td>\n",
       "      <td>0.040835</td>\n",
       "      <td>0.246484</td>\n",
       "      <td>-1.069909</td>\n",
       "      <td>-0.137287</td>\n",
       "      <td>-0.187848</td>\n",
       "      <td>-0.926323</td>\n",
       "      <td>0.358509</td>\n",
       "    </tr>\n",
       "    <tr>\n",
       "      <th>2</th>\n",
       "      <td>31.0</td>\n",
       "      <td>1.0</td>\n",
       "      <td>-0.446554</td>\n",
       "      <td>0.301162</td>\n",
       "      <td>-0.893672</td>\n",
       "      <td>1.144034</td>\n",
       "      <td>0.070003</td>\n",
       "      <td>-0.879428</td>\n",
       "      <td>0.420583</td>\n",
       "      <td>0.206330</td>\n",
       "      <td>...</td>\n",
       "      <td>-0.550477</td>\n",
       "      <td>-1.035134</td>\n",
       "      <td>-0.887155</td>\n",
       "      <td>0.040835</td>\n",
       "      <td>0.246484</td>\n",
       "      <td>-1.069909</td>\n",
       "      <td>-0.137287</td>\n",
       "      <td>-0.187848</td>\n",
       "      <td>-0.926323</td>\n",
       "      <td>0.358509</td>\n",
       "    </tr>\n",
       "    <tr>\n",
       "      <th>3</th>\n",
       "      <td>215.0</td>\n",
       "      <td>1.0</td>\n",
       "      <td>-0.446554</td>\n",
       "      <td>0.301162</td>\n",
       "      <td>-0.893672</td>\n",
       "      <td>1.144034</td>\n",
       "      <td>0.070003</td>\n",
       "      <td>-0.879428</td>\n",
       "      <td>0.420583</td>\n",
       "      <td>0.206330</td>\n",
       "      <td>...</td>\n",
       "      <td>-0.550477</td>\n",
       "      <td>-1.035134</td>\n",
       "      <td>-0.887155</td>\n",
       "      <td>0.040835</td>\n",
       "      <td>0.246484</td>\n",
       "      <td>-1.069909</td>\n",
       "      <td>-0.137287</td>\n",
       "      <td>-0.187848</td>\n",
       "      <td>-0.926323</td>\n",
       "      <td>0.358509</td>\n",
       "    </tr>\n",
       "    <tr>\n",
       "      <th>4</th>\n",
       "      <td>393.0</td>\n",
       "      <td>0.0</td>\n",
       "      <td>-0.423971</td>\n",
       "      <td>0.309481</td>\n",
       "      <td>-0.891850</td>\n",
       "      <td>1.150430</td>\n",
       "      <td>0.061040</td>\n",
       "      <td>-0.865298</td>\n",
       "      <td>0.414424</td>\n",
       "      <td>0.194185</td>\n",
       "      <td>...</td>\n",
       "      <td>-0.560398</td>\n",
       "      <td>-1.029940</td>\n",
       "      <td>-0.898944</td>\n",
       "      <td>0.035926</td>\n",
       "      <td>0.246195</td>\n",
       "      <td>-1.081219</td>\n",
       "      <td>-0.138370</td>\n",
       "      <td>-0.201121</td>\n",
       "      <td>-0.928789</td>\n",
       "      <td>0.367739</td>\n",
       "    </tr>\n",
       "  </tbody>\n",
       "</table>\n",
       "<p>5 rows × 770 columns</p>\n",
       "</div>"
      ],
      "text/plain": [
       "   Survival  Death         0         1         2         3         4  \\\n",
       "0     245.0    1.0 -0.446554  0.301162 -0.893672  1.144034  0.070003   \n",
       "1     212.0    1.0 -0.446554  0.301162 -0.893672  1.144034  0.070003   \n",
       "2      31.0    1.0 -0.446554  0.301162 -0.893672  1.144034  0.070003   \n",
       "3     215.0    1.0 -0.446554  0.301162 -0.893672  1.144034  0.070003   \n",
       "4     393.0    0.0 -0.423971  0.309481 -0.891850  1.150430  0.061040   \n",
       "\n",
       "          5         6         7  ...       758       759       760       761  \\\n",
       "0 -0.879428  0.420583  0.206330  ... -0.550477 -1.035134 -0.887155  0.040835   \n",
       "1 -0.879428  0.420583  0.206330  ... -0.550477 -1.035134 -0.887155  0.040835   \n",
       "2 -0.879428  0.420583  0.206330  ... -0.550477 -1.035134 -0.887155  0.040835   \n",
       "3 -0.879428  0.420583  0.206330  ... -0.550477 -1.035134 -0.887155  0.040835   \n",
       "4 -0.865298  0.414424  0.194185  ... -0.560398 -1.029940 -0.898944  0.035926   \n",
       "\n",
       "        762       763       764       765       766       767  \n",
       "0  0.246484 -1.069909 -0.137287 -0.187848 -0.926323  0.358509  \n",
       "1  0.246484 -1.069909 -0.137287 -0.187848 -0.926323  0.358509  \n",
       "2  0.246484 -1.069909 -0.137287 -0.187848 -0.926323  0.358509  \n",
       "3  0.246484 -1.069909 -0.137287 -0.187848 -0.926323  0.358509  \n",
       "4  0.246195 -1.081219 -0.138370 -0.201121 -0.928789  0.367739  \n",
       "\n",
       "[5 rows x 770 columns]"
      ]
     },
     "execution_count": 40,
     "metadata": {},
     "output_type": "execute_result"
    }
   ],
   "source": [
    "# load data\n",
    "df = pd.read_csv(DATA_DIR + DATASET + \".csv\")\n",
    "df.head()"
   ]
  },
  {
   "cell_type": "code",
   "execution_count": 41,
   "metadata": {},
   "outputs": [
    {
     "name": "stdout",
     "output_type": "stream",
     "text": [
      "shape:  (159, 770)\n",
      "columns:  Index(['Survival', 'Death', '0', '1', '2', '3', '4', '5', '6', '7',\n",
      "       ...\n",
      "       '758', '759', '760', '761', '762', '763', '764', '765', '766', '767'],\n",
      "      dtype='object', length=770)\n"
     ]
    }
   ],
   "source": [
    "print(\"shape: \", df.shape)\n",
    "print(\"columns: \", df.columns)"
   ]
  },
  {
   "cell_type": "code",
   "execution_count": 42,
   "metadata": {},
   "outputs": [
    {
     "data": {
      "text/plain": [
       "Survival    0\n",
       "Death       0\n",
       "0           0\n",
       "1           0\n",
       "2           0\n",
       "           ..\n",
       "763         0\n",
       "764         0\n",
       "765         0\n",
       "766         0\n",
       "767         0\n",
       "Length: 770, dtype: int64"
      ]
     },
     "execution_count": 42,
     "metadata": {},
     "output_type": "execute_result"
    }
   ],
   "source": [
    "#  check for missing values\n",
    "df.isnull().sum()\n",
    "df.dropna(inplace=True)\n",
    "df.isnull().sum()"
   ]
  },
  {
   "cell_type": "code",
   "execution_count": 43,
   "metadata": {},
   "outputs": [
    {
     "name": "stdout",
     "output_type": "stream",
     "text": [
      "features:  (150, 768)\n",
      "target death:  (150,)\n",
      "target survival:  (150,)\n"
     ]
    }
   ],
   "source": [
    "# split the data into features and target\n",
    "\n",
    "X = df.drop([\"Death\", \"Survival\"], axis=1)\n",
    "print(\"features: \", X.shape)\n",
    "y_death = df[\"Death\"]\n",
    "print(\"target death: \", y_death.shape)\n",
    "y_survival = df[\"Survival\"]\n",
    "print(\"target survival: \", y_death.shape)"
   ]
  },
  {
   "cell_type": "markdown",
   "metadata": {},
   "source": [
    "# Classification Deaths\n"
   ]
  },
  {
   "cell_type": "code",
   "execution_count": 44,
   "metadata": {},
   "outputs": [],
   "source": [
    "# split the data into train and test\n",
    "X_train_death, X_test_death, y_train_death, y_test_death = train_test_split(\n",
    "    X, y_death, test_size=0.2, random_state=1121\n",
    ")"
   ]
  },
  {
   "cell_type": "code",
   "execution_count": 45,
   "metadata": {},
   "outputs": [
    {
     "name": "stdout",
     "output_type": "stream",
     "text": [
      "Note: you may need to restart the kernel to use updated packages.\n"
     ]
    }
   ],
   "source": [
    "%pip install --upgrade xgboost lightgbm --quiet"
   ]
  },
  {
   "cell_type": "code",
   "execution_count": 46,
   "metadata": {},
   "outputs": [],
   "source": [
    "from sklearn.ensemble import RandomForestClassifier, AdaBoostClassifier\n",
    "from sklearn.neighbors import KNeighborsClassifier\n",
    "from xgboost import XGBClassifier\n",
    "from lightgbm import LGBMClassifier\n",
    "from sklearn.svm import SVC\n",
    "\n",
    "models = [\n",
    "    (\"SVM\", SVC(random_state=42, C=1.0e-03, kernel=\"linear\", gamma=\"scale\")),\n",
    "    (\n",
    "        \"RF\",\n",
    "        RandomForestClassifier(\n",
    "            random_state=42,\n",
    "            n_estimators=100,\n",
    "            criterion=\"gini\",\n",
    "            max_depth=None,\n",
    "            min_samples_split=2,\n",
    "            min_samples_leaf=1,\n",
    "            max_features=\"sqrt\",\n",
    "            n_jobs=-1,\n",
    "        ),\n",
    "    ),\n",
    "    (\n",
    "        \"XGB\",\n",
    "        XGBClassifier(\n",
    "            random_state=42,\n",
    "            n_estimators=100,\n",
    "            max_depth=6,\n",
    "            learning_rate=0.1,\n",
    "            subsample=0.8,\n",
    "            colsample_bytree=0.8,\n",
    "            n_jobs=-1,\n",
    "        ),\n",
    "    ),\n",
    "    (\n",
    "        \"LGBM\",\n",
    "        LGBMClassifier(\n",
    "            random_state=42,\n",
    "            n_estimators=100,\n",
    "            max_depth=6,\n",
    "            learning_rate=0.1,\n",
    "            subsample=0.8,\n",
    "            colsample_bytree=0.8,\n",
    "            n_jobs=-1,\n",
    "        ),\n",
    "    ),\n",
    "    (\n",
    "        \"KNN\",\n",
    "        KNeighborsClassifier(n_neighbors=3, weights=\"uniform\", algorithm=\"ball_tree\"),\n",
    "    ),\n",
    "    # (\"NB\", GaussianNB()),\n",
    "    (\n",
    "        \"ADA\",\n",
    "        AdaBoostClassifier(\n",
    "            random_state=42, n_estimators=50, learning_rate=0.1, algorithm=\"SAMME\"\n",
    "        ),\n",
    "    ),\n",
    "]"
   ]
  },
  {
   "cell_type": "code",
   "execution_count": 47,
   "metadata": {},
   "outputs": [
    {
     "name": "stdout",
     "output_type": "stream",
     "text": [
      "Starting training for SVM...\n",
      "Accuracy 0.6333333333333333\n",
      "F1_Score 0.49115646258503404\n",
      "Precision 0.4011111111111111\n",
      "Recall 0.6333333333333333\n",
      "roc-auc 0.5\n"
     ]
    },
    {
     "name": "stderr",
     "output_type": "stream",
     "text": [
      "d:\\Project\\llm-guided-classification\\.venv\\Lib\\site-packages\\sklearn\\metrics\\_classification.py:1565: UndefinedMetricWarning: Precision is ill-defined and being set to 0.0 in labels with no predicted samples. Use `zero_division` parameter to control this behavior.\n",
      "  _warn_prf(average, modifier, f\"{metric.capitalize()} is\", len(result))\n"
     ]
    },
    {
     "data": {
      "image/png": "[encoded data removed]",
      "text/plain": [
       "<Figure size 1000x500 with 2 Axes>"
      ]
     },
     "metadata": {},
     "output_type": "display_data"
    },
    {
     "name": "stdout",
     "output_type": "stream",
     "text": [
      "Starting training for RF...\n",
      "Accuracy 0.6333333333333333\n",
      "F1_Score 0.49115646258503404\n",
      "Precision 0.4011111111111111\n",
      "Recall 0.6333333333333333\n",
      "roc-auc 0.5\n"
     ]
    },
    {
     "name": "stderr",
     "output_type": "stream",
     "text": [
      "d:\\Project\\llm-guided-classification\\.venv\\Lib\\site-packages\\sklearn\\metrics\\_classification.py:1565: UndefinedMetricWarning: Precision is ill-defined and being set to 0.0 in labels with no predicted samples. Use `zero_division` parameter to control this behavior.\n",
      "  _warn_prf(average, modifier, f\"{metric.capitalize()} is\", len(result))\n"
     ]
    },
    {
     "data": {
      "image/png": "[encoded data removed]",
      "text/plain": [
       "<Figure size 1000x500 with 2 Axes>"
      ]
     },
     "metadata": {},
     "output_type": "display_data"
    },
    {
     "name": "stdout",
     "output_type": "stream",
     "text": [
      "Starting training for XGB...\n",
      "Accuracy 0.6333333333333333\n",
      "F1_Score 0.49115646258503404\n",
      "Precision 0.4011111111111111\n",
      "Recall 0.6333333333333333\n",
      "roc-auc 0.5\n"
     ]
    },
    {
     "name": "stderr",
     "output_type": "stream",
     "text": [
      "d:\\Project\\llm-guided-classification\\.venv\\Lib\\site-packages\\sklearn\\metrics\\_classification.py:1565: UndefinedMetricWarning: Precision is ill-defined and being set to 0.0 in labels with no predicted samples. Use `zero_division` parameter to control this behavior.\n",
      "  _warn_prf(average, modifier, f\"{metric.capitalize()} is\", len(result))\n"
     ]
    },
    {
     "data": {
      "image/png": "[encoded data removed]",
      "text/plain": [
       "<Figure size 1000x500 with 2 Axes>"
      ]
     },
     "metadata": {},
     "output_type": "display_data"
    },
    {
     "name": "stdout",
     "output_type": "stream",
     "text": [
      "Starting training for LGBM...\n",
      "[LightGBM] [Info] Number of positive: 80, number of negative: 40\n",
      "[LightGBM] [Info] Auto-choosing col-wise multi-threading, the overhead of testing was 0.002082 seconds.\n",
      "You can set `force_col_wise=true` to remove the overhead.\n",
      "[LightGBM] [Info] Total Bins 2304\n",
      "[LightGBM] [Info] Number of data points in the train set: 120, number of used features: 768\n",
      "[LightGBM] [Info] [binary:BoostFromScore]: pavg=0.666667 -> initscore=0.693147\n",
      "[LightGBM] [Info] Start training from score 0.693147\n",
      "[LightGBM] [Warning] No further splits with positive gain, best gain: -inf\n",
      "[LightGBM] [Warning] No further splits with positive gain, best gain: -inf\n",
      "[LightGBM] [Warning] No further splits with positive gain, best gain: -inf\n",
      "[LightGBM] [Warning] No further splits with positive gain, best gain: -inf\n",
      "[LightGBM] [Warning] No further splits with positive gain, best gain: -inf\n",
      "[LightGBM] [Warning] No further splits with positive gain, best gain: -inf\n",
      "[LightGBM] [Warning] No further splits with positive gain, best gain: -inf\n",
      "[LightGBM] [Warning] No further splits with positive gain, best gain: -inf\n",
      "[LightGBM] [Warning] No further splits with positive gain, best gain: -inf\n",
      "[LightGBM] [Warning] No further splits with positive gain, best gain: -inf\n",
      "[LightGBM] [Warning] No further splits with positive gain, best gain: -inf\n",
      "[LightGBM] [Warning] No further splits with positive gain, best gain: -inf\n",
      "[LightGBM] [Warning] No further splits with positive gain, best gain: -inf\n",
      "[LightGBM] [Warning] No further splits with positive gain, best gain: -inf\n",
      "[LightGBM] [Warning] No further splits with positive gain, best gain: -inf\n",
      "[LightGBM] [Warning] No further splits with positive gain, best gain: -inf\n",
      "[LightGBM] [Warning] No further splits with positive gain, best gain: -inf\n",
      "[LightGBM] [Warning] No further splits with positive gain, best gain: -inf\n",
      "[LightGBM] [Warning] No further splits with positive gain, best gain: -inf\n",
      "[LightGBM] [Warning] No further splits with positive gain, best gain: -inf\n",
      "[LightGBM] [Warning] No further splits with positive gain, best gain: -inf\n",
      "[LightGBM] [Warning] No further splits with positive gain, best gain: -inf\n",
      "[LightGBM] [Warning] No further splits with positive gain, best gain: -inf\n",
      "[LightGBM] [Warning] No further splits with positive gain, best gain: -inf\n",
      "[LightGBM] [Warning] No further splits with positive gain, best gain: -inf\n",
      "[LightGBM] [Warning] No further splits with positive gain, best gain: -inf\n",
      "[LightGBM] [Warning] No further splits with positive gain, best gain: -inf\n",
      "[LightGBM] [Warning] No further splits with positive gain, best gain: -inf\n",
      "[LightGBM] [Warning] No further splits with positive gain, best gain: -inf\n",
      "[LightGBM] [Warning] No further splits with positive gain, best gain: -inf\n",
      "[LightGBM] [Warning] No further splits with positive gain, best gain: -inf\n",
      "[LightGBM] [Warning] No further splits with positive gain, best gain: -inf\n",
      "[LightGBM] [Warning] No further splits with positive gain, best gain: -inf\n",
      "[LightGBM] [Warning] No further splits with positive gain, best gain: -inf\n",
      "[LightGBM] [Warning] No further splits with positive gain, best gain: -inf\n",
      "[LightGBM] [Warning] No further splits with positive gain, best gain: -inf\n",
      "[LightGBM] [Warning] No further splits with positive gain, best gain: -inf\n",
      "[LightGBM] [Warning] No further splits with positive gain, best gain: -inf\n",
      "[LightGBM] [Warning] No further splits with positive gain, best gain: -inf\n",
      "[LightGBM] [Warning] No further splits with positive gain, best gain: -inf\n",
      "[LightGBM] [Warning] No further splits with positive gain, best gain: -inf\n",
      "[LightGBM] [Warning] No further splits with positive gain, best gain: -inf\n",
      "[LightGBM] [Warning] No further splits with positive gain, best gain: -inf\n",
      "[LightGBM] [Warning] No further splits with positive gain, best gain: -inf\n",
      "[LightGBM] [Warning] No further splits with positive gain, best gain: -inf\n",
      "[LightGBM] [Warning] No further splits with positive gain, best gain: -inf\n",
      "[LightGBM] [Warning] No further splits with positive gain, best gain: -inf\n",
      "[LightGBM] [Warning] No further splits with positive gain, best gain: -inf\n",
      "[LightGBM] [Warning] No further splits with positive gain, best gain: -inf\n",
      "[LightGBM] [Warning] No further splits with positive gain, best gain: -inf\n",
      "[LightGBM] [Warning] No further splits with positive gain, best gain: -inf\n",
      "[LightGBM] [Warning] No further splits with positive gain, best gain: -inf\n",
      "[LightGBM] [Warning] No further splits with positive gain, best gain: -inf\n",
      "[LightGBM] [Warning] No further splits with positive gain, best gain: -inf\n",
      "[LightGBM] [Warning] No further splits with positive gain, best gain: -inf\n",
      "[LightGBM] [Warning] No further splits with positive gain, best gain: -inf\n",
      "[LightGBM] [Warning] No further splits with positive gain, best gain: -inf\n",
      "[LightGBM] [Warning] No further splits with positive gain, best gain: -inf\n",
      "[LightGBM] [Warning] No further splits with positive gain, best gain: -inf\n",
      "[LightGBM] [Warning] No further splits with positive gain, best gain: -inf\n",
      "[LightGBM] [Warning] No further splits with positive gain, best gain: -inf\n",
      "[LightGBM] [Warning] No further splits with positive gain, best gain: -inf\n",
      "[LightGBM] [Warning] No further splits with positive gain, best gain: -inf\n",
      "[LightGBM] [Warning] No further splits with positive gain, best gain: -inf\n",
      "[LightGBM] [Warning] No further splits with positive gain, best gain: -inf\n",
      "[LightGBM] [Warning] No further splits with positive gain, best gain: -inf\n",
      "[LightGBM] [Warning] No further splits with positive gain, best gain: -inf\n",
      "[LightGBM] [Warning] No further splits with positive gain, best gain: -inf\n",
      "[LightGBM] [Warning] No further splits with positive gain, best gain: -inf\n",
      "[LightGBM] [Warning] No further splits with positive gain, best gain: -inf\n",
      "[LightGBM] [Warning] No further splits with positive gain, best gain: -inf\n",
      "[LightGBM] [Warning] No further splits with positive gain, best gain: -inf\n",
      "[LightGBM] [Warning] No further splits with positive gain, best gain: -inf\n",
      "[LightGBM] [Warning] No further splits with positive gain, best gain: -inf\n",
      "[LightGBM] [Warning] No further splits with positive gain, best gain: -inf\n",
      "[LightGBM] [Warning] No further splits with positive gain, best gain: -inf\n",
      "[LightGBM] [Warning] No further splits with positive gain, best gain: -inf\n",
      "[LightGBM] [Warning] No further splits with positive gain, best gain: -inf\n",
      "[LightGBM] [Warning] No further splits with positive gain, best gain: -inf\n",
      "[LightGBM] [Warning] No further splits with positive gain, best gain: -inf\n",
      "[LightGBM] [Warning] No further splits with positive gain, best gain: -inf\n",
      "[LightGBM] [Warning] No further splits with positive gain, best gain: -inf\n",
      "[LightGBM] [Warning] No further splits with positive gain, best gain: -inf\n",
      "[LightGBM] [Warning] No further splits with positive gain, best gain: -inf\n",
      "[LightGBM] [Warning] No further splits with positive gain, best gain: -inf\n",
      "[LightGBM] [Warning] No further splits with positive gain, best gain: -inf\n",
      "[LightGBM] [Warning] No further splits with positive gain, best gain: -inf\n",
      "[LightGBM] [Warning] No further splits with positive gain, best gain: -inf\n",
      "[LightGBM] [Warning] No further splits with positive gain, best gain: -inf\n",
      "[LightGBM] [Warning] No further splits with positive gain, best gain: -inf\n",
      "[LightGBM] [Warning] No further splits with positive gain, best gain: -inf\n",
      "[LightGBM] [Warning] No further splits with positive gain, best gain: -inf\n",
      "[LightGBM] [Warning] No further splits with positive gain, best gain: -inf\n",
      "[LightGBM] [Warning] No further splits with positive gain, best gain: -inf\n",
      "[LightGBM] [Warning] No further splits with positive gain, best gain: -inf\n",
      "[LightGBM] [Warning] No further splits with positive gain, best gain: -inf\n",
      "[LightGBM] [Warning] No further splits with positive gain, best gain: -inf\n",
      "[LightGBM] [Warning] No further splits with positive gain, best gain: -inf\n",
      "[LightGBM] [Warning] No further splits with positive gain, best gain: -inf\n",
      "[LightGBM] [Warning] No further splits with positive gain, best gain: -inf\n",
      "Accuracy 0.6333333333333333\n",
      "F1_Score 0.49115646258503404\n",
      "Precision 0.4011111111111111\n",
      "Recall 0.6333333333333333\n",
      "roc-auc 0.5\n"
     ]
    },
    {
     "name": "stderr",
     "output_type": "stream",
     "text": [
      "d:\\Project\\llm-guided-classification\\.venv\\Lib\\site-packages\\sklearn\\metrics\\_classification.py:1565: UndefinedMetricWarning: Precision is ill-defined and being set to 0.0 in labels with no predicted samples. Use `zero_division` parameter to control this behavior.\n",
      "  _warn_prf(average, modifier, f\"{metric.capitalize()} is\", len(result))\n"
     ]
    },
    {
     "data": {
      "image/png": "[encoded data removed]",
      "text/plain": [
       "<Figure size 1000x500 with 2 Axes>"
      ]
     },
     "metadata": {},
     "output_type": "display_data"
    },
    {
     "name": "stdout",
     "output_type": "stream",
     "text": [
      "Starting training for KNN...\n",
      "Accuracy 0.6333333333333333\n",
      "F1_Score 0.49115646258503404\n",
      "Precision 0.4011111111111111\n",
      "Recall 0.6333333333333333\n",
      "roc-auc 0.5\n"
     ]
    },
    {
     "name": "stderr",
     "output_type": "stream",
     "text": [
      "d:\\Project\\llm-guided-classification\\.venv\\Lib\\site-packages\\sklearn\\metrics\\_classification.py:1565: UndefinedMetricWarning: Precision is ill-defined and being set to 0.0 in labels with no predicted samples. Use `zero_division` parameter to control this behavior.\n",
      "  _warn_prf(average, modifier, f\"{metric.capitalize()} is\", len(result))\n"
     ]
    },
    {
     "data": {
      "image/png": "[encoded data removed]",
      "text/plain": [
       "<Figure size 1000x500 with 2 Axes>"
      ]
     },
     "metadata": {},
     "output_type": "display_data"
    },
    {
     "name": "stdout",
     "output_type": "stream",
     "text": [
      "Starting training for ADA...\n"
     ]
    },
    {
     "name": "stderr",
     "output_type": "stream",
     "text": [
      "d:\\Project\\llm-guided-classification\\.venv\\Lib\\site-packages\\sklearn\\ensemble\\_weight_boosting.py:519: FutureWarning: The parameter 'algorithm' is deprecated in 1.6 and has no effect. It will be removed in version 1.8.\n",
      "  warnings.warn(\n",
      "d:\\Project\\llm-guided-classification\\.venv\\Lib\\site-packages\\sklearn\\metrics\\_classification.py:1565: UndefinedMetricWarning: Precision is ill-defined and being set to 0.0 in labels with no predicted samples. Use `zero_division` parameter to control this behavior.\n",
      "  _warn_prf(average, modifier, f\"{metric.capitalize()} is\", len(result))\n"
     ]
    },
    {
     "name": "stdout",
     "output_type": "stream",
     "text": [
      "Accuracy 0.6333333333333333\n",
      "F1_Score 0.49115646258503404\n",
      "Precision 0.4011111111111111\n",
      "Recall 0.6333333333333333\n",
      "roc-auc 0.5\n"
     ]
    },
    {
     "data": {
      "image/png": "[encoded data removed]",
      "text/plain": [
       "<Figure size 1000x500 with 2 Axes>"
      ]
     },
     "metadata": {},
     "output_type": "display_data"
    },
    {
     "name": "stdout",
     "output_type": "stream",
     "text": [
      "Models and results saved in ../models/classification/patient_embeddings_scBERT/Death/\n"
     ]
    }
   ],
   "source": [
    "from sklearn.metrics import (\n",
    "    confusion_matrix,\n",
    "    accuracy_score,\n",
    "    roc_auc_score,\n",
    "    recall_score,\n",
    "    precision_score,\n",
    "    f1_score,\n",
    ")\n",
    "\n",
    "DEATH_MODEL_DIR = MODEL_DIR + \"Death/\"\n",
    "# training models\n",
    "if not os.path.exists(DEATH_MODEL_DIR):\n",
    "    os.makedirs(DEATH_MODEL_DIR)\n",
    "\n",
    "metrics = {\n",
    "    \"Accuracy\": accuracy_score,\n",
    "    \"F1 Score\": f1_score,\n",
    "    \"Precision\": precision_score,\n",
    "    \"Recall\": recall_score,\n",
    "    \"roc-auc\": roc_auc_score,\n",
    "}\n",
    "\n",
    "eval_results = {metric: [] for metric in metrics}\n",
    "\n",
    "for name, model in models:\n",
    "    print(f\"Starting training for {name}...\")\n",
    "    model.fit(X_train_death, y_train_death)\n",
    "\n",
    "    model_path = os.path.join(DEATH_MODEL_DIR, name + \".pkl\")\n",
    "    y_pred = model.predict(X_test_death)\n",
    "\n",
    "    Accuracy = accuracy_score(y_test_death, y_pred)\n",
    "    eval_results[\"Accuracy\"].append(Accuracy)\n",
    "    print(\"Accuracy\", Accuracy)\n",
    "\n",
    "    F1_Score = f1_score(y_test_death, y_pred, average=\"weighted\")\n",
    "    eval_results[\"F1 Score\"].append(F1_Score)\n",
    "    print(\"F1_Score\", F1_Score)\n",
    "\n",
    "    Precision = precision_score(y_test_death, y_pred, average=\"weighted\")\n",
    "    eval_results[\"Precision\"].append(Precision)\n",
    "    print(\"Precision\", Precision)\n",
    "\n",
    "    Recall = recall_score(y_test_death, y_pred, average=\"weighted\")\n",
    "    eval_results[\"Recall\"].append(Recall)\n",
    "    print(\"Recall\", Recall)\n",
    "\n",
    "    roc_auc = roc_auc_score(y_test_death, y_pred)\n",
    "    eval_results[\"roc-auc\"].append(roc_auc)\n",
    "    print(\"roc-auc\", roc_auc)\n",
    "\n",
    "    with open(model_path, \"wb\") as f:\n",
    "        pickle.dump(model, f)\n",
    "\n",
    "    # calculate confusion matrix\n",
    "    cm = confusion_matrix(y_test_death, y_pred)\n",
    "    plt.figure(figsize=(10, 5))\n",
    "    sns.heatmap(cm, annot=True, fmt=\"d\", cmap=\"Blues\")\n",
    "    plt.xlabel(\"Predicted\")\n",
    "    plt.ylabel(\"Actual\")\n",
    "    plt.title(f\"{name} Death Prediction Confusion Matrix\")\n",
    "    plt.savefig(os.path.join(DEATH_MODEL_DIR, f\"{name}_confusion_matrix.png\"))\n",
    "    plt.show()\n",
    "    plt.close()\n",
    "\n",
    "results = pd.DataFrame({\"Model\": [name for name, _ in models]})\n",
    "for metric_name in metrics:\n",
    "    results[metric_name] = eval_results[metric_name]\n",
    "\n",
    "results.to_csv(os.path.join(DEATH_MODEL_DIR, \"evaluation_results.csv\"), index=False)\n",
    "print(\"Models and results saved in {}\".format(DEATH_MODEL_DIR))"
   ]
  },
  {
   "cell_type": "code",
   "execution_count": 48,
   "metadata": {},
   "outputs": [
    {
     "data": {
      "image/png": "[encoded data removed]",
      "text/plain": [
       "<Figure size 1000x500 with 1 Axes>"
      ]
     },
     "metadata": {},
     "output_type": "display_data"
    },
    {
     "data": {
      "image/png": "[encoded data removed]",
      "text/plain": [
       "<Figure size 1000x500 with 1 Axes>"
      ]
     },
     "metadata": {},
     "output_type": "display_data"
    },
    {
     "data": {
      "image/png": "[encoded data removed]",
      "text/plain": [
       "<Figure size 1000x500 with 1 Axes>"
      ]
     },
     "metadata": {},
     "output_type": "display_data"
    },
    {
     "data": {
      "image/png": "[encoded data removed]",
      "text/plain": [
       "<Figure size 1000x500 with 1 Axes>"
      ]
     },
     "metadata": {},
     "output_type": "display_data"
    },
    {
     "data": {
      "image/png": "[encoded data removed]",
      "text/plain": [
       "<Figure size 1000x500 with 1 Axes>"
      ]
     },
     "metadata": {},
     "output_type": "display_data"
    },
    {
     "name": "stdout",
     "output_type": "stream",
     "text": [
      "Plots saved in ../models/classification/patient_embeddings_scBERT/Death/\n"
     ]
    }
   ],
   "source": [
    "#  display results\n",
    "\n",
    "for metric_name in metrics:\n",
    "    plt.figure(figsize=(10, 5))\n",
    "    plt.bar([name for name, _ in models], eval_results[metric_name])\n",
    "    plt.ylim([0.0, 1.0])\n",
    "    plt.xlabel(\"Model\")\n",
    "    plt.ylabel(metric_name)\n",
    "    plt.title(f\"Model {metric_name} Death Prediction Comparison\")\n",
    "    plt.savefig(os.path.join(DEATH_MODEL_DIR, f\"{metric_name}_plot.png\"))\n",
    "    plt.show()\n",
    "    plt.close()\n",
    "print(\"Plots saved in {}\".format(DEATH_MODEL_DIR))"
   ]
  },
  {
   "cell_type": "markdown",
   "metadata": {},
   "source": [
    "# Classification Survival\n"
   ]
  },
  {
   "cell_type": "code",
   "execution_count": 49,
   "metadata": {},
   "outputs": [],
   "source": [
    "# split the data into train and test\n",
    "X_train_survival, X_test_survival, y_train_survival, y_test_survival = train_test_split(\n",
    "    X, y_survival, test_size=0.2, random_state=1121\n",
    ")"
   ]
  },
  {
   "cell_type": "code",
   "execution_count": 50,
   "metadata": {},
   "outputs": [],
   "source": [
    "# models selection for regression\n",
    "\n",
    "from sklearn.linear_model import ElasticNet, RidgeCV, LinearRegression, LassoCV\n",
    "\n",
    "models = [\n",
    "    (\"Linear Regression\", LinearRegression()),\n",
    "    (\"Ridge Regression\", RidgeCV(cv=5)),\n",
    "    (\"Lasso Regression\", LassoCV(cv=5)),\n",
    "    (\"Elastic Net\", ElasticNet(alpha=1.0, l1_ratio=0.5)),\n",
    "]"
   ]
  },
  {
   "cell_type": "code",
   "execution_count": 51,
   "metadata": {},
   "outputs": [
    {
     "name": "stdout",
     "output_type": "stream",
     "text": [
      "Starting training for Linear Regression...\n",
      "Mean Squared Error 328202.55687499995\n",
      "Mean Absolute Error 429.7683333333333\n",
      "R2 Score -0.030143843472518972\n"
     ]
    },
    {
     "data": {
      "image/png": "[encoded data removed]",
      "text/plain": [
       "<Figure size 1000x500 with 1 Axes>"
      ]
     },
     "metadata": {},
     "output_type": "display_data"
    },
    {
     "name": "stdout",
     "output_type": "stream",
     "text": [
      "Starting training for Ridge Regression...\n",
      "Mean Squared Error 326606.0195195426\n",
      "Mean Absolute Error 425.9559233670457\n",
      "R2 Score -0.025132721245872958\n"
     ]
    },
    {
     "data": {
      "image/png": "[encoded data removed]",
      "text/plain": [
       "<Figure size 1000x500 with 1 Axes>"
      ]
     },
     "metadata": {},
     "output_type": "display_data"
    },
    {
     "name": "stdout",
     "output_type": "stream",
     "text": [
      "Starting training for Lasso Regression...\n",
      "Mean Squared Error 328198.6134146143\n",
      "Mean Absolute Error 429.7596416666668\n",
      "R2 Score -0.030131465959445825\n"
     ]
    },
    {
     "data": {
      "image/png": "[encoded data removed]",
      "text/plain": [
       "<Figure size 1000x500 with 1 Axes>"
      ]
     },
     "metadata": {},
     "output_type": "display_data"
    },
    {
     "name": "stdout",
     "output_type": "stream",
     "text": [
      "Starting training for Elastic Net...\n",
      "Mean Squared Error 324952.3705627818\n",
      "Mean Absolute Error 421.077301054849\n",
      "R2 Score -0.019942340316815743\n"
     ]
    },
    {
     "data": {
      "image/png": "[encoded data removed]",
      "text/plain": [
       "<Figure size 1000x500 with 1 Axes>"
      ]
     },
     "metadata": {},
     "output_type": "display_data"
    },
    {
     "name": "stdout",
     "output_type": "stream",
     "text": [
      "Models and results saved in ../models/classification/patient_embeddings_scBERT/Survival/\n"
     ]
    }
   ],
   "source": [
    "# train models\n",
    "from sklearn.metrics import mean_absolute_error, mean_squared_error, r2_score\n",
    "\n",
    "\n",
    "SURVIVAL_MODEL_DIR = MODEL_DIR + \"Survival/\"\n",
    "if not os.path.exists(SURVIVAL_MODEL_DIR):\n",
    "    os.makedirs(SURVIVAL_MODEL_DIR)\n",
    "\n",
    "metrics = {\n",
    "    \"Mean Squared Error\": mean_squared_error,\n",
    "    \"Mean Absolute Error\": mean_absolute_error,\n",
    "    \"R2 Score\": r2_score,\n",
    "}\n",
    "\n",
    "\n",
    "eval_results = {metric: [] for metric in metrics}\n",
    "\n",
    "for name, model in models:\n",
    "    print(f\"Starting training for {name}...\")\n",
    "    model.fit(X_train_survival, y_train_survival)\n",
    "\n",
    "    model_path = os.path.join(SURVIVAL_MODEL_DIR, name + \".pkl\")\n",
    "    y_pred = model.predict(X_test_survival)\n",
    "\n",
    "    MSE = mean_squared_error(y_test_survival, y_pred)\n",
    "    eval_results[\"Mean Squared Error\"].append(MSE)\n",
    "    print(\"Mean Squared Error\", MSE)\n",
    "\n",
    "    MAE = mean_absolute_error(y_test_survival, y_pred)\n",
    "    eval_results[\"Mean Absolute Error\"].append(MAE)\n",
    "    print(\"Mean Absolute Error\", MAE)\n",
    "\n",
    "    R2 = r2_score(y_test_survival, y_pred)\n",
    "    eval_results[\"R2 Score\"].append(R2)\n",
    "    print(\"R2 Score\", R2)\n",
    "\n",
    "    with open(model_path, \"wb\") as f:\n",
    "        pickle.dump(model, f)\n",
    "\n",
    "    plt.figure(figsize=(10, 5))\n",
    "    plt.scatter(y_test_survival, y_pred)\n",
    "    plt.xlabel(\"Actual\")\n",
    "    plt.ylabel(\"Predicted\")\n",
    "    plt.title(f\"{name} Survival Prediction Actual vs Predicted\")\n",
    "    plt.savefig(os.path.join(SURVIVAL_MODEL_DIR, f\"{name}_actual_vs_predicted.png\"))\n",
    "    plt.show()\n",
    "    plt.close()\n",
    "\n",
    "\n",
    "results = pd.DataFrame({\"Model\": [name for name, _ in models]})\n",
    "for metric_name in metrics:\n",
    "    results[metric_name] = eval_results[metric_name]\n",
    "\n",
    "results.to_csv(os.path.join(SURVIVAL_MODEL_DIR, \"evaluation_results.csv\"), index=False)\n",
    "print(\"Models and results saved in {}\".format(SURVIVAL_MODEL_DIR))"
   ]
  },
  {
   "cell_type": "code",
   "execution_count": 52,
   "metadata": {},
   "outputs": [
    {
     "data": {
      "image/png": "[encoded data removed]",
      "text/plain": [
       "<Figure size 1000x500 with 1 Axes>"
      ]
     },
     "metadata": {},
     "output_type": "display_data"
    },
    {
     "data": {
      "image/png": "[encoded data removed]",
      "text/plain": [
       "<Figure size 1000x500 with 1 Axes>"
      ]
     },
     "metadata": {},
     "output_type": "display_data"
    },
    {
     "data": {
      "image/png": "[encoded data removed]",
      "text/plain": [
       "<Figure size 1000x500 with 1 Axes>"
      ]
     },
     "metadata": {},
     "output_type": "display_data"
    },
    {
     "name": "stdout",
     "output_type": "stream",
     "text": [
      "Plots saved in ../models/classification/patient_embeddings_scBERT/Survival/\n"
     ]
    }
   ],
   "source": [
    "#  display results\n",
    "\n",
    "for metric_name in metrics:\n",
    "    plt.figure(figsize=(10, 5))\n",
    "    plt.bar([name for name, _ in models], eval_results[metric_name])\n",
    "    plt.ylim([np.min(eval_results[metric_name]), np.max(eval_results[metric_name])])\n",
    "    plt.xlabel(\"Model\")\n",
    "    plt.ylabel(metric_name)\n",
    "    plt.title(f\"Model {metric_name} Survival Prediction Comparison\")\n",
    "    plt.savefig(os.path.join(SURVIVAL_MODEL_DIR, f\"{metric_name}_plot.png\"))\n",
    "    plt.show()\n",
    "    plt.close()\n",
    "print(\"Plots saved in {}\".format(SURVIVAL_MODEL_DIR))"
   ]
  },
  {
   "cell_type": "code",
   "execution_count": null,
   "metadata": {},
   "outputs": [],
   "source": []
  }
 ],
 "metadata": {
  "kernelspec": {
   "display_name": ".venv",
   "language": "python",
   "name": "python3"
  },
  "language_info": {
   "codemirror_mode": {
    "name": "ipython",
    "version": 3
   },
   "file_extension": ".py",
   "mimetype": "text/x-python",
   "name": "python",
   "nbconvert_exporter": "python",
   "pygments_lexer": "ipython3",
   "version": "3.11.9"
  }
 },
 "nbformat": 4,
 "nbformat_minor": 2
}
